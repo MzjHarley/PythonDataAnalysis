{
 "cells": [
  {
   "cell_type": "code",
   "execution_count": 2,
   "id": "5f96b5ed",
   "metadata": {},
   "outputs": [
    {
     "name": "stdout",
     "output_type": "stream",
     "text": [
      "over\n"
     ]
    }
   ],
   "source": [
    "from urllib.request import urlopen\n",
    "url = \"http://www.baidu.com\"\n",
    "resp=urlopen(url)\n",
    "data=resp.read().decode(\"utf-8\")\n",
    "with open(\"mybaidu1.html\",mode='w',encoding=\"utf-8\") as f:  #使用 with 关键字系统会自动调用 f.close() 方法， with 的作用等效于 try/finally 语句是一样的。\n",
    "    f.write(data)\n",
    "    f.close()\n",
    "print(\"over\")\n",
    "resp.close()"
   ]
  },
  {
   "cell_type": "markdown",
   "id": "41f269bc",
   "metadata": {},
   "source": [
    "# web请求过程\n",
    "+ 服务器渲染：在服务器端将数据和html整合在一起，统一返回给客户端\n",
    "+ 客户端渲染：第一次请求返回html骨架（页面源代码看不到数据），第二次请求拿到数据，在客户端进行html和数据的整合。  \n",
    "在爬取网页前要判定其为哪种请求方式。  \n",
    "\n",
    "# HTTP协议\n",
    "协议：两台计算机之间进行数据传输的设置的一个协定，常见的有HTTP,TCP/IP,SMTP...  \n",
    "HTTP:\"Hyper Text Transfer Protocol\",超文本传输协议,用于浏览器和服务器之间的数据交互。\n",
    "HTTP协议将一条信分为三大块内容，无论是请求还是响应。  \n",
    "请求：\n",
    "```\n",
    "请求行：请求方式(get/post),请求的URL地址 协议\n",
    "请求头：放一些服务器要使用的附加信息：如对数据的要求\n",
    "请求体：放一些请求参数，如搜索内容\n",
    "```\n",
    "响应:\n",
    "```\n",
    "状态行：协议，状态码\n",
    "响应头：放一些客户端需要使用的附加信息：如cookie\n",
    "响应体：返回客户端真正需要的内容\n",
    "```\n",
    "user-agent:请求信息的身份标识（请求用什么发送）  \n",
    "referer：防盗链（请求从哪里来）  \n",
    "cookie：本地字符串数据信息(用户登录信息)  \n",
    "请求方式：   \n",
    "GET:查询，显示提交   \n",
    "POST：修改提交，隐示提交"
   ]
  },
  {
   "cell_type": "code",
   "execution_count": 1,
   "id": "381e1359",
   "metadata": {},
   "outputs": [
    {
     "name": "stdout",
     "output_type": "stream",
     "text": [
      "<Response [200]>\n",
      "over\n",
      "--------------------------------------------\n",
      "<Response [200]>\n",
      "over\n"
     ]
    }
   ],
   "source": [
    "import requests\n",
    "url=\"http://www.sogou.com/web?query=周杰伦\"\n",
    "resp = requests.get(url) #采用get请求\n",
    "print(resp)\n",
    "with open(\"sougoujay1.html\",mode='w',encoding=\"utf-8\") as f:\n",
    "    f.write(resp.text)\n",
    "    print(\"over\")\n",
    "resp.close()\n",
    "print(\"--------------------------------------------\")\n",
    "headers={\"User-Agent\":\"Mozilla/5.0 (Windows NT 10.0; Win64; x64) AppleWebKit/537.36 (KHTML,like Gecko) Chrome/102.0.5005.63 Safari/537.36 Edg/102.0.1245.30\"}\n",
    "resp2=requests.get(url,headers=headers)\n",
    "print(resp2)\n",
    "with open(\"sougoujay2.html\",mode='w',encoding=\"utf-8\") as f:\n",
    "    f.write(resp2.text)\n",
    "    print(\"over\")\n",
    "resp2.close()"
   ]
  },
  {
   "cell_type": "code",
   "execution_count": 9,
   "id": "4f25b409",
   "metadata": {},
   "outputs": [
    {
     "name": "stdout",
     "output_type": "stream",
     "text": [
      "输入你喜欢的明星:周杰伦\n",
      "<Response [200]>\n",
      "over\n"
     ]
    }
   ],
   "source": [
    "import requests\n",
    "query=input(\"输入你喜欢的明星:\")\n",
    "url='http://www.sogou.com/web?query='+query\n",
    "headers={\"User-Agent\":\"Mozilla/5.0 (Windows NT 10.0; Win64; x64) AppleWebKit/537.36 (KHTML,like Gecko) Chrome/102.0.5005.63 Safari/537.36 Edg/102.0.1245.30\"}\n",
    "resp3=requests.get(url,headers=headers)\n",
    "print(resp3)\n",
    "data=resp3.text\n",
    "with open(\"sougoustar.html\",mode='w',encoding='utf-8') as f:\n",
    "    f.write(data)\n",
    "    print(\"over\")\n",
    "resp3.close()"
   ]
  },
  {
   "cell_type": "code",
   "execution_count": 11,
   "id": "0577369d",
   "metadata": {},
   "outputs": [
    {
     "name": "stdout",
     "output_type": "stream",
     "text": [
      "请输入你要查的单词:hero\n",
      "{'errno': 0, 'data': [{'k': 'hero', 'v': 'n. 英雄，勇士; 男主角; （古代神话中的）神人，半神的勇士'}, {'k': 'Hero', 'v': '[人名] 海罗; [电影]英雄'}, {'k': 'HERO', 'v': 'abbr. Hazard of Electromag netic Radiation of Ordn'}, {'k': 'Herod', 'v': 'n. 希律王（约公元前73-公元前4）'}, {'k': 'heron', 'v': 'n. <动>鹭'}]}\n"
     ]
    }
   ],
   "source": [
    "import requests\n",
    "url=\"https://fanyi.baidu.com/sug\"\n",
    "s=input(\"请输入你要查的单词:\")\n",
    "data={\"kw\":s}#发送的数据必须放在字典中\n",
    "resp=requests.post(url,data=data)\n",
    "print(resp.json()) #将服务器返回的内容直接处理成json，实际上是转换成python字典形式"
   ]
  },
  {
   "cell_type": "code",
   "execution_count": 27,
   "id": "26bd6900",
   "metadata": {},
   "outputs": [
    {
     "name": "stdout",
     "output_type": "stream",
     "text": [
      "https://movie.douban.com/j/chart/top_list?type=24&interval_id=100%3A90&action=&start=0&limit=20\n",
      "over\n",
      "{'User-Agent': 'python-requests/2.26.0', 'Accept-Encoding': 'gzip, deflate, br', 'Accept': '*/*', 'Connection': 'keep-alive'}\n",
      "over\n"
     ]
    }
   ],
   "source": [
    "import requests\n",
    "import json\n",
    "url=\"https://movie.douban.com/j/chart/top_list\"\n",
    "params={\n",
    "    \"type\": \"24\",\n",
    "    \"interval_id\": \"100:90\",\n",
    "    \"action\": \"\",\n",
    "    \"start\": 0,\n",
    "    \"limit\": 20\n",
    "}\n",
    "resp=requests.get(url,params=params)\n",
    "print(resp.request.url)\n",
    "with open(\"douban1.html\",mode='w',encoding='utf-8') as f:\n",
    "    f.write(resp.text)#被反爬\n",
    "    print(\"over\")\n",
    "print(resp.request.headers)#查看用户，请求从哪里发送\n",
    "headers={\"User-Agent\": \"Mozilla/5.0 (Windows NT 10.0; Win64; x64) AppleWebKit/537.36 (KHTML, like Gecko) Chrome/102.0.5005.63 Safari/537.36 Edg/102.0.1245.30\"}\n",
    "resp=requests.get(url,params=params,headers=headers)\n",
    "with open(\"douban2.txt\",mode='w',encoding='utf-8') as f:\n",
    "    f.write(resp.text)\n",
    "    print(\"over\")\n",
    "resp.close()"
   ]
  },
  {
   "cell_type": "markdown",
   "id": "17966b0f",
   "metadata": {},
   "source": [
    "# 数据解析\n",
    "+ re解析\n",
    "+ bs4解析\n",
    "+ xpath解析"
   ]
  },
  {
   "cell_type": "markdown",
   "id": "9cbb8bfa",
   "metadata": {},
   "source": [
    "## re解析\n",
    "regular expression，正则表达式，一种使用表达式的方式对字符串进行匹配的语法规则  \n",
    "正则的语法：使用元字符进行排列组合来匹配字符串。\n",
    "每个元字符默认只匹配一个字符\n",
    "```\n",
    "    .:匹配除换行符以外的任意单个字符\n",
    "    \\w:匹配数字/字母/下划线\n",
    "    \\W:匹配非数字/字母/下划线\n",
    "    \\s:匹配任意空白符\n",
    "    \\S:匹配非任意空白符\n",
    "    \\d:匹配数字\n",
    "    \\D:匹配非数字\n",
    "    \\n:匹配一个换行符\n",
    "    \\t:匹配一个制表符\n",
    "    ^:匹配字符串的开始\n",
    "    $:匹配字符串的结尾\n",
    "    a|b:匹配字符a或者字符b\n",
    "    ():匹配括号内的表达式\n",
    "    [...]:匹配到中括号中的字符，如[a-zA-Z0-9_]相当于\\w\n",
    "    [^...]:匹配到除了中括号中的所有字符，如[^a-zA-Z0-9_]相当于\\W\n",
    "```\n",
    "量词\n",
    "```\n",
    "    *：重复0次或者更多次\n",
    "    +：重复1次或者更多次\n",
    "    ？：重复0次或者1次\n",
    "   {n}:重复n次\n",
    "   {n,}:重复n次或者更多次\n",
    "   {n,m}:重复n到m次\n",
    "   .*？：惰性匹配 ，尽可能少的匹配  \n",
    "   .*：贪婪匹配，尽可能多的匹配\n",
    "```"
   ]
  },
  {
   "cell_type": "markdown",
   "id": "bc75996e",
   "metadata": {},
   "source": [
    "### re解析实战"
   ]
  },
  {
   "cell_type": "code",
   "execution_count": 29,
   "id": "99cbaadd",
   "metadata": {},
   "outputs": [
    {
     "name": "stdout",
     "output_type": "stream",
     "text": [
      "['10010', '100896']\n",
      "-----------\n",
      "<callable_iterator object at 0x0000024E70D6CB80>\n",
      "<re.Match object; span=(16, 21), match='10010'>\n",
      "10010\n",
      "<re.Match object; span=(22, 28), match='100896'>\n",
      "100896\n",
      "-----------\n",
      "<re.Match object; span=(16, 21), match='10010'>\n",
      "10010\n",
      "-----------\n",
      "<re.Match object; span=(0, 5), match='10010'>\n",
      "10010\n",
      "(0, 5)\n",
      "-----------\n",
      "10010\n",
      "100896\n"
     ]
    }
   ],
   "source": [
    "import re\n",
    "list1=re.findall(\"\\d+\",\"my phone number:10010,100896\")\n",
    "print(list1)\n",
    "print(\"-----------\")\n",
    "it=re.finditer(\"\\d+\",\"my phone number:10010,100896\")#返回一个迭代器对象\n",
    "print(it)\n",
    "for i in it:\n",
    "    print(i)\n",
    "    print(i.group())\n",
    "print(\"-----------\")\n",
    "s=re.search(\"\\d+\",\"my phone number:10010,100896\")#search找到一个结果就返回，返回结果是match对象\n",
    "print(s)\n",
    "print(s.group())\n",
    "print(\"-----------\")\n",
    "m=re.match(\"\\d+\",\"10010,100896\")#从头开始匹配,相当于\"^\\d+\",找到一个结果就返回\n",
    "print(m)\n",
    "print(m.group())\n",
    "print(m.span())\n",
    "print(\"-----------\")\n",
    "#预加载正则表达式\n",
    "obj=re.compile(\"\\d+\")\n",
    "ret=obj.finditer(\"my phone number:10010,100896\")\n",
    "for i in ret:\n",
    "    print(i.group())"
   ]
  },
  {
   "cell_type": "code",
   "execution_count": 1,
   "id": "b3f71adc",
   "metadata": {},
   "outputs": [
    {
     "name": "stdout",
     "output_type": "stream",
     "text": [
      "<re.Match object; span=(1, 47), match=\"<div class='jay'><span id='1'>周杰伦</span></div>\">\n",
      "<re.Match object; span=(48, 93), match=\"<div class='jj'><span id='2'>林俊杰</span></div>\">\n",
      "<re.Match object; span=(94, 142), match=\"<div class='jolin'><span id='3'>范思哲</span></div>\">\n",
      "<re.Match object; span=(143, 191), match=\"<div class='sylar'><span id='4'>邓紫棋</span></div>\">\n",
      "<re.Match object; span=(192, 238), match=\"<div class='tory'><span id='5'>胡歌</span></div>\">\n",
      "jay  1  周杰伦\n",
      "jj  2  林俊杰\n",
      "jolin  3  范思哲\n",
      "sylar  4  邓紫棋\n",
      "tory  5  胡歌\n"
     ]
    }
   ],
   "source": [
    "import re\n",
    "#Python中三引号可以将复杂的字符串进行赋值，允许一个字符串跨多行，字符串中可以包含换行符、制表符以及其他特殊字符。\n",
    "s=\"\"\"\n",
    "<div class='jay'><span id='1'>周杰伦</span></div>\n",
    "<div class='jj'><span id='2'>林俊杰</span></div>\n",
    "<div class='jolin'><span id='3'>范思哲</span></div>\n",
    "<div class='sylar'><span id='4'>邓紫棋</span></div>\n",
    "<div class='tory'><span id='5'>胡歌</span></div>\n",
    "\"\"\"\n",
    "obj=re.compile(\"<div class='.*?'><span id='\\d+'>.*?</span></div>\")\n",
    "iter1=obj.finditer(s)\n",
    "for i in iter1:\n",
    "    print(i)\n",
    "#(?P<key>正则表达式)将值赋给key，可通过group访问\n",
    "obj1=re.compile(\"<div class='(?P<class>.*?)'><span id='(?P<id>\\d+)'>(?P<name>.*?)</span></div>\")\n",
    "iter2=obj1.finditer(s)\n",
    "for i in iter2:\n",
    "    print(i.group(\"class\"),end=\"  \")\n",
    "    print(i.group(\"id\"),end=\"  \")\n",
    "    print(i.group(\"name\"))   "
   ]
  },
  {
   "cell_type": "markdown",
   "id": "6327fb22",
   "metadata": {},
   "source": [
    "#### 爬取豆瓣top电影"
   ]
  },
  {
   "cell_type": "code",
   "execution_count": 31,
   "id": "2f2868ef",
   "metadata": {},
   "outputs": [
    {
     "name": "stdout",
     "output_type": "stream",
     "text": [
      "over\n"
     ]
    }
   ],
   "source": [
    "import requests\n",
    "import re\n",
    "import csv\n",
    "url=\"https://movie.douban.com/chart\"\n",
    "headers={\"User-Agent\": \"Mozilla/5.0 (Windows NT 10.0; Win64; x64) AppleWebKit/537.36 (KHTML, like Gecko) Chrome/102.0.5005.63 Safari/537.36 Edg/102.0.1245.30\"}\n",
    "resp=requests.get(url,headers=headers)\n",
    "data=resp.text\n",
    "obj=re.compile('<table width=\"100%\" class=\"\">.*?title=\"(?P<name>.*?)\">.*?<p class=\"pl\">(?P<time>.*?)/.*?<span class=\"rating_nums\">(?P<grade>.*?)</span>.*?<span class=\"pl\">(?P<people>.*?)</span>',re.S)#re.S让.能匹配到换行符\n",
    "iter1=obj.finditer(data)\n",
    "f=open(\"豆瓣top电影.csv\",'w',newline=\"\")\n",
    "f1=csv.writer(f)\n",
    "for i in iter1:\n",
    "    f1.writerow(i.groupdict().values())   \n",
    "print(\"over\")\n",
    "f.close()\n",
    "resp.close()"
   ]
  },
  {
   "cell_type": "markdown",
   "id": "ab052b1b",
   "metadata": {},
   "source": [
    "#### 爬取盗影天堂影片下载地址"
   ]
  },
  {
   "cell_type": "code",
   "execution_count": 69,
   "id": "8acfa424",
   "metadata": {},
   "outputs": [
    {
     "name": "stdout",
     "output_type": "stream",
     "text": [
      "over\n"
     ]
    }
   ],
   "source": [
    "import requests\n",
    "import re\n",
    "import csv\n",
    "url1=\"http://dytt89.com/\"\n",
    "header={\"User-Agent\": \"Mozilla/5.0 (Windows NT 10.0; Win64; x64) AppleWebKit/537.36 (KHTML, like Gecko) Chrome/102.0.5005.63 Safari/537.36 Edg/102.0.1245.33\"}\n",
    "resp1=requests.get(url1,headers=headers)\n",
    "resp1.encoding='gbk'\n",
    "data=resp1.text\n",
    "with open(\"盗版天堂.html\",mode='w',encoding='gbk') as f:\n",
    "    f.write(data)\n",
    "    print(\"over\")\n",
    "obj=re.compile('2022必看热片.*?<ul>(?P<ul>.*?)</ul>',re.S)\n",
    "iter1=obj.finditer(data)\n",
    "for i in iter1:\n",
    "    data2=i.group(\"ul\")\n",
    "obj1=re.compile(\"<a href='(?P<herf>.*?)'.*?>(?P<title>.*?)</a>\",re.S)\n",
    "iter2=obj1.finditer(data2)\n",
    "f=open(\"2022热片及下载地址.csv\",mode='w',newline=\"\")\n",
    "f1=csv.writer(f)\n",
    "for i in iter2:\n",
    "    url2=\"http://dytt89.com/\"+i.group('herf').strip(\"/\")\n",
    "    resp2=requests.get(url2,headers=headers)\n",
    "    resp2.encoding='gbk'\n",
    "    data3=resp2.text\n",
    "    obj2=re.compile('<td style=\"WORD-WRAP: break-word\" bgcolor=\"#fdfddf\"><a href=\"(?P<download>.*?)\"',re.S)\n",
    "    ret=obj2.search(data3)\n",
    "    list1=[]\n",
    "    list1.append(i.group(\"title\"))\n",
    "    list1.append(ret.group(\"download\"))\n",
    "    f1.writerow(list1)\n",
    "    resp2.close()\n",
    "f.close()\n",
    "resp1.close()\n",
    "#re.match() 从头匹配一个符合规则的字符串，从起始位置开始匹配，匹配成功返回一个对象，未匹配成功返回None。\n",
    "#re.search()浏览全部字符串，匹配第一符合规则的字符串，浏览整个字符串去匹配第一个，未匹配成功返回None。\n",
    "#如果字符串开头就与关键字不匹配，那么就无法使用.match()方法。\n",
    "#如果一个字符串中有多个符合匹配规则的配置项，想获得第二个匹配结果，那么就无法是使用.search()方法。"
   ]
  },
  {
   "cell_type": "markdown",
   "id": "55427216",
   "metadata": {},
   "source": [
    "## bs4解析\n",
    "BeautifulSoup，通过html标签和属性去定位页面上的内容  \n",
    "1.从bs4中导入beautifulsoup函数  \n",
    "2.将获取的页面源代码交给beautifulsoup处理，生成bs4对象  \n",
    "3.调用其内部地find方法或者find_all方法，以标签和属性为参数一步步缩小范围  \n",
    "4.再通过text方法获得其标签内的内容"
   ]
  },
  {
   "cell_type": "markdown",
   "id": "ba7aef58",
   "metadata": {},
   "source": [
    "### bs4解析实战"
   ]
  },
  {
   "cell_type": "markdown",
   "id": "5d81e613",
   "metadata": {},
   "source": [
    "#### 北京新发地菜价爬取蔬菜前5页内容\n",
    "由于其网页源代码的重构所以这里不能用bs4解析，因此这里我们采用re解析进行处理"
   ]
  },
  {
   "cell_type": "code",
   "execution_count": 69,
   "id": "2eed3dfc",
   "metadata": {},
   "outputs": [
    {
     "name": "stdout",
     "output_type": "stream",
     "text": [
      "over\n",
      "over\n",
      "over\n",
      "over\n",
      "over\n"
     ]
    }
   ],
   "source": [
    "import requests\n",
    "import re\n",
    "import csv\n",
    "url=\"http://www.xinfadi.com.cn/getPriceData.html\"\n",
    "headers={\"User-Agent\": \"Mozilla/5.0 (Windows NT 10.0; Win64; x64) AppleWebKit/537.36 (KHTML, like Gecko) Chrome/102.0.5005.63 Safari/537.36 Edg/102.0.1245.33\"}\n",
    "params={\n",
    "    \"limit\": 20,\n",
    "    \"current\":\"\", \n",
    "    \"pubDateStartTime\":\"\",\n",
    "    \"pubDateEndTime\": \"\",\n",
    "    \"prodPcatid\": \"\",\n",
    "    \"prodCatid\": \"\",\n",
    "    \"prodName\": \"\"\n",
    "}\n",
    "f=open(\"新发地蔬菜.csv\",mode='w',newline=\"\")\n",
    "f1=csv.writer(f)\n",
    "obj=re.compile('prodName\":\"(?P<name>.*?)\".*?\"lowPrice\":\"(?P<lowPrice>.*?)\",\"highPrice\":\"(?P<highPrice>.*?)\",\"avgPrice\":\"(?P<avgPrice>.*?)\",\"place\":\"(?P<place>.*?)\",\"specInfo\":\"(?P<specInfo>.*?)\",\"unitInfo\":\"(?P<unitInfo>.*?)\",\"pubDate\":\"(?P<pubDate>.*?)\"',re.S)\n",
    "for i in range(1,6):\n",
    "    params['current']=i\n",
    "    resp=requests.post(url,headers=headers,params=params)\n",
    "    data=resp.text\n",
    "    iter1=obj.finditer(data)\n",
    "    for i in iter1:\n",
    "        f1.writerow(i.groupdict().values())\n",
    "    print(\"over\")\n",
    "f.close()\n",
    "resp.close()"
   ]
  },
  {
   "cell_type": "markdown",
   "id": "4bda0c5b",
   "metadata": {},
   "source": [
    "#### 抓取优美图库图片"
   ]
  },
  {
   "cell_type": "code",
   "execution_count": 8,
   "id": "4b0444ff",
   "metadata": {},
   "outputs": [
    {
     "name": "stdout",
     "output_type": "stream",
     "text": [
      "over 9e5827678bd12db0999a573254e40d1e.jpg\n",
      "over 718c092b7239a6c185c2a0fc3167bef8.jpg\n",
      "over 26291c282da777b06d9ca389cad82d7f.jpg\n",
      "over d52d1b3880854b7963b72eab6234b53e.jpg\n",
      "over e5d9c2e8a189059e61f6f757aedb79e4.jpg\n",
      "over 7fe975add2196501191db41a6dddfe21.jpg\n",
      "over ba34fff6a58897cc5362b79e477c06d8.jpg\n",
      "over d2c8044b3aad7678456206a7787632f6.jpg\n",
      "over 83db2e50ceeab45aae2e4121e3b9ed86.jpg\n",
      "over b66e5a43535d333dc83b5ea5f5256115.jpg\n",
      "all over\n"
     ]
    }
   ],
   "source": [
    "import requests\n",
    "from bs4 import BeautifulSoup\n",
    "import time\n",
    "url=\"https://www.umei.cc/bizhitupian/weimeibizhi/\"\n",
    "headers={\"user-agent\":\"Mozilla/5.0 (Windows NT 10.0; Win64; x64) AppleWebKit/537.36 (KHTML, like Gecko) Chrome/102.0.5005.63 Safari/537.36 Edg/102.0.1245.33\"}\n",
    "resp=requests.get(url,headers=headers)\n",
    "resp.encoding='utf-8'\n",
    "main_page=BeautifulSoup(resp.text,\"html.parser\")\n",
    "alist=main_page.find(\"ul\",class_=\"pic-list after\").find_all(\"a\")\n",
    "for i in alist[0:10]:\n",
    "    herf=i.get(\"href\")\n",
    "    child_page_resp=requests.get(\"https://www.umei.cc\"+herf,headers=headers)\n",
    "    child_page_resp.encoding='utf-8'\n",
    "    child_page=BeautifulSoup(child_page_resp.text,\"html.parser\")\n",
    "    section=child_page.find(\"section\",class_=\"img-content\")\n",
    "    img=section.find(\"img\")\n",
    "    img_url=img.get(\"src\")\n",
    "    img_resp=requests.get(img_url,headers=headers)\n",
    "    img_name=img_url.split(\"/\")[-1]\n",
    "    with open(\"../Photo/\"+img_name,mode='wb') as f:\n",
    "        f.write(img_resp.content)#拿到该图片的字节形式\n",
    "    print(\"over\",img_name)\n",
    "    img_resp.close()\n",
    "    time.sleep(1)\n",
    "\n",
    "print(\"all over\")\n",
    "resp.close()"
   ]
  },
  {
   "cell_type": "markdown",
   "id": "0d1eb9fb",
   "metadata": {},
   "source": [
    "## xpath解析\n",
    "xpath是XML文档搜索内容的一门语言  \n",
    "html是xml的一个子集"
   ]
  },
  {
   "cell_type": "markdown",
   "id": "7a8880ef",
   "metadata": {},
   "source": [
    "### xpath实战"
   ]
  },
  {
   "cell_type": "markdown",
   "id": "e5e8fc8f",
   "metadata": {},
   "source": [
    "#### 爬取猪八戒网"
   ]
  },
  {
   "cell_type": "code",
   "execution_count": 55,
   "id": "d894a935",
   "metadata": {
    "scrolled": true
   },
   "outputs": [
    {
     "name": "stdout",
     "output_type": "stream",
     "text": [
      "over\n"
     ]
    }
   ],
   "source": [
    "import requests \n",
    "from lxml import etree\n",
    "import csv\n",
    "url=\"https://nanyang.zbj.com/search/f/?kw=saas\"\n",
    "headers={\"User-Agent\": \"Mozilla/5.0 (Windows NT 10.0; Win64; x64) AppleWebKit/537.36 (KHTML, like Gecko) Chrome/102.0.5005.63 Safari/537.36 Edg/102.0.1245.33\"}\n",
    "resp=requests.get(url,headers=headers)\n",
    "html=etree.HTML(resp.text) # 加载html代码\n",
    "div_list=html.xpath(\"/html/body/div[6]/div/div/div[2]/div[5]/div[1]/div\") #拿到该xpath下的节点列表,下标从1开始\n",
    "f=open(\"猪八戒网saas爬取.csv\",mode='w',newline=\"\")\n",
    "f1=csv.writer(f)\n",
    "for div in div_list:\n",
    "    name=div.xpath(\"./div/div/a[1]/div[1]/p/text()\")[1].strip(\"\\n\")\n",
    "    loc=div.xpath(\"./div/div/a[1]/div[1]/div/span/text()\")[0]\n",
    "    value=div.xpath(\"./div/div/a[2]/div[@class='service-info-wrap']/div[1]/span[1]/text()\")[0].strip(\"¥\")\n",
    "    title=div.xpath(\"./div/div/a[2]/div[@class='service-info-wrap']/div[2]/p/text()\")\n",
    "    title=\"saas\".join(title)\n",
    "    demand=div.xpath(\"./div/div/a[2]/div[@class='service-info-wrap']/div[3]/span/text()\")\n",
    "    demand=(\",\").join(demand)\n",
    "    list1=[title,name,loc,value,demand]\n",
    "    f1.writerow(list1)  \n",
    "print(\"over\")\n",
    "f.close()    \n",
    "resp.close()"
   ]
  },
  {
   "cell_type": "markdown",
   "id": "0d1edc60",
   "metadata": {},
   "source": [
    "## cookie处理登录17k小说网"
   ]
  },
  {
   "cell_type": "code",
   "execution_count": 83,
   "id": "e114caf3",
   "metadata": {},
   "outputs": [
    {
     "name": "stdout",
     "output_type": "stream",
     "text": [
      "<RequestsCookieJar[<Cookie accessToken=avatarUrl%3Dhttps%253A%252F%252Fcdn.static.17k.com%252Fuser%252Favatar%252F08%252F08%252F49%252F96964908.jpg-88x88%253Fv%253D1654606766000%26id%3D96964908%26nickname%3D%25E4%25B9%25A6%25E5%258F%258Bx579304A2%26e%3D1670162135%26s%3Dcf661eefeecb3669 for .17k.com/>, <Cookie c_channel=0 for .17k.com/>, <Cookie c_csc=web for .17k.com/>, <Cookie uuid=7378A2BB-C2EE-E80B-6B4F-CA4C3B0B1273 for .17k.com/>]>\n",
      "我七个姐姐绝世无双\n",
      "我在菜市口斩妖除魔那些年\n",
      "新婚夜，我凭孕吐火爆娱乐圈\n",
      "震惊！我的徒弟居然是女帝\n",
      "选秀综艺后，玄学大佬制霸娱乐圈\n"
     ]
    }
   ],
   "source": [
    "import requests\n",
    "session=requests.session()\n",
    "data={\n",
    "    \"loginName\":\"\", #写自己的\n",
    "    \"password\":\"\"   #写自己的\n",
    "}\n",
    "url=\"https://passport.17k.com/ck/user/login\"\n",
    "resp=session.post(url,data=data)#创建一个会话，该会话就相当于一串连续的请求，在这个过程中cookie不会丢失,data和params参数是一致的，data不会改变url，params会\n",
    "print(session.cookies)\n",
    "#以上使会话获得cookie\n",
    "url1=\"https://user.17k.com/ck/author/shelf?page=1&appKey=2406394919\"\n",
    "resp1=session.get(url1)\n",
    "for i in resp1.json()['data']:\n",
    "    print(i.get('bookName')) #新用户默认读取到自动推荐的书"
   ]
  },
  {
   "cell_type": "code",
   "execution_count": 1,
   "id": "110333e8",
   "metadata": {},
   "outputs": [
    {
     "name": "stdout",
     "output_type": "stream",
     "text": [
      "我七个姐姐绝世无双\n",
      "我在菜市口斩妖除魔那些年\n",
      "新婚夜，我凭孕吐火爆娱乐圈\n",
      "震惊！我的徒弟居然是女帝\n",
      "选秀综艺后，玄学大佬制霸娱乐圈\n"
     ]
    }
   ],
   "source": [
    "import requests\n",
    "url=\"https://user.17k.com/ck/author/shelf?page=1&appKey=2406394919\"\n",
    "resp=requests.get(url,headers={\"Cookie\":\"\"}#写自己的cookie\n",
    "for i in resp.json()['data']:\n",
    "    print(i.get('bookName'))"
   ]
  },
  {
   "cell_type": "markdown",
   "id": "e7803634",
   "metadata": {},
   "source": [
    "## 防盗链的处理\n",
    "爬取梨视频"
   ]
  },
  {
   "cell_type": "code",
   "execution_count": 19,
   "id": "bf622a98",
   "metadata": {},
   "outputs": [
    {
     "name": "stdout",
     "output_type": "stream",
     "text": [
      "{'resultCode': '5', 'resultMsg': '该文章已经下线！', 'systemTime': '1654654058133'}\n",
      "https://video.pearvideo.com/mp4/adshort/20220607/1654654058324-15892168_adpkg-ad_hd.mp4\n",
      "https://video.pearvideo.com/mp4/adshort/20220607/cont-1764627-15892168_adpkg-ad_hd.mp4\n",
      "over\n"
     ]
    }
   ],
   "source": [
    "import requests\n",
    "url=\"https://www.pearvideo.com/video_1764627\"\n",
    "cont_id=url.split(\"_\")[-1]\n",
    "url1=\"https://www.pearvideo.com/videoStatus.jsp?contId=1764627&mrd=0.7890608429828905\"\n",
    "resp = requests.get(url1)\n",
    "print(resp.json()) #触发反爬机制\n",
    "resp.close()\n",
    "headers ={\n",
    "    \"Referer\": \"https://www.pearvideo.com/video_1764627\"\n",
    "}\n",
    "resp1 = requests.get(url1,headers=headers)\n",
    "url2=resp1.json()['videoInfo']['videos']['srcUrl']\n",
    "system_time=resp1.json()['systemTime']\n",
    "print(url2)\n",
    "video_url=url2.replace(system_time,f\"cont-{cont_id}\") #f-string的大括号 {} 可以填入表达式或调用函数，Python会求出其结果并填入返回的字符串内：\n",
    "print(video_url)\n",
    "resp1.close()\n",
    "resp2=requests.get(video_url)\n",
    "with open(\"梨视频.mp4\",mode='wb') as f:\n",
    "    f.write(resp2.content)\n",
    "    print(\"over\")\n",
    "resp2.close()"
   ]
  },
  {
   "cell_type": "markdown",
   "id": "b5c77a03",
   "metadata": {},
   "source": [
    "## 代理ip"
   ]
  },
  {
   "cell_type": "code",
   "execution_count": 29,
   "id": "fc05fd90",
   "metadata": {},
   "outputs": [],
   "source": [
    "import requests\n",
    "url=\"https://www.baidu.com\"\n",
    "proxies={\"https\":\"https://91.67.201.74:8118\"}\n",
    "resp=requests.get(url,proxies=proxies,verify=False)\n",
    "resp.close()"
   ]
  },
  {
   "cell_type": "markdown",
   "id": "9eb99d23",
   "metadata": {},
   "source": [
    "## 爬取网易云评论，直接拿加密后的表单数据"
   ]
  },
  {
   "cell_type": "code",
   "execution_count": 31,
   "id": "27995f02",
   "metadata": {},
   "outputs": [
    {
     "name": "stdout",
     "output_type": "stream",
     "text": [
      "2022.6.7听闻华坪女高校长张桂梅“先生”事迹  专程来听一遍\n",
      "2022.6.7听闻华女高校长张桂梅“先生”事迹  专程来听一遍\n",
      "2021.6.7听闻华女高校长张桂梅“先生”事迹  专程来听一遍\n",
      "好好听[多多大哭]\n",
      "缅甸国歌[多多比耶]\n",
      "清流\n",
      "加油。三年后再见\n",
      "张桂梅校长，希望您身体健康！\n",
      "抖音里那只八哥儿\n",
      "卧槽\n",
      "哪有什么负重前行，只是有人替我们岁月静好\n",
      "这首歌词一下回到乾隆年代了[呆]\n",
      "看那个视频的时候，差点儿哭了\n",
      "听的我哭了T﹏T。\n",
      "小兄弟，只能说你比他们成熟，等他们长大了，就能知道自己之前多么愚蠢。\n",
      "祝学姐学长们旗开得胜，前程似锦，金榜题名\n",
      "我爱中华人民共和国\n",
      "高考上岸！上本科！\n",
      "加油\n",
      "加油！\n"
     ]
    }
   ],
   "source": [
    "import requests\n",
    "data={\n",
    "    \"params\": \"YvNQJHOM/X+JHkLAdAh9M/hFkosPOn0DorhOfiUg/wrPqY3cxDBYG5Fda9G507ukHAixs55NlpOltF//jDB9KEcitPMAM0P0gtZMqGzs9LosvfWRFteEV/dfaZFDfGcrRkbrYvdpYZ6vObaAnXU2LOsxqBKNHk2HfTWb1W0PBScTyagWTKQ7NGbYE5x9OEb36uOLoQ+TG0FTWgRFyOd2zpVxc7jkxZ0IAjxu3qF8nX49HtxizlX8KLqbYLNFMLEaiQ1cH3LE6y3F2QbVJasVI7HOYqL0A1nACPIgUMcnpqQ=\",\n",
    "    \"encSecKey\": \"7f53cbaf3eda4e623f4e387247efa289df723d16b5d6517c7133e46e2d633b5918cfda3703f180bf552fbb5247097ee1bc6c74bbd00bccbe377fe70e330ba09367b3c04cee93ade18c4663bf2427108ea693f2d9314bc175b1ee947b4bd82cc7d6d13b073777bd5afdf533eae9f63c56eaf835cc515575f057cd871e2ed7992d\"\n",
    "}\n",
    "resp = requests.post(\"https://music.163.com/weapi/comment/resource/comments/get?csrf_token=\",data=data)\n",
    "for i in resp.json()['data']['comments']:\n",
    "    print(i['content'])\n",
    "resp.close()"
   ]
  },
  {
   "cell_type": "markdown",
   "id": "f8ce2400",
   "metadata": {},
   "source": [
    "## 爬取网易云前3页评论，直接找到明文数据，计算加密后的表单数据"
   ]
  },
  {
   "cell_type": "markdown",
   "id": "9b5d9e6b",
   "metadata": {},
   "source": [
    "### 网易云明文加密方式\n",
    "加密函数入口为d\n",
    "```js\n",
    "//a为数据\n",
    "//a函数生成16位随机的字符串\n",
    "function a(a) \n",
    "{\n",
    "    var d, e, b = \"abcdefghijklmnopqrstuvwxyzABCDEFGHIJKLMNOPQRSTUVWXYZ0123456789\", c = \"\";\n",
    "    for (d = 0; a > d; d += 1)//循环16次拿到16个字符\n",
    "       e = Math.random() * b.length ,//一个浮点型伪随机数字，在0（包括 0）和1（不包括）之间。\n",
    "       e = Math.floor(e),//取下整数\n",
    "       c += b.charAt(e);\n",
    "       return c\n",
    "}\n",
    "// a:数据，b:密钥\n",
    "//b函数为AES加密过程\n",
    "function b(a, b) \n",
    "{ \n",
    "    var c = CryptoJS.enc.Utf8.parse(b) //密钥\n",
    "     , d = CryptoJS.enc.Utf8.parse(\"0102030405060708\")//偏移量\n",
    "     , e = CryptoJS.enc.Utf8.parse(a)//数据\n",
    "     , f = CryptoJS.AES.encrypt(e, c, { iv: d, mode: CryptoJS.mode.CBC //加密模式\n",
    "     });\n",
    "     return f.toString()\n",
    "}\n",
    "function c(a, b, c) \n",
    "{\n",
    "    var d, e;\n",
    "    return setMaxDigits(131),\n",
    "    d = new RSAKeyPair(b,\"\",c),\n",
    "    e = encryptedString(d, a)\n",
    "}\n",
    "//d:明文数据的字符串形式,e:'010001',g:'0CoJUm6Qyw8W8jud',f='00e0b509f6259df8642dbc35662901477df22677ec152b5ff68ace615bb7b725152b3ab17a876aea8a5aa76d2e417629ec4ee341f56135fccf695280104e0312ecbda92557c93870114af6c9d05c4f7f0c3685b7a46bee255932575cce10b424d813cfe4875d3e82047b97ddef52741d546b8e289dc6935b3ece0462db0a22b8e7'\n",
    "function d(d, e, f, g) \n",
    "{ \n",
    "    var h = {}, i = a(16); // i为16位字符串\n",
    "    return h.encText = b(d, g),\n",
    "    h.encText = b(h.encText, i), //params=h.encText\n",
    "    h.encSecKey = c(i, e, f),//encseckey=h.encSecKey,这里我们处理是将i设为定值，从而他的encSecKey是定值\n",
    "     h\n",
    "}\n",
    "```"
   ]
  },
  {
   "cell_type": "code",
   "execution_count": 6,
   "id": "a1f63b4d",
   "metadata": {},
   "outputs": [
    {
     "name": "stdout",
     "output_type": "stream",
     "text": [
      "over\n"
     ]
    }
   ],
   "source": [
    "import requests\n",
    "from Crypto.Cipher import AES\n",
    "from base64 import b64encode\n",
    "import json \n",
    "\n",
    "i=\"HyVrziSyIouwjdhk\"\n",
    "g='0CoJUm6Qyw8W8jud'\n",
    "data1={\n",
    "    \"csrf_token\": \"\",\n",
    "    \"cursor\": \"-1\",\n",
    "    \"offset\": \"0\",\n",
    "    \"orderType\": \"1\",\n",
    "    \"pageNo\": \"1\",\n",
    "    \"pageSize\": \"20\",\n",
    "    \"rid\": \"R_SO_4_1313584359\",\n",
    "    \"threadId\": \"R_SO_4_1313584359\"\n",
    "}\n",
    "url=\"https://music.163.com/weapi/comment/resource/comments/get?csrf_token=\"\n",
    "\n",
    "def getParams(data2):\n",
    "    first=enc_params(data2,g)\n",
    "    second=enc_params(first,i)\n",
    "    return second\n",
    "\n",
    "def to_16(data4):\n",
    "    pad=16-len(data4)%16\n",
    "    data4+=pad*chr(pad)\n",
    "    return data4\n",
    "    \n",
    "def enc_params(data3,key):\n",
    "    iv=\"0102030405060708\"\n",
    "    data3=to_16(data3)\n",
    "    aes=AES.new(key=key.encode('utf-8'),IV=iv.encode(\"utf-8\"),mode=AES.MODE_CBC) #创建加密器\n",
    "    bs=aes.encrypt(data3.encode('utf-8')) #加密的内容必须的是16的倍数且必须是字节，小于16个补够16个，不小于16个，则补够16的倍数个，\"123456\"=>\"\"123456chr(10)chr(10)...\"补够16个\n",
    "    return str(b64encode(bs),'utf-8')#对byte类型进行base64编码返回一个byte对象，防止有些字节无法解码成字符串\n",
    "    \n",
    "def getEncSecKey():\n",
    "    return \"3712096275adc17448e4b611e346774802a0b8734837b85238e676ebe2458bfb3d5d985de1287bf30a6e2308ebaa5c1b25c3e794863155570ae4e0a8e126a03c38ad1064c5da2506838a76b7761749c76391b10c2b7820b67e85e06a0762589f5e62453e6bfd684a813355948579bbce999a81edb9d4967aac7bcdfccfb93f02\"\n",
    "    \n",
    "data1['pageSize']=str(2*20)\n",
    "data={\"params\":getParams(json.dumps(data1)),\"encSecKey\":getEncSecKey()} #json.dumps()将python对象编码成Json字符串\n",
    "resp = requests.post(url,data=data)\n",
    "with open(\"网易云评论.txt\",mode='w',encoding='utf-8') as f:\n",
    "    for i in resp.json()['data']['comments']:\n",
    "        f.write(i['content']+'\\n')\n",
    "print(\"over\")\n",
    "resp.close()"
   ]
  },
  {
   "cell_type": "markdown",
   "id": "e4587525",
   "metadata": {},
   "source": [
    "# 多线程\n",
    "进程：资源单位  \n",
    "线程：执行单位"
   ]
  },
   {
   "cell_type": "code",
   "execution_count": null,
   "id": "85e00bda",
   "metadata": {},
   "outputs": [],
   "source": []
  }
 ],
 "metadata": {
  "kernelspec": {
   "display_name": "Python 3 (ipykernel)",
   "language": "python",
   "name": "python3"
  },
  "language_info": {
   "codemirror_mode": {
    "name": "ipython",
    "version": 3
   },
   "file_extension": ".py",
   "mimetype": "text/x-python",
   "name": "python",
   "nbconvert_exporter": "python",
   "pygments_lexer": "ipython3",
   "version": "3.9.7"
  }
 },
 "nbformat": 4,
 "nbformat_minor": 5
}
