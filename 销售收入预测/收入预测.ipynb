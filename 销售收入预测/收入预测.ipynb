{
 "cells": [
  {
   "cell_type": "code",
   "execution_count": 1,
   "id": "37fe9c50",
   "metadata": {},
   "outputs": [],
   "source": [
    "import pandas as pd\n",
    "from sklearn import linear_model\n",
    "import matplotlib.pyplot as plt"
   ]
  },
  {
   "cell_type": "code",
   "execution_count": 2,
   "id": "23afd5a3",
   "metadata": {},
   "outputs": [],
   "source": [
    "dfaa = pd.read_excel('./JDdata.xls')"
   ]
  },
  {
   "cell_type": "code",
   "execution_count": 3,
   "id": "453eeeb4",
   "metadata": {
    "scrolled": false
   },
   "outputs": [
    {
     "data": {
      "text/html": [
       "<div>\n",
       "<style scoped>\n",
       "    .dataframe tbody tr th:only-of-type {\n",
       "        vertical-align: middle;\n",
       "    }\n",
       "\n",
       "    .dataframe tbody tr th {\n",
       "        vertical-align: top;\n",
       "    }\n",
       "\n",
       "    .dataframe thead th {\n",
       "        text-align: right;\n",
       "    }\n",
       "</style>\n",
       "<table border=\"1\" class=\"dataframe\">\n",
       "  <thead>\n",
       "    <tr style=\"text-align: right;\">\n",
       "      <th></th>\n",
       "      <th>单据类型</th>\n",
       "      <th>单据编号</th>\n",
       "      <th>合同主体</th>\n",
       "      <th>售后退货单号</th>\n",
       "      <th>商品名称</th>\n",
       "      <th>订单号</th>\n",
       "      <th>采购单号</th>\n",
       "      <th>采购员/销售员</th>\n",
       "      <th>sku编号</th>\n",
       "      <th>sku数量</th>\n",
       "      <th>金额</th>\n",
       "      <th>业务日期</th>\n",
       "    </tr>\n",
       "  </thead>\n",
       "  <tbody>\n",
       "    <tr>\n",
       "      <th>0</th>\n",
       "      <td>实销实结销售单</td>\n",
       "      <td>100_180301_180301_34135587</td>\n",
       "      <td>江苏圆周电子商务有限公司</td>\n",
       "      <td>NaN</td>\n",
       "      <td>Java精彩编程200例（全彩版）</td>\n",
       "      <td>72632330245</td>\n",
       "      <td>34135587</td>\n",
       "      <td>魏晓冬/魏晓冬</td>\n",
       "      <td>12185937</td>\n",
       "      <td>-1</td>\n",
       "      <td>46.28</td>\n",
       "      <td>2018-03-01</td>\n",
       "    </tr>\n",
       "    <tr>\n",
       "      <th>1</th>\n",
       "      <td>实销实结销售单</td>\n",
       "      <td>100_180301_180301_31496215</td>\n",
       "      <td>江苏圆周电子商务有限公司</td>\n",
       "      <td>NaN</td>\n",
       "      <td>Java项目开发实战入门（全彩版）</td>\n",
       "      <td>72632330245</td>\n",
       "      <td>31496215</td>\n",
       "      <td>魏晓冬/魏晓冬</td>\n",
       "      <td>12163091</td>\n",
       "      <td>-1</td>\n",
       "      <td>29.90</td>\n",
       "      <td>2018-03-01</td>\n",
       "    </tr>\n",
       "    <tr>\n",
       "      <th>2</th>\n",
       "      <td>实销实结销售单</td>\n",
       "      <td>100_180301_180301_31496216</td>\n",
       "      <td>江苏圆周电子商务有限公司</td>\n",
       "      <td>NaN</td>\n",
       "      <td>C#项目开发实战入门（全彩版）</td>\n",
       "      <td>71654827800</td>\n",
       "      <td>31496216</td>\n",
       "      <td>魏晓冬/魏晓冬</td>\n",
       "      <td>12163129</td>\n",
       "      <td>-1</td>\n",
       "      <td>40.48</td>\n",
       "      <td>2018-03-01</td>\n",
       "    </tr>\n",
       "    <tr>\n",
       "      <th>3</th>\n",
       "      <td>实销实结销售单</td>\n",
       "      <td>100_180301_180301_36575217</td>\n",
       "      <td>江苏圆周电子商务有限公司</td>\n",
       "      <td>NaN</td>\n",
       "      <td>零基础学JavaScript（全彩版  附光盘  小白实战手册）</td>\n",
       "      <td>72630213865</td>\n",
       "      <td>36575217</td>\n",
       "      <td>魏晓冬/魏晓冬</td>\n",
       "      <td>12275164</td>\n",
       "      <td>-2</td>\n",
       "      <td>92.56</td>\n",
       "      <td>2018-03-01</td>\n",
       "    </tr>\n",
       "    <tr>\n",
       "      <th>4</th>\n",
       "      <td>实销实结销售单</td>\n",
       "      <td>100_180301_180301_34120856</td>\n",
       "      <td>江苏圆周电子商务有限公司</td>\n",
       "      <td>NaN</td>\n",
       "      <td>零基础学C语言（全彩版 附光盘小白手册）</td>\n",
       "      <td>72638734093</td>\n",
       "      <td>34120856</td>\n",
       "      <td>魏晓冬/魏晓冬</td>\n",
       "      <td>12250414</td>\n",
       "      <td>-1</td>\n",
       "      <td>40.48</td>\n",
       "      <td>2018-03-01</td>\n",
       "    </tr>\n",
       "  </tbody>\n",
       "</table>\n",
       "</div>"
      ],
      "text/plain": [
       "      单据类型                        单据编号          合同主体  售后退货单号  \\\n",
       "0  实销实结销售单  100_180301_180301_34135587  江苏圆周电子商务有限公司     NaN   \n",
       "1  实销实结销售单  100_180301_180301_31496215  江苏圆周电子商务有限公司     NaN   \n",
       "2  实销实结销售单  100_180301_180301_31496216  江苏圆周电子商务有限公司     NaN   \n",
       "3  实销实结销售单  100_180301_180301_36575217  江苏圆周电子商务有限公司     NaN   \n",
       "4  实销实结销售单  100_180301_180301_34120856  江苏圆周电子商务有限公司     NaN   \n",
       "\n",
       "                               商品名称          订单号      采购单号  采购员/销售员     sku编号  \\\n",
       "0                 Java精彩编程200例（全彩版）  72632330245  34135587  魏晓冬/魏晓冬  12185937   \n",
       "1                 Java项目开发实战入门（全彩版）  72632330245  31496215  魏晓冬/魏晓冬  12163091   \n",
       "2                   C#项目开发实战入门（全彩版）  71654827800  31496216  魏晓冬/魏晓冬  12163129   \n",
       "3  零基础学JavaScript（全彩版  附光盘  小白实战手册）  72630213865  36575217  魏晓冬/魏晓冬  12275164   \n",
       "4              零基础学C语言（全彩版 附光盘小白手册）  72638734093  34120856  魏晓冬/魏晓冬  12250414   \n",
       "\n",
       "   sku数量     金额        业务日期  \n",
       "0     -1  46.28  2018-03-01  \n",
       "1     -1  29.90  2018-03-01  \n",
       "2     -1  40.48  2018-03-01  \n",
       "3     -2  92.56  2018-03-01  \n",
       "4     -1  40.48  2018-03-01  "
      ]
     },
     "execution_count": 3,
     "metadata": {},
     "output_type": "execute_result"
    }
   ],
   "source": [
    "dfaa.head()"
   ]
  },
  {
   "cell_type": "code",
   "execution_count": 4,
   "id": "3ed9bde2",
   "metadata": {},
   "outputs": [
    {
     "data": {
      "text/plain": [
       "(24541, 12)"
      ]
     },
     "execution_count": 4,
     "metadata": {},
     "output_type": "execute_result"
    }
   ],
   "source": [
    "dfaa.shape"
   ]
  },
  {
   "cell_type": "code",
   "execution_count": 5,
   "id": "17771188",
   "metadata": {},
   "outputs": [],
   "source": [
    "dfbb = pd.read_excel('./JDcar.xls')"
   ]
  },
  {
   "cell_type": "code",
   "execution_count": 6,
   "id": "b03dd1fc",
   "metadata": {
    "scrolled": false
   },
   "outputs": [
    {
     "data": {
      "text/html": [
       "<div>\n",
       "<style scoped>\n",
       "    .dataframe tbody tr th:only-of-type {\n",
       "        vertical-align: middle;\n",
       "    }\n",
       "\n",
       "    .dataframe tbody tr th {\n",
       "        vertical-align: top;\n",
       "    }\n",
       "\n",
       "    .dataframe thead th {\n",
       "        text-align: right;\n",
       "    }\n",
       "</style>\n",
       "<table border=\"1\" class=\"dataframe\">\n",
       "  <thead>\n",
       "    <tr style=\"text-align: right;\">\n",
       "      <th></th>\n",
       "      <th>序号</th>\n",
       "      <th>交易类型</th>\n",
       "      <th>投放日期</th>\n",
       "      <th>支出</th>\n",
       "    </tr>\n",
       "  </thead>\n",
       "  <tbody>\n",
       "    <tr>\n",
       "      <th>0</th>\n",
       "      <td>449564744</td>\n",
       "      <td>快车扣费</td>\n",
       "      <td>2018-01-01</td>\n",
       "      <td>359.44</td>\n",
       "    </tr>\n",
       "    <tr>\n",
       "      <th>1</th>\n",
       "      <td>449779617</td>\n",
       "      <td>快车扣费</td>\n",
       "      <td>2018-01-02</td>\n",
       "      <td>383.73</td>\n",
       "    </tr>\n",
       "    <tr>\n",
       "      <th>2</th>\n",
       "      <td>450089804</td>\n",
       "      <td>快车扣费</td>\n",
       "      <td>2018-01-03</td>\n",
       "      <td>446.93</td>\n",
       "    </tr>\n",
       "    <tr>\n",
       "      <th>3</th>\n",
       "      <td>450410610</td>\n",
       "      <td>快车扣费</td>\n",
       "      <td>2018-01-04</td>\n",
       "      <td>368.78</td>\n",
       "    </tr>\n",
       "    <tr>\n",
       "      <th>4</th>\n",
       "      <td>450499464</td>\n",
       "      <td>快车扣费</td>\n",
       "      <td>2018-01-05</td>\n",
       "      <td>477.38</td>\n",
       "    </tr>\n",
       "  </tbody>\n",
       "</table>\n",
       "</div>"
      ],
      "text/plain": [
       "          序号  交易类型        投放日期      支出\n",
       "0  449564744  快车扣费  2018-01-01  359.44\n",
       "1  449779617  快车扣费  2018-01-02  383.73\n",
       "2  450089804  快车扣费  2018-01-03  446.93\n",
       "3  450410610  快车扣费  2018-01-04  368.78\n",
       "4  450499464  快车扣费  2018-01-05  477.38"
      ]
     },
     "execution_count": 6,
     "metadata": {},
     "output_type": "execute_result"
    }
   ],
   "source": [
    "dfbb.head()"
   ]
  },
  {
   "cell_type": "code",
   "execution_count": 7,
   "id": "da2827ad",
   "metadata": {},
   "outputs": [
    {
     "data": {
      "text/plain": [
       "(181, 4)"
      ]
     },
     "execution_count": 7,
     "metadata": {},
     "output_type": "execute_result"
    }
   ],
   "source": [
    "dfbb.shape"
   ]
  },
  {
   "cell_type": "code",
   "execution_count": 8,
   "id": "2fa8680f",
   "metadata": {},
   "outputs": [],
   "source": [
    "df1=dfaa[['业务日期','金额']]\n",
    "df2=dfbb[['投放日期','支出']]"
   ]
  },
  {
   "cell_type": "code",
   "execution_count": 9,
   "id": "a38c165b",
   "metadata": {},
   "outputs": [
    {
     "data": {
      "text/html": [
       "<div>\n",
       "<style scoped>\n",
       "    .dataframe tbody tr th:only-of-type {\n",
       "        vertical-align: middle;\n",
       "    }\n",
       "\n",
       "    .dataframe tbody tr th {\n",
       "        vertical-align: top;\n",
       "    }\n",
       "\n",
       "    .dataframe thead th {\n",
       "        text-align: right;\n",
       "    }\n",
       "</style>\n",
       "<table border=\"1\" class=\"dataframe\">\n",
       "  <thead>\n",
       "    <tr style=\"text-align: right;\">\n",
       "      <th></th>\n",
       "      <th>业务日期</th>\n",
       "      <th>金额</th>\n",
       "    </tr>\n",
       "  </thead>\n",
       "  <tbody>\n",
       "    <tr>\n",
       "      <th>0</th>\n",
       "      <td>2018-03-01</td>\n",
       "      <td>46.28</td>\n",
       "    </tr>\n",
       "    <tr>\n",
       "      <th>1</th>\n",
       "      <td>2018-03-01</td>\n",
       "      <td>29.90</td>\n",
       "    </tr>\n",
       "    <tr>\n",
       "      <th>2</th>\n",
       "      <td>2018-03-01</td>\n",
       "      <td>40.48</td>\n",
       "    </tr>\n",
       "    <tr>\n",
       "      <th>3</th>\n",
       "      <td>2018-03-01</td>\n",
       "      <td>92.56</td>\n",
       "    </tr>\n",
       "    <tr>\n",
       "      <th>4</th>\n",
       "      <td>2018-03-01</td>\n",
       "      <td>40.48</td>\n",
       "    </tr>\n",
       "  </tbody>\n",
       "</table>\n",
       "</div>"
      ],
      "text/plain": [
       "         业务日期     金额\n",
       "0  2018-03-01  46.28\n",
       "1  2018-03-01  29.90\n",
       "2  2018-03-01  40.48\n",
       "3  2018-03-01  92.56\n",
       "4  2018-03-01  40.48"
      ]
     },
     "execution_count": 9,
     "metadata": {},
     "output_type": "execute_result"
    }
   ],
   "source": [
    "df1.head()"
   ]
  },
  {
   "cell_type": "code",
   "execution_count": 10,
   "id": "d09d5804",
   "metadata": {},
   "outputs": [
    {
     "data": {
      "text/plain": [
       "0"
      ]
     },
     "execution_count": 10,
     "metadata": {},
     "output_type": "execute_result"
    }
   ],
   "source": [
    "df1['业务日期'].isnull().sum()"
   ]
  },
  {
   "cell_type": "code",
   "execution_count": 11,
   "id": "bbe80f03",
   "metadata": {},
   "outputs": [
    {
     "data": {
      "text/plain": [
       "0"
      ]
     },
     "execution_count": 11,
     "metadata": {},
     "output_type": "execute_result"
    }
   ],
   "source": [
    "(df1['金额']==0).sum()"
   ]
  },
  {
   "cell_type": "code",
   "execution_count": 12,
   "id": "64c7020d",
   "metadata": {},
   "outputs": [
    {
     "data": {
      "text/html": [
       "<div>\n",
       "<style scoped>\n",
       "    .dataframe tbody tr th:only-of-type {\n",
       "        vertical-align: middle;\n",
       "    }\n",
       "\n",
       "    .dataframe tbody tr th {\n",
       "        vertical-align: top;\n",
       "    }\n",
       "\n",
       "    .dataframe thead th {\n",
       "        text-align: right;\n",
       "    }\n",
       "</style>\n",
       "<table border=\"1\" class=\"dataframe\">\n",
       "  <thead>\n",
       "    <tr style=\"text-align: right;\">\n",
       "      <th></th>\n",
       "      <th>投放日期</th>\n",
       "      <th>支出</th>\n",
       "    </tr>\n",
       "  </thead>\n",
       "  <tbody>\n",
       "    <tr>\n",
       "      <th>0</th>\n",
       "      <td>2018-01-01</td>\n",
       "      <td>359.44</td>\n",
       "    </tr>\n",
       "    <tr>\n",
       "      <th>1</th>\n",
       "      <td>2018-01-02</td>\n",
       "      <td>383.73</td>\n",
       "    </tr>\n",
       "    <tr>\n",
       "      <th>2</th>\n",
       "      <td>2018-01-03</td>\n",
       "      <td>446.93</td>\n",
       "    </tr>\n",
       "    <tr>\n",
       "      <th>3</th>\n",
       "      <td>2018-01-04</td>\n",
       "      <td>368.78</td>\n",
       "    </tr>\n",
       "    <tr>\n",
       "      <th>4</th>\n",
       "      <td>2018-01-05</td>\n",
       "      <td>477.38</td>\n",
       "    </tr>\n",
       "  </tbody>\n",
       "</table>\n",
       "</div>"
      ],
      "text/plain": [
       "         投放日期      支出\n",
       "0  2018-01-01  359.44\n",
       "1  2018-01-02  383.73\n",
       "2  2018-01-03  446.93\n",
       "3  2018-01-04  368.78\n",
       "4  2018-01-05  477.38"
      ]
     },
     "execution_count": 12,
     "metadata": {},
     "output_type": "execute_result"
    }
   ],
   "source": [
    "df2.head()"
   ]
  },
  {
   "cell_type": "code",
   "execution_count": 13,
   "id": "60612bb9",
   "metadata": {},
   "outputs": [
    {
     "data": {
      "text/plain": [
       "0"
      ]
     },
     "execution_count": 13,
     "metadata": {},
     "output_type": "execute_result"
    }
   ],
   "source": [
    "df2['投放日期'].isnull().sum()"
   ]
  },
  {
   "cell_type": "code",
   "execution_count": 14,
   "id": "609b5a12",
   "metadata": {},
   "outputs": [
    {
     "data": {
      "text/plain": [
       "0"
      ]
     },
     "execution_count": 14,
     "metadata": {},
     "output_type": "execute_result"
    }
   ],
   "source": [
    "(df2['支出']==0).sum()"
   ]
  },
  {
   "cell_type": "code",
   "execution_count": 15,
   "id": "e6938780",
   "metadata": {},
   "outputs": [],
   "source": [
    "df1=df1[df1['业务日期'].notnull() & df1['金额'] !=0]\n",
    "df2=df2[df2['投放日期'].notnull() & df2['支出'] !=0]"
   ]
  },
  {
   "cell_type": "code",
   "execution_count": 16,
   "id": "79ba0655",
   "metadata": {},
   "outputs": [
    {
     "data": {
      "text/plain": [
       "((24541, 2), (181, 2))"
      ]
     },
     "execution_count": 16,
     "metadata": {},
     "output_type": "execute_result"
    }
   ],
   "source": [
    "df1.shape,df2.shape"
   ]
  },
  {
   "cell_type": "code",
   "execution_count": 17,
   "id": "1ae9a9ea",
   "metadata": {},
   "outputs": [],
   "source": [
    "df1['业务日期'] = pd.to_datetime(df1['业务日期'])\n",
    "df2['投放日期'] = pd.to_datetime(df2['投放日期'])"
   ]
  },
  {
   "cell_type": "code",
   "execution_count": 18,
   "id": "099e4e51",
   "metadata": {},
   "outputs": [
    {
     "data": {
      "text/html": [
       "<div>\n",
       "<style scoped>\n",
       "    .dataframe tbody tr th:only-of-type {\n",
       "        vertical-align: middle;\n",
       "    }\n",
       "\n",
       "    .dataframe tbody tr th {\n",
       "        vertical-align: top;\n",
       "    }\n",
       "\n",
       "    .dataframe thead th {\n",
       "        text-align: right;\n",
       "    }\n",
       "</style>\n",
       "<table border=\"1\" class=\"dataframe\">\n",
       "  <thead>\n",
       "    <tr style=\"text-align: right;\">\n",
       "      <th></th>\n",
       "      <th>业务日期</th>\n",
       "      <th>金额</th>\n",
       "    </tr>\n",
       "  </thead>\n",
       "  <tbody>\n",
       "    <tr>\n",
       "      <th>0</th>\n",
       "      <td>2018-03-01</td>\n",
       "      <td>46.28</td>\n",
       "    </tr>\n",
       "    <tr>\n",
       "      <th>1</th>\n",
       "      <td>2018-03-01</td>\n",
       "      <td>29.90</td>\n",
       "    </tr>\n",
       "    <tr>\n",
       "      <th>2</th>\n",
       "      <td>2018-03-01</td>\n",
       "      <td>40.48</td>\n",
       "    </tr>\n",
       "    <tr>\n",
       "      <th>3</th>\n",
       "      <td>2018-03-01</td>\n",
       "      <td>92.56</td>\n",
       "    </tr>\n",
       "    <tr>\n",
       "      <th>4</th>\n",
       "      <td>2018-03-01</td>\n",
       "      <td>40.48</td>\n",
       "    </tr>\n",
       "  </tbody>\n",
       "</table>\n",
       "</div>"
      ],
      "text/plain": [
       "        业务日期     金额\n",
       "0 2018-03-01  46.28\n",
       "1 2018-03-01  29.90\n",
       "2 2018-03-01  40.48\n",
       "3 2018-03-01  92.56\n",
       "4 2018-03-01  40.48"
      ]
     },
     "execution_count": 18,
     "metadata": {},
     "output_type": "execute_result"
    }
   ],
   "source": [
    "df1.head()"
   ]
  },
  {
   "cell_type": "code",
   "execution_count": 19,
   "id": "c44a76f2",
   "metadata": {},
   "outputs": [
    {
     "data": {
      "text/html": [
       "<div>\n",
       "<style scoped>\n",
       "    .dataframe tbody tr th:only-of-type {\n",
       "        vertical-align: middle;\n",
       "    }\n",
       "\n",
       "    .dataframe tbody tr th {\n",
       "        vertical-align: top;\n",
       "    }\n",
       "\n",
       "    .dataframe thead th {\n",
       "        text-align: right;\n",
       "    }\n",
       "</style>\n",
       "<table border=\"1\" class=\"dataframe\">\n",
       "  <thead>\n",
       "    <tr style=\"text-align: right;\">\n",
       "      <th></th>\n",
       "      <th>投放日期</th>\n",
       "      <th>支出</th>\n",
       "    </tr>\n",
       "  </thead>\n",
       "  <tbody>\n",
       "    <tr>\n",
       "      <th>0</th>\n",
       "      <td>2018-01-01</td>\n",
       "      <td>359.44</td>\n",
       "    </tr>\n",
       "    <tr>\n",
       "      <th>1</th>\n",
       "      <td>2018-01-02</td>\n",
       "      <td>383.73</td>\n",
       "    </tr>\n",
       "    <tr>\n",
       "      <th>2</th>\n",
       "      <td>2018-01-03</td>\n",
       "      <td>446.93</td>\n",
       "    </tr>\n",
       "    <tr>\n",
       "      <th>3</th>\n",
       "      <td>2018-01-04</td>\n",
       "      <td>368.78</td>\n",
       "    </tr>\n",
       "    <tr>\n",
       "      <th>4</th>\n",
       "      <td>2018-01-05</td>\n",
       "      <td>477.38</td>\n",
       "    </tr>\n",
       "  </tbody>\n",
       "</table>\n",
       "</div>"
      ],
      "text/plain": [
       "        投放日期      支出\n",
       "0 2018-01-01  359.44\n",
       "1 2018-01-02  383.73\n",
       "2 2018-01-03  446.93\n",
       "3 2018-01-04  368.78\n",
       "4 2018-01-05  477.38"
      ]
     },
     "execution_count": 19,
     "metadata": {},
     "output_type": "execute_result"
    }
   ],
   "source": [
    "df2.head()"
   ]
  },
  {
   "cell_type": "code",
   "execution_count": 20,
   "id": "03bc983a",
   "metadata": {},
   "outputs": [],
   "source": [
    "dfData = df1.set_index('业务日期',drop=True)\n",
    "dfCar = df2.set_index('投放日期',drop=True)"
   ]
  },
  {
   "cell_type": "code",
   "execution_count": 21,
   "id": "62cc6acc",
   "metadata": {},
   "outputs": [
    {
     "data": {
      "text/html": [
       "<div>\n",
       "<style scoped>\n",
       "    .dataframe tbody tr th:only-of-type {\n",
       "        vertical-align: middle;\n",
       "    }\n",
       "\n",
       "    .dataframe tbody tr th {\n",
       "        vertical-align: top;\n",
       "    }\n",
       "\n",
       "    .dataframe thead th {\n",
       "        text-align: right;\n",
       "    }\n",
       "</style>\n",
       "<table border=\"1\" class=\"dataframe\">\n",
       "  <thead>\n",
       "    <tr style=\"text-align: right;\">\n",
       "      <th></th>\n",
       "      <th>金额</th>\n",
       "    </tr>\n",
       "    <tr>\n",
       "      <th>业务日期</th>\n",
       "      <th></th>\n",
       "    </tr>\n",
       "  </thead>\n",
       "  <tbody>\n",
       "    <tr>\n",
       "      <th>2018-03-01</th>\n",
       "      <td>46.28</td>\n",
       "    </tr>\n",
       "    <tr>\n",
       "      <th>2018-03-01</th>\n",
       "      <td>29.90</td>\n",
       "    </tr>\n",
       "    <tr>\n",
       "      <th>2018-03-01</th>\n",
       "      <td>40.48</td>\n",
       "    </tr>\n",
       "    <tr>\n",
       "      <th>2018-03-01</th>\n",
       "      <td>92.56</td>\n",
       "    </tr>\n",
       "    <tr>\n",
       "      <th>2018-03-01</th>\n",
       "      <td>40.48</td>\n",
       "    </tr>\n",
       "  </tbody>\n",
       "</table>\n",
       "</div>"
      ],
      "text/plain": [
       "               金额\n",
       "业务日期             \n",
       "2018-03-01  46.28\n",
       "2018-03-01  29.90\n",
       "2018-03-01  40.48\n",
       "2018-03-01  92.56\n",
       "2018-03-01  40.48"
      ]
     },
     "execution_count": 21,
     "metadata": {},
     "output_type": "execute_result"
    }
   ],
   "source": [
    "dfData.head()"
   ]
  },
  {
   "cell_type": "code",
   "execution_count": 22,
   "id": "a2bcb96f",
   "metadata": {},
   "outputs": [
    {
     "data": {
      "text/html": [
       "<div>\n",
       "<style scoped>\n",
       "    .dataframe tbody tr th:only-of-type {\n",
       "        vertical-align: middle;\n",
       "    }\n",
       "\n",
       "    .dataframe tbody tr th {\n",
       "        vertical-align: top;\n",
       "    }\n",
       "\n",
       "    .dataframe thead th {\n",
       "        text-align: right;\n",
       "    }\n",
       "</style>\n",
       "<table border=\"1\" class=\"dataframe\">\n",
       "  <thead>\n",
       "    <tr style=\"text-align: right;\">\n",
       "      <th></th>\n",
       "      <th>支出</th>\n",
       "    </tr>\n",
       "    <tr>\n",
       "      <th>投放日期</th>\n",
       "      <th></th>\n",
       "    </tr>\n",
       "  </thead>\n",
       "  <tbody>\n",
       "    <tr>\n",
       "      <th>2018-01-01</th>\n",
       "      <td>359.44</td>\n",
       "    </tr>\n",
       "    <tr>\n",
       "      <th>2018-01-02</th>\n",
       "      <td>383.73</td>\n",
       "    </tr>\n",
       "    <tr>\n",
       "      <th>2018-01-03</th>\n",
       "      <td>446.93</td>\n",
       "    </tr>\n",
       "    <tr>\n",
       "      <th>2018-01-04</th>\n",
       "      <td>368.78</td>\n",
       "    </tr>\n",
       "    <tr>\n",
       "      <th>2018-01-05</th>\n",
       "      <td>477.38</td>\n",
       "    </tr>\n",
       "  </tbody>\n",
       "</table>\n",
       "</div>"
      ],
      "text/plain": [
       "                支出\n",
       "投放日期              \n",
       "2018-01-01  359.44\n",
       "2018-01-02  383.73\n",
       "2018-01-03  446.93\n",
       "2018-01-04  368.78\n",
       "2018-01-05  477.38"
      ]
     },
     "execution_count": 22,
     "metadata": {},
     "output_type": "execute_result"
    }
   ],
   "source": [
    "dfCar.head()"
   ]
  },
  {
   "cell_type": "code",
   "execution_count": 23,
   "id": "d6e3c4e0",
   "metadata": {},
   "outputs": [],
   "source": [
    "dfData_month=dfData.resample('M').sum().to_period('M')"
   ]
  },
  {
   "cell_type": "code",
   "execution_count": 24,
   "id": "6729123a",
   "metadata": {},
   "outputs": [
    {
     "data": {
      "text/html": [
       "<div>\n",
       "<style scoped>\n",
       "    .dataframe tbody tr th:only-of-type {\n",
       "        vertical-align: middle;\n",
       "    }\n",
       "\n",
       "    .dataframe tbody tr th {\n",
       "        vertical-align: top;\n",
       "    }\n",
       "\n",
       "    .dataframe thead th {\n",
       "        text-align: right;\n",
       "    }\n",
       "</style>\n",
       "<table border=\"1\" class=\"dataframe\">\n",
       "  <thead>\n",
       "    <tr style=\"text-align: right;\">\n",
       "      <th></th>\n",
       "      <th>金额</th>\n",
       "    </tr>\n",
       "    <tr>\n",
       "      <th>业务日期</th>\n",
       "      <th></th>\n",
       "    </tr>\n",
       "  </thead>\n",
       "  <tbody>\n",
       "    <tr>\n",
       "      <th>2018-01</th>\n",
       "      <td>5641.40</td>\n",
       "    </tr>\n",
       "    <tr>\n",
       "      <th>2018-02</th>\n",
       "      <td>116830.00</td>\n",
       "    </tr>\n",
       "    <tr>\n",
       "      <th>2018-03</th>\n",
       "      <td>209818.38</td>\n",
       "    </tr>\n",
       "    <tr>\n",
       "      <th>2018-04</th>\n",
       "      <td>194799.94</td>\n",
       "    </tr>\n",
       "    <tr>\n",
       "      <th>2018-05</th>\n",
       "      <td>184986.74</td>\n",
       "    </tr>\n",
       "    <tr>\n",
       "      <th>2018-06</th>\n",
       "      <td>360338.74</td>\n",
       "    </tr>\n",
       "  </tbody>\n",
       "</table>\n",
       "</div>"
      ],
      "text/plain": [
       "                金额\n",
       "业务日期              \n",
       "2018-01    5641.40\n",
       "2018-02  116830.00\n",
       "2018-03  209818.38\n",
       "2018-04  194799.94\n",
       "2018-05  184986.74\n",
       "2018-06  360338.74"
      ]
     },
     "execution_count": 24,
     "metadata": {},
     "output_type": "execute_result"
    }
   ],
   "source": [
    "dfData_month"
   ]
  },
  {
   "cell_type": "code",
   "execution_count": 25,
   "id": "a24e41d8",
   "metadata": {},
   "outputs": [],
   "source": [
    "dfCar_month=dfCar.resample('M').sum().to_period('M')"
   ]
  },
  {
   "cell_type": "code",
   "execution_count": 26,
   "id": "2a0a9062",
   "metadata": {},
   "outputs": [
    {
     "data": {
      "text/html": [
       "<div>\n",
       "<style scoped>\n",
       "    .dataframe tbody tr th:only-of-type {\n",
       "        vertical-align: middle;\n",
       "    }\n",
       "\n",
       "    .dataframe tbody tr th {\n",
       "        vertical-align: top;\n",
       "    }\n",
       "\n",
       "    .dataframe thead th {\n",
       "        text-align: right;\n",
       "    }\n",
       "</style>\n",
       "<table border=\"1\" class=\"dataframe\">\n",
       "  <thead>\n",
       "    <tr style=\"text-align: right;\">\n",
       "      <th></th>\n",
       "      <th>支出</th>\n",
       "    </tr>\n",
       "    <tr>\n",
       "      <th>投放日期</th>\n",
       "      <th></th>\n",
       "    </tr>\n",
       "  </thead>\n",
       "  <tbody>\n",
       "    <tr>\n",
       "      <th>2018-01</th>\n",
       "      <td>13985.51</td>\n",
       "    </tr>\n",
       "    <tr>\n",
       "      <th>2018-02</th>\n",
       "      <td>6265.78</td>\n",
       "    </tr>\n",
       "    <tr>\n",
       "      <th>2018-03</th>\n",
       "      <td>12116.45</td>\n",
       "    </tr>\n",
       "    <tr>\n",
       "      <th>2018-04</th>\n",
       "      <td>15832.77</td>\n",
       "    </tr>\n",
       "    <tr>\n",
       "      <th>2018-05</th>\n",
       "      <td>18064.53</td>\n",
       "    </tr>\n",
       "    <tr>\n",
       "      <th>2018-06</th>\n",
       "      <td>57013.59</td>\n",
       "    </tr>\n",
       "  </tbody>\n",
       "</table>\n",
       "</div>"
      ],
      "text/plain": [
       "               支出\n",
       "投放日期             \n",
       "2018-01  13985.51\n",
       "2018-02   6265.78\n",
       "2018-03  12116.45\n",
       "2018-04  15832.77\n",
       "2018-05  18064.53\n",
       "2018-06  57013.59"
      ]
     },
     "execution_count": 26,
     "metadata": {},
     "output_type": "execute_result"
    }
   ],
   "source": [
    "dfCar_month"
   ]
  },
  {
   "cell_type": "code",
   "execution_count": 27,
   "id": "1a090084",
   "metadata": {},
   "outputs": [],
   "source": [
    "LR=linear_model.LinearRegression(fit_intercept=True)"
   ]
  },
  {
   "cell_type": "code",
   "execution_count": 28,
   "id": "63f72ec2",
   "metadata": {},
   "outputs": [],
   "source": [
    "x=pd.DataFrame(dfCar_month['支出'])\n",
    "y=pd.DataFrame(dfData_month['金额'])"
   ]
  },
  {
   "cell_type": "code",
   "execution_count": 29,
   "id": "0ddc20d3",
   "metadata": {},
   "outputs": [
    {
     "data": {
      "text/plain": [
       "((6, 1), (6, 1))"
      ]
     },
     "execution_count": 29,
     "metadata": {},
     "output_type": "execute_result"
    }
   ],
   "source": [
    "x.shape,y.shape"
   ]
  },
  {
   "cell_type": "code",
   "execution_count": 30,
   "id": "31de3455",
   "metadata": {},
   "outputs": [],
   "source": [
    "LR.fit(x,y) #拟合线性模型\n",
    "k=LR.coef_ \n",
    "b=LR.intercept_"
   ]
  },
  {
   "cell_type": "code",
   "execution_count": 31,
   "id": "e38bf8c3",
   "metadata": {},
   "outputs": [
    {
     "data": {
      "text/plain": [
       "(array([[4.94487765]]), array([77136.24301541]))"
      ]
     },
     "execution_count": 31,
     "metadata": {},
     "output_type": "execute_result"
    }
   ],
   "source": [
    "k,b"
   ]
  },
  {
   "cell_type": "code",
   "execution_count": 32,
   "id": "5652c316",
   "metadata": {},
   "outputs": [],
   "source": [
    "y_pred =LR.predict(x)"
   ]
  },
  {
   "cell_type": "code",
   "execution_count": 33,
   "id": "83d4d537",
   "metadata": {},
   "outputs": [
    {
     "data": {
      "text/plain": [
       "array([[146292.87880399],\n",
       "       [108119.75848188],\n",
       "       [137050.60578806],\n",
       "       [155427.35348721],\n",
       "       [166463.1336259 ],\n",
       "       [359061.46981296]])"
      ]
     },
     "execution_count": 33,
     "metadata": {},
     "output_type": "execute_result"
    }
   ],
   "source": [
    "y_pred"
   ]
  },
  {
   "cell_type": "code",
   "execution_count": 34,
   "id": "c63f4af2",
   "metadata": {},
   "outputs": [
    {
     "data": {
      "image/png": "[encoded data removed]",
      "text/plain": [
       "<Figure size 640x480 with 1 Axes>"
      ]
     },
     "metadata": {},
     "output_type": "display_data"
    }
   ],
   "source": [
    "plt.rc('font', family='SimHei', size=10)\n",
    "plt.figure(\"销售收入分析\")\n",
    "plt.scatter(x, y,  color='red') #真实值散点图\n",
    "plt.plot(x,y_pred, color='blue', linewidth=1.5) #预测回归线\n",
    "plt.ylabel(u'销售收入（元）')\n",
    "plt.xlabel(u'广告费（元）')\n",
    "plt.title('销售收入预测',fontsize='20')\n",
    "plt.legend(labels=['散点','预测线','预测值'])\n",
    "plt.savefig('huigui.jpg')\n",
    "plt.show()"
   ]
  }
 ],
 "metadata": {
  "kernelspec": {
   "display_name": "Python 3 (ipykernel)",
   "language": "python",
   "name": "python3"
  },
  "language_info": {
   "codemirror_mode": {
    "name": "ipython",
    "version": 3
   },
   "file_extension": ".py",
   "mimetype": "text/x-python",
   "name": "python",
   "nbconvert_exporter": "python",
   "pygments_lexer": "ipython3",
   "version": "3.9.13"
  }
 },
 "nbformat": 4,
 "nbformat_minor": 5
}
