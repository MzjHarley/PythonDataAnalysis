{
 "cells": [
  {
   "cell_type": "code",
   "execution_count": 1,
   "id": "306863e0",
   "metadata": {},
   "outputs": [],
   "source": [
    "import pandas as pd\n",
    "import numpy as np\n",
    "import warnings\n",
    "warnings.filterwarnings(\"ignore\")"
   ]
  },
  {
   "cell_type": "code",
   "execution_count": 2,
   "id": "e06e20cc",
   "metadata": {},
   "outputs": [],
   "source": [
    "df = pd.DataFrame(pd.read_excel('./data/TB201812.xls'))"
   ]
  },
  {
   "cell_type": "code",
   "execution_count": 3,
   "id": "243ea284",
   "metadata": {},
   "outputs": [],
   "source": [
    "df1 = df[['订单付款时间','买家会员名','买家实际支付金额','数据采集时间']]"
   ]
  },
  {
   "cell_type": "code",
   "execution_count": 4,
   "id": "7a884633",
   "metadata": {
    "scrolled": false
   },
   "outputs": [
    {
     "data": {
      "text/html": [
       "<div>\n",
       "<style scoped>\n",
       "    .dataframe tbody tr th:only-of-type {\n",
       "        vertical-align: middle;\n",
       "    }\n",
       "\n",
       "    .dataframe tbody tr th {\n",
       "        vertical-align: top;\n",
       "    }\n",
       "\n",
       "    .dataframe thead th {\n",
       "        text-align: right;\n",
       "    }\n",
       "</style>\n",
       "<table border=\"1\" class=\"dataframe\">\n",
       "  <thead>\n",
       "    <tr style=\"text-align: right;\">\n",
       "      <th></th>\n",
       "      <th>订单付款时间</th>\n",
       "      <th>买家会员名</th>\n",
       "      <th>买家实际支付金额</th>\n",
       "      <th>数据采集时间</th>\n",
       "    </tr>\n",
       "  </thead>\n",
       "  <tbody>\n",
       "    <tr>\n",
       "      <th>0</th>\n",
       "      <td>2018-01-31 22:45:01</td>\n",
       "      <td>qust99</td>\n",
       "      <td>143.64</td>\n",
       "      <td>2018-12-31</td>\n",
       "    </tr>\n",
       "    <tr>\n",
       "      <th>1</th>\n",
       "      <td>2018-01-31 21:02:30</td>\n",
       "      <td>songjones4000</td>\n",
       "      <td>55.86</td>\n",
       "      <td>2018-12-31</td>\n",
       "    </tr>\n",
       "    <tr>\n",
       "      <th>2</th>\n",
       "      <td>2018-01-31 20:29:59</td>\n",
       "      <td>133王超</td>\n",
       "      <td>55.86</td>\n",
       "      <td>2018-12-31</td>\n",
       "    </tr>\n",
       "    <tr>\n",
       "      <th>3</th>\n",
       "      <td>2018-01-31 17:17:58</td>\n",
       "      <td>扛扛大人</td>\n",
       "      <td>48.86</td>\n",
       "      <td>2018-12-31</td>\n",
       "    </tr>\n",
       "    <tr>\n",
       "      <th>4</th>\n",
       "      <td>NaT</td>\n",
       "      <td>楠楠途</td>\n",
       "      <td>0.00</td>\n",
       "      <td>2018-12-31</td>\n",
       "    </tr>\n",
       "  </tbody>\n",
       "</table>\n",
       "</div>"
      ],
      "text/plain": [
       "               订单付款时间          买家会员名  买家实际支付金额     数据采集时间\n",
       "0 2018-01-31 22:45:01         qust99    143.64 2018-12-31\n",
       "1 2018-01-31 21:02:30  songjones4000     55.86 2018-12-31\n",
       "2 2018-01-31 20:29:59          133王超     55.86 2018-12-31\n",
       "3 2018-01-31 17:17:58           扛扛大人     48.86 2018-12-31\n",
       "4                 NaT            楠楠途      0.00 2018-12-31"
      ]
     },
     "execution_count": 4,
     "metadata": {},
     "output_type": "execute_result"
    }
   ],
   "source": [
    "df1.head()"
   ]
  },
  {
   "cell_type": "code",
   "execution_count": 5,
   "id": "f716e78f",
   "metadata": {},
   "outputs": [
    {
     "data": {
      "text/plain": [
       "(2660, 4)"
      ]
     },
     "execution_count": 5,
     "metadata": {},
     "output_type": "execute_result"
    }
   ],
   "source": [
    "df1.shape"
   ]
  },
  {
   "cell_type": "code",
   "execution_count": 6,
   "id": "ed83174a",
   "metadata": {},
   "outputs": [],
   "source": [
    "view=df1.describe( include = 'all').T\n",
    "##包括对数据的基本描述，percentiles参数是指定计算多少的分位数表（如1/4分位数、中位数等）；\n",
    "#T是转置，转置后更方便查阅;include=‘all’,代表对所有列进行统计，如果不加这个参数，则只对数值列进行统计"
   ]
  },
  {
   "cell_type": "code",
   "execution_count": 7,
   "id": "35022e2e",
   "metadata": {},
   "outputs": [
    {
     "data": {
      "text/html": [
       "<div>\n",
       "<style scoped>\n",
       "    .dataframe tbody tr th:only-of-type {\n",
       "        vertical-align: middle;\n",
       "    }\n",
       "\n",
       "    .dataframe tbody tr th {\n",
       "        vertical-align: top;\n",
       "    }\n",
       "\n",
       "    .dataframe thead th {\n",
       "        text-align: right;\n",
       "    }\n",
       "</style>\n",
       "<table border=\"1\" class=\"dataframe\">\n",
       "  <thead>\n",
       "    <tr style=\"text-align: right;\">\n",
       "      <th></th>\n",
       "      <th>count</th>\n",
       "      <th>unique</th>\n",
       "      <th>top</th>\n",
       "      <th>freq</th>\n",
       "      <th>first</th>\n",
       "      <th>last</th>\n",
       "      <th>mean</th>\n",
       "      <th>std</th>\n",
       "      <th>min</th>\n",
       "      <th>25%</th>\n",
       "      <th>50%</th>\n",
       "      <th>75%</th>\n",
       "      <th>max</th>\n",
       "    </tr>\n",
       "  </thead>\n",
       "  <tbody>\n",
       "    <tr>\n",
       "      <th>订单付款时间</th>\n",
       "      <td>2148</td>\n",
       "      <td>2033</td>\n",
       "      <td>2018-06-12 13:14:50</td>\n",
       "      <td>4</td>\n",
       "      <td>2017-01-02 23:29:12</td>\n",
       "      <td>2018-12-31 15:21:17</td>\n",
       "      <td>NaN</td>\n",
       "      <td>NaN</td>\n",
       "      <td>NaN</td>\n",
       "      <td>NaN</td>\n",
       "      <td>NaN</td>\n",
       "      <td>NaN</td>\n",
       "      <td>NaN</td>\n",
       "    </tr>\n",
       "    <tr>\n",
       "      <th>买家会员名</th>\n",
       "      <td>2660</td>\n",
       "      <td>1817</td>\n",
       "      <td>刘思超22</td>\n",
       "      <td>15</td>\n",
       "      <td>NaT</td>\n",
       "      <td>NaT</td>\n",
       "      <td>NaN</td>\n",
       "      <td>NaN</td>\n",
       "      <td>NaN</td>\n",
       "      <td>NaN</td>\n",
       "      <td>NaN</td>\n",
       "      <td>NaN</td>\n",
       "      <td>NaN</td>\n",
       "    </tr>\n",
       "    <tr>\n",
       "      <th>买家实际支付金额</th>\n",
       "      <td>2660.0</td>\n",
       "      <td>NaN</td>\n",
       "      <td>NaN</td>\n",
       "      <td>NaN</td>\n",
       "      <td>NaT</td>\n",
       "      <td>NaT</td>\n",
       "      <td>155.113094</td>\n",
       "      <td>350.332509</td>\n",
       "      <td>0.0</td>\n",
       "      <td>43.89</td>\n",
       "      <td>62.86</td>\n",
       "      <td>199.0</td>\n",
       "      <td>13246.8</td>\n",
       "    </tr>\n",
       "    <tr>\n",
       "      <th>数据采集时间</th>\n",
       "      <td>2660</td>\n",
       "      <td>1</td>\n",
       "      <td>2018-12-31 00:00:00</td>\n",
       "      <td>2660</td>\n",
       "      <td>2018-12-31 00:00:00</td>\n",
       "      <td>2018-12-31 00:00:00</td>\n",
       "      <td>NaN</td>\n",
       "      <td>NaN</td>\n",
       "      <td>NaN</td>\n",
       "      <td>NaN</td>\n",
       "      <td>NaN</td>\n",
       "      <td>NaN</td>\n",
       "      <td>NaN</td>\n",
       "    </tr>\n",
       "  </tbody>\n",
       "</table>\n",
       "</div>"
      ],
      "text/plain": [
       "           count unique                  top  freq               first  \\\n",
       "订单付款时间      2148   2033  2018-06-12 13:14:50     4 2017-01-02 23:29:12   \n",
       "买家会员名       2660   1817                刘思超22    15                 NaT   \n",
       "买家实际支付金额  2660.0    NaN                  NaN   NaN                 NaT   \n",
       "数据采集时间      2660      1  2018-12-31 00:00:00  2660 2018-12-31 00:00:00   \n",
       "\n",
       "                        last        mean         std  min    25%    50%  \\\n",
       "订单付款时间   2018-12-31 15:21:17         NaN         NaN  NaN    NaN    NaN   \n",
       "买家会员名                    NaT         NaN         NaN  NaN    NaN    NaN   \n",
       "买家实际支付金额                 NaT  155.113094  350.332509  0.0  43.89  62.86   \n",
       "数据采集时间   2018-12-31 00:00:00         NaN         NaN  NaN    NaN    NaN   \n",
       "\n",
       "            75%      max  \n",
       "订单付款时间      NaN      NaN  \n",
       "买家会员名       NaN      NaN  \n",
       "买家实际支付金额  199.0  13246.8  \n",
       "数据采集时间      NaN      NaN  "
      ]
     },
     "execution_count": 7,
     "metadata": {},
     "output_type": "execute_result"
    }
   ],
   "source": [
    "view"
   ]
  },
  {
   "cell_type": "code",
   "execution_count": 8,
   "id": "6e21ca2b",
   "metadata": {},
   "outputs": [],
   "source": [
    "view['null'] = len(df1)-view['count']"
   ]
  },
  {
   "cell_type": "code",
   "execution_count": 9,
   "id": "b7017c00",
   "metadata": {},
   "outputs": [
    {
     "data": {
      "text/html": [
       "<div>\n",
       "<style scoped>\n",
       "    .dataframe tbody tr th:only-of-type {\n",
       "        vertical-align: middle;\n",
       "    }\n",
       "\n",
       "    .dataframe tbody tr th {\n",
       "        vertical-align: top;\n",
       "    }\n",
       "\n",
       "    .dataframe thead th {\n",
       "        text-align: right;\n",
       "    }\n",
       "</style>\n",
       "<table border=\"1\" class=\"dataframe\">\n",
       "  <thead>\n",
       "    <tr style=\"text-align: right;\">\n",
       "      <th></th>\n",
       "      <th>count</th>\n",
       "      <th>unique</th>\n",
       "      <th>top</th>\n",
       "      <th>freq</th>\n",
       "      <th>first</th>\n",
       "      <th>last</th>\n",
       "      <th>mean</th>\n",
       "      <th>std</th>\n",
       "      <th>min</th>\n",
       "      <th>25%</th>\n",
       "      <th>50%</th>\n",
       "      <th>75%</th>\n",
       "      <th>max</th>\n",
       "      <th>null</th>\n",
       "    </tr>\n",
       "  </thead>\n",
       "  <tbody>\n",
       "    <tr>\n",
       "      <th>订单付款时间</th>\n",
       "      <td>2148</td>\n",
       "      <td>2033</td>\n",
       "      <td>2018-06-12 13:14:50</td>\n",
       "      <td>4</td>\n",
       "      <td>2017-01-02 23:29:12</td>\n",
       "      <td>2018-12-31 15:21:17</td>\n",
       "      <td>NaN</td>\n",
       "      <td>NaN</td>\n",
       "      <td>NaN</td>\n",
       "      <td>NaN</td>\n",
       "      <td>NaN</td>\n",
       "      <td>NaN</td>\n",
       "      <td>NaN</td>\n",
       "      <td>512</td>\n",
       "    </tr>\n",
       "    <tr>\n",
       "      <th>买家会员名</th>\n",
       "      <td>2660</td>\n",
       "      <td>1817</td>\n",
       "      <td>刘思超22</td>\n",
       "      <td>15</td>\n",
       "      <td>NaT</td>\n",
       "      <td>NaT</td>\n",
       "      <td>NaN</td>\n",
       "      <td>NaN</td>\n",
       "      <td>NaN</td>\n",
       "      <td>NaN</td>\n",
       "      <td>NaN</td>\n",
       "      <td>NaN</td>\n",
       "      <td>NaN</td>\n",
       "      <td>0</td>\n",
       "    </tr>\n",
       "    <tr>\n",
       "      <th>买家实际支付金额</th>\n",
       "      <td>2660.0</td>\n",
       "      <td>NaN</td>\n",
       "      <td>NaN</td>\n",
       "      <td>NaN</td>\n",
       "      <td>NaT</td>\n",
       "      <td>NaT</td>\n",
       "      <td>155.113094</td>\n",
       "      <td>350.332509</td>\n",
       "      <td>0.0</td>\n",
       "      <td>43.89</td>\n",
       "      <td>62.86</td>\n",
       "      <td>199.0</td>\n",
       "      <td>13246.8</td>\n",
       "      <td>0.0</td>\n",
       "    </tr>\n",
       "    <tr>\n",
       "      <th>数据采集时间</th>\n",
       "      <td>2660</td>\n",
       "      <td>1</td>\n",
       "      <td>2018-12-31 00:00:00</td>\n",
       "      <td>2660</td>\n",
       "      <td>2018-12-31 00:00:00</td>\n",
       "      <td>2018-12-31 00:00:00</td>\n",
       "      <td>NaN</td>\n",
       "      <td>NaN</td>\n",
       "      <td>NaN</td>\n",
       "      <td>NaN</td>\n",
       "      <td>NaN</td>\n",
       "      <td>NaN</td>\n",
       "      <td>NaN</td>\n",
       "      <td>0</td>\n",
       "    </tr>\n",
       "  </tbody>\n",
       "</table>\n",
       "</div>"
      ],
      "text/plain": [
       "           count unique                  top  freq               first  \\\n",
       "订单付款时间      2148   2033  2018-06-12 13:14:50     4 2017-01-02 23:29:12   \n",
       "买家会员名       2660   1817                刘思超22    15                 NaT   \n",
       "买家实际支付金额  2660.0    NaN                  NaN   NaN                 NaT   \n",
       "数据采集时间      2660      1  2018-12-31 00:00:00  2660 2018-12-31 00:00:00   \n",
       "\n",
       "                        last        mean         std  min    25%    50%  \\\n",
       "订单付款时间   2018-12-31 15:21:17         NaN         NaN  NaN    NaN    NaN   \n",
       "买家会员名                    NaT         NaN         NaN  NaN    NaN    NaN   \n",
       "买家实际支付金额                 NaT  155.113094  350.332509  0.0  43.89  62.86   \n",
       "数据采集时间   2018-12-31 00:00:00         NaN         NaN  NaN    NaN    NaN   \n",
       "\n",
       "            75%      max null  \n",
       "订单付款时间      NaN      NaN  512  \n",
       "买家会员名       NaN      NaN    0  \n",
       "买家实际支付金额  199.0  13246.8  0.0  \n",
       "数据采集时间      NaN      NaN    0  "
      ]
     },
     "execution_count": 9,
     "metadata": {},
     "output_type": "execute_result"
    }
   ],
   "source": [
    "view"
   ]
  },
  {
   "cell_type": "code",
   "execution_count": 10,
   "id": "08ef96f8",
   "metadata": {},
   "outputs": [
    {
     "name": "stdout",
     "output_type": "stream",
     "text": [
      "         null      max  min\n",
      "订单付款时间    512      NaN  NaN\n",
      "买家会员名       0      NaN  NaN\n",
      "买家实际支付金额  0.0  13246.8  0.0\n",
      "数据采集时间      0      NaN  NaN\n"
     ]
    }
   ],
   "source": [
    "view = view[['null', 'max', 'min']]\n",
    "print(view)"
   ]
  },
  {
   "cell_type": "markdown",
   "id": "7ebd13f5",
   "metadata": {},
   "source": [
    "去空（订单付款时间），去除买家实际支付金额为0"
   ]
  },
  {
   "cell_type": "code",
   "execution_count": 11,
   "id": "89dab19c",
   "metadata": {},
   "outputs": [
    {
     "data": {
      "text/plain": [
       "512"
      ]
     },
     "execution_count": 11,
     "metadata": {},
     "output_type": "execute_result"
    }
   ],
   "source": [
    "df1['订单付款时间'].isnull().sum()"
   ]
  },
  {
   "cell_type": "code",
   "execution_count": 12,
   "id": "d9057419",
   "metadata": {},
   "outputs": [
    {
     "data": {
      "text/plain": [
       "386"
      ]
     },
     "execution_count": 12,
     "metadata": {},
     "output_type": "execute_result"
    }
   ],
   "source": [
    "(df1['买家实际支付金额']==0).sum()"
   ]
  },
  {
   "cell_type": "code",
   "execution_count": 13,
   "id": "721a91c3",
   "metadata": {},
   "outputs": [
    {
     "data": {
      "text/plain": [
       "订单付款时间       True\n",
       "买家会员名       False\n",
       "买家实际支付金额    False\n",
       "数据采集时间      False\n",
       "dtype: bool"
      ]
     },
     "execution_count": 13,
     "metadata": {},
     "output_type": "execute_result"
    }
   ],
   "source": [
    "df1.isnull().any()#会判断哪些列包含缺失值，该列存在缺失值则返回True，反之False。"
   ]
  },
  {
   "cell_type": "code",
   "execution_count": 14,
   "id": "99187a84",
   "metadata": {},
   "outputs": [],
   "source": [
    "df1 =df1[df1['订单付款时间'].notnull() & df1['买家实际支付金额']!=0]"
   ]
  },
  {
   "cell_type": "code",
   "execution_count": 15,
   "id": "57e8e5e9",
   "metadata": {},
   "outputs": [
    {
     "data": {
      "text/html": [
       "<div>\n",
       "<style scoped>\n",
       "    .dataframe tbody tr th:only-of-type {\n",
       "        vertical-align: middle;\n",
       "    }\n",
       "\n",
       "    .dataframe tbody tr th {\n",
       "        vertical-align: top;\n",
       "    }\n",
       "\n",
       "    .dataframe thead th {\n",
       "        text-align: right;\n",
       "    }\n",
       "</style>\n",
       "<table border=\"1\" class=\"dataframe\">\n",
       "  <thead>\n",
       "    <tr style=\"text-align: right;\">\n",
       "      <th></th>\n",
       "      <th>订单付款时间</th>\n",
       "      <th>买家会员名</th>\n",
       "      <th>买家实际支付金额</th>\n",
       "      <th>数据采集时间</th>\n",
       "    </tr>\n",
       "  </thead>\n",
       "  <tbody>\n",
       "    <tr>\n",
       "      <th>0</th>\n",
       "      <td>2018-01-31 22:45:01</td>\n",
       "      <td>qust99</td>\n",
       "      <td>143.64</td>\n",
       "      <td>2018-12-31</td>\n",
       "    </tr>\n",
       "    <tr>\n",
       "      <th>1</th>\n",
       "      <td>2018-01-31 21:02:30</td>\n",
       "      <td>songjones4000</td>\n",
       "      <td>55.86</td>\n",
       "      <td>2018-12-31</td>\n",
       "    </tr>\n",
       "    <tr>\n",
       "      <th>2</th>\n",
       "      <td>2018-01-31 20:29:59</td>\n",
       "      <td>133王超</td>\n",
       "      <td>55.86</td>\n",
       "      <td>2018-12-31</td>\n",
       "    </tr>\n",
       "    <tr>\n",
       "      <th>3</th>\n",
       "      <td>2018-01-31 17:17:58</td>\n",
       "      <td>扛扛大人</td>\n",
       "      <td>48.86</td>\n",
       "      <td>2018-12-31</td>\n",
       "    </tr>\n",
       "    <tr>\n",
       "      <th>5</th>\n",
       "      <td>2018-01-31 13:11:52</td>\n",
       "      <td>耶稣引领的燕儿</td>\n",
       "      <td>258.00</td>\n",
       "      <td>2018-12-31</td>\n",
       "    </tr>\n",
       "  </tbody>\n",
       "</table>\n",
       "</div>"
      ],
      "text/plain": [
       "               订单付款时间          买家会员名  买家实际支付金额     数据采集时间\n",
       "0 2018-01-31 22:45:01         qust99    143.64 2018-12-31\n",
       "1 2018-01-31 21:02:30  songjones4000     55.86 2018-12-31\n",
       "2 2018-01-31 20:29:59          133王超     55.86 2018-12-31\n",
       "3 2018-01-31 17:17:58           扛扛大人     48.86 2018-12-31\n",
       "5 2018-01-31 13:11:52        耶稣引领的燕儿    258.00 2018-12-31"
      ]
     },
     "execution_count": 15,
     "metadata": {},
     "output_type": "execute_result"
    }
   ],
   "source": [
    "df1.head()"
   ]
  },
  {
   "cell_type": "code",
   "execution_count": 16,
   "id": "01cc1e82",
   "metadata": {},
   "outputs": [
    {
     "data": {
      "text/plain": [
       "(2027, 4)"
      ]
     },
     "execution_count": 16,
     "metadata": {},
     "output_type": "execute_result"
    }
   ],
   "source": [
    "df1.shape"
   ]
  },
  {
   "cell_type": "code",
   "execution_count": 17,
   "id": "07f5925e",
   "metadata": {},
   "outputs": [
    {
     "data": {
      "text/plain": [
       "0"
      ]
     },
     "execution_count": 17,
     "metadata": {},
     "output_type": "execute_result"
    }
   ],
   "source": [
    "df1['订单付款时间'].isnull().sum()"
   ]
  },
  {
   "cell_type": "code",
   "execution_count": 18,
   "id": "98ea04d0",
   "metadata": {},
   "outputs": [
    {
     "data": {
      "text/plain": [
       "0"
      ]
     },
     "execution_count": 18,
     "metadata": {},
     "output_type": "execute_result"
    }
   ],
   "source": [
    "(df1['买家实际支付金额']==0).sum()"
   ]
  },
  {
   "cell_type": "markdown",
   "id": "c1ade699",
   "metadata": {},
   "source": [
    "+ R表示客户最近活跃时间与数据采集点时间距离，时间相减变为天。R越大，表示客户越久未发生交易，R越小，表示客户越近有交易发生。  \n",
    "+ F代表客户过去某段时间内的活跃频率。F越大，则表示客户同本公司的交易越频繁，是非常忠诚的客户；F越小，则表示客户不够活跃，且可能是竞争对手的常客。  \n",
    "+ M表示客户每次消费金额的多少，可以用最近一次消费金额，也可以用过去的平均消费金额，根据分析的目的不同，可以有不同的标识方法。一般来讲，单次交易金额较大的客户，支付能力强，价格敏感度低，是较为优质的客户，而每次交易金额很小的客户，可能在支付能力和支付意愿上相对较低。 \n",
    "\n",
    "R:最近消费时间距数据采集时间的间隔，利用to_datetime转换为时间格式：'yyyy-MM-dd HH:mm:ss'"
   ]
  },
  {
   "cell_type": "code",
   "execution_count": 19,
   "id": "f32d7bb5",
   "metadata": {},
   "outputs": [],
   "source": [
    "df1['R']=(pd.to_datetime(df1['数据采集时间']) - pd.to_datetime(df1['订单付款时间']))/np.timedelta64(1, 'D') "
   ]
  },
  {
   "cell_type": "code",
   "execution_count": 20,
   "id": "12fdae28",
   "metadata": {},
   "outputs": [
    {
     "data": {
      "text/html": [
       "<div>\n",
       "<style scoped>\n",
       "    .dataframe tbody tr th:only-of-type {\n",
       "        vertical-align: middle;\n",
       "    }\n",
       "\n",
       "    .dataframe tbody tr th {\n",
       "        vertical-align: top;\n",
       "    }\n",
       "\n",
       "    .dataframe thead th {\n",
       "        text-align: right;\n",
       "    }\n",
       "</style>\n",
       "<table border=\"1\" class=\"dataframe\">\n",
       "  <thead>\n",
       "    <tr style=\"text-align: right;\">\n",
       "      <th></th>\n",
       "      <th>订单付款时间</th>\n",
       "      <th>买家会员名</th>\n",
       "      <th>买家实际支付金额</th>\n",
       "      <th>数据采集时间</th>\n",
       "      <th>R</th>\n",
       "    </tr>\n",
       "  </thead>\n",
       "  <tbody>\n",
       "    <tr>\n",
       "      <th>0</th>\n",
       "      <td>2018-01-31 22:45:01</td>\n",
       "      <td>qust99</td>\n",
       "      <td>143.64</td>\n",
       "      <td>2018-12-31</td>\n",
       "      <td>333.052072</td>\n",
       "    </tr>\n",
       "    <tr>\n",
       "      <th>1</th>\n",
       "      <td>2018-01-31 21:02:30</td>\n",
       "      <td>songjones4000</td>\n",
       "      <td>55.86</td>\n",
       "      <td>2018-12-31</td>\n",
       "      <td>333.123264</td>\n",
       "    </tr>\n",
       "    <tr>\n",
       "      <th>2</th>\n",
       "      <td>2018-01-31 20:29:59</td>\n",
       "      <td>133王超</td>\n",
       "      <td>55.86</td>\n",
       "      <td>2018-12-31</td>\n",
       "      <td>333.145845</td>\n",
       "    </tr>\n",
       "    <tr>\n",
       "      <th>3</th>\n",
       "      <td>2018-01-31 17:17:58</td>\n",
       "      <td>扛扛大人</td>\n",
       "      <td>48.86</td>\n",
       "      <td>2018-12-31</td>\n",
       "      <td>333.279190</td>\n",
       "    </tr>\n",
       "    <tr>\n",
       "      <th>5</th>\n",
       "      <td>2018-01-31 13:11:52</td>\n",
       "      <td>耶稣引领的燕儿</td>\n",
       "      <td>258.00</td>\n",
       "      <td>2018-12-31</td>\n",
       "      <td>333.450093</td>\n",
       "    </tr>\n",
       "  </tbody>\n",
       "</table>\n",
       "</div>"
      ],
      "text/plain": [
       "               订单付款时间          买家会员名  买家实际支付金额     数据采集时间           R\n",
       "0 2018-01-31 22:45:01         qust99    143.64 2018-12-31  333.052072\n",
       "1 2018-01-31 21:02:30  songjones4000     55.86 2018-12-31  333.123264\n",
       "2 2018-01-31 20:29:59          133王超     55.86 2018-12-31  333.145845\n",
       "3 2018-01-31 17:17:58           扛扛大人     48.86 2018-12-31  333.279190\n",
       "5 2018-01-31 13:11:52        耶稣引领的燕儿    258.00 2018-12-31  333.450093"
      ]
     },
     "execution_count": 20,
     "metadata": {},
     "output_type": "execute_result"
    }
   ],
   "source": [
    "df1.head()"
   ]
  },
  {
   "cell_type": "code",
   "execution_count": 21,
   "id": "8562eabb",
   "metadata": {},
   "outputs": [],
   "source": [
    "df2=df1.groupby('买家会员名').agg({'R': 'min','买家实际支付金额':'sum'})"
   ]
  },
  {
   "cell_type": "code",
   "execution_count": 22,
   "id": "ead97c7a",
   "metadata": {},
   "outputs": [
    {
     "data": {
      "text/html": [
       "<div>\n",
       "<style scoped>\n",
       "    .dataframe tbody tr th:only-of-type {\n",
       "        vertical-align: middle;\n",
       "    }\n",
       "\n",
       "    .dataframe tbody tr th {\n",
       "        vertical-align: top;\n",
       "    }\n",
       "\n",
       "    .dataframe thead th {\n",
       "        text-align: right;\n",
       "    }\n",
       "</style>\n",
       "<table border=\"1\" class=\"dataframe\">\n",
       "  <thead>\n",
       "    <tr style=\"text-align: right;\">\n",
       "      <th></th>\n",
       "      <th>R</th>\n",
       "      <th>买家实际支付金额</th>\n",
       "    </tr>\n",
       "    <tr>\n",
       "      <th>买家会员名</th>\n",
       "      <th></th>\n",
       "      <th></th>\n",
       "    </tr>\n",
       "  </thead>\n",
       "  <tbody>\n",
       "    <tr>\n",
       "      <th>00牛哥哥00</th>\n",
       "      <td>692.591435</td>\n",
       "      <td>402.00</td>\n",
       "    </tr>\n",
       "    <tr>\n",
       "      <th>020luo</th>\n",
       "      <td>407.855521</td>\n",
       "      <td>74.70</td>\n",
       "    </tr>\n",
       "    <tr>\n",
       "      <th>0587xueguangju</th>\n",
       "      <td>625.368148</td>\n",
       "      <td>268.00</td>\n",
       "    </tr>\n",
       "    <tr>\n",
       "      <th>0o秋天de童话</th>\n",
       "      <td>82.045532</td>\n",
       "      <td>411.50</td>\n",
       "    </tr>\n",
       "    <tr>\n",
       "      <th>0残缺0</th>\n",
       "      <td>345.463183</td>\n",
       "      <td>48.86</td>\n",
       "    </tr>\n",
       "  </tbody>\n",
       "</table>\n",
       "</div>"
      ],
      "text/plain": [
       "                         R  买家实际支付金额\n",
       "买家会员名                               \n",
       "00牛哥哥00         692.591435    402.00\n",
       "020luo          407.855521     74.70\n",
       "0587xueguangju  625.368148    268.00\n",
       "0o秋天de童话         82.045532    411.50\n",
       "0残缺0            345.463183     48.86"
      ]
     },
     "execution_count": 22,
     "metadata": {},
     "output_type": "execute_result"
    }
   ],
   "source": [
    "df2.head()"
   ]
  },
  {
   "cell_type": "code",
   "execution_count": 23,
   "id": "9da49234",
   "metadata": {},
   "outputs": [],
   "source": [
    "df2['F']=df1.groupby(\"买家会员名\")['买家会员名'].size()"
   ]
  },
  {
   "cell_type": "code",
   "execution_count": 24,
   "id": "a9ebc65b",
   "metadata": {},
   "outputs": [
    {
     "data": {
      "text/html": [
       "<div>\n",
       "<style scoped>\n",
       "    .dataframe tbody tr th:only-of-type {\n",
       "        vertical-align: middle;\n",
       "    }\n",
       "\n",
       "    .dataframe tbody tr th {\n",
       "        vertical-align: top;\n",
       "    }\n",
       "\n",
       "    .dataframe thead th {\n",
       "        text-align: right;\n",
       "    }\n",
       "</style>\n",
       "<table border=\"1\" class=\"dataframe\">\n",
       "  <thead>\n",
       "    <tr style=\"text-align: right;\">\n",
       "      <th></th>\n",
       "      <th>R</th>\n",
       "      <th>买家实际支付金额</th>\n",
       "      <th>F</th>\n",
       "    </tr>\n",
       "    <tr>\n",
       "      <th>买家会员名</th>\n",
       "      <th></th>\n",
       "      <th></th>\n",
       "      <th></th>\n",
       "    </tr>\n",
       "  </thead>\n",
       "  <tbody>\n",
       "    <tr>\n",
       "      <th>00牛哥哥00</th>\n",
       "      <td>692.591435</td>\n",
       "      <td>402.00</td>\n",
       "      <td>2</td>\n",
       "    </tr>\n",
       "    <tr>\n",
       "      <th>020luo</th>\n",
       "      <td>407.855521</td>\n",
       "      <td>74.70</td>\n",
       "      <td>1</td>\n",
       "    </tr>\n",
       "    <tr>\n",
       "      <th>0587xueguangju</th>\n",
       "      <td>625.368148</td>\n",
       "      <td>268.00</td>\n",
       "      <td>1</td>\n",
       "    </tr>\n",
       "    <tr>\n",
       "      <th>0o秋天de童话</th>\n",
       "      <td>82.045532</td>\n",
       "      <td>411.50</td>\n",
       "      <td>2</td>\n",
       "    </tr>\n",
       "    <tr>\n",
       "      <th>0残缺0</th>\n",
       "      <td>345.463183</td>\n",
       "      <td>48.86</td>\n",
       "      <td>1</td>\n",
       "    </tr>\n",
       "  </tbody>\n",
       "</table>\n",
       "</div>"
      ],
      "text/plain": [
       "                         R  买家实际支付金额  F\n",
       "买家会员名                                  \n",
       "00牛哥哥00         692.591435    402.00  2\n",
       "020luo          407.855521     74.70  1\n",
       "0587xueguangju  625.368148    268.00  1\n",
       "0o秋天de童话         82.045532    411.50  2\n",
       "0残缺0            345.463183     48.86  1"
      ]
     },
     "execution_count": 24,
     "metadata": {},
     "output_type": "execute_result"
    }
   ],
   "source": [
    "df2.head()"
   ]
  },
  {
   "cell_type": "code",
   "execution_count": 25,
   "id": "87b17a82",
   "metadata": {},
   "outputs": [],
   "source": [
    "df2 = (df2-df2.mean(axis=0))/df2.std(axis=0)"
   ]
  },
  {
   "cell_type": "code",
   "execution_count": 26,
   "id": "74292b16",
   "metadata": {},
   "outputs": [
    {
     "data": {
      "text/html": [
       "<div>\n",
       "<style scoped>\n",
       "    .dataframe tbody tr th:only-of-type {\n",
       "        vertical-align: middle;\n",
       "    }\n",
       "\n",
       "    .dataframe tbody tr th {\n",
       "        vertical-align: top;\n",
       "    }\n",
       "\n",
       "    .dataframe thead th {\n",
       "        text-align: right;\n",
       "    }\n",
       "</style>\n",
       "<table border=\"1\" class=\"dataframe\">\n",
       "  <thead>\n",
       "    <tr style=\"text-align: right;\">\n",
       "      <th></th>\n",
       "      <th>R</th>\n",
       "      <th>买家实际支付金额</th>\n",
       "      <th>F</th>\n",
       "    </tr>\n",
       "    <tr>\n",
       "      <th>买家会员名</th>\n",
       "      <th></th>\n",
       "      <th></th>\n",
       "      <th></th>\n",
       "    </tr>\n",
       "  </thead>\n",
       "  <tbody>\n",
       "    <tr>\n",
       "      <th>00牛哥哥00</th>\n",
       "      <td>2.000318</td>\n",
       "      <td>0.346605</td>\n",
       "      <td>1.091863</td>\n",
       "    </tr>\n",
       "    <tr>\n",
       "      <th>020luo</th>\n",
       "      <td>0.508104</td>\n",
       "      <td>-0.269976</td>\n",
       "      <td>-0.413828</td>\n",
       "    </tr>\n",
       "    <tr>\n",
       "      <th>0587xueguangju</th>\n",
       "      <td>1.648021</td>\n",
       "      <td>0.094171</td>\n",
       "      <td>-0.413828</td>\n",
       "    </tr>\n",
       "    <tr>\n",
       "      <th>0o秋天de童话</th>\n",
       "      <td>-1.199368</td>\n",
       "      <td>0.364502</td>\n",
       "      <td>1.091863</td>\n",
       "    </tr>\n",
       "    <tr>\n",
       "      <th>0残缺0</th>\n",
       "      <td>0.181124</td>\n",
       "      <td>-0.318654</td>\n",
       "      <td>-0.413828</td>\n",
       "    </tr>\n",
       "  </tbody>\n",
       "</table>\n",
       "</div>"
      ],
      "text/plain": [
       "                       R  买家实际支付金额         F\n",
       "买家会员名                                       \n",
       "00牛哥哥00         2.000318  0.346605  1.091863\n",
       "020luo          0.508104 -0.269976 -0.413828\n",
       "0587xueguangju  1.648021  0.094171 -0.413828\n",
       "0o秋天de童话       -1.199368  0.364502  1.091863\n",
       "0残缺0            0.181124 -0.318654 -0.413828"
      ]
     },
     "execution_count": 26,
     "metadata": {},
     "output_type": "execute_result"
    }
   ],
   "source": [
    "df2.head()"
   ]
  },
  {
   "cell_type": "code",
   "execution_count": 27,
   "id": "b3bc334f",
   "metadata": {},
   "outputs": [],
   "source": [
    "df2.columns=['R','M','F']"
   ]
  },
  {
   "cell_type": "code",
   "execution_count": 28,
   "id": "b1159196",
   "metadata": {},
   "outputs": [
    {
     "data": {
      "text/html": [
       "<div>\n",
       "<style scoped>\n",
       "    .dataframe tbody tr th:only-of-type {\n",
       "        vertical-align: middle;\n",
       "    }\n",
       "\n",
       "    .dataframe tbody tr th {\n",
       "        vertical-align: top;\n",
       "    }\n",
       "\n",
       "    .dataframe thead th {\n",
       "        text-align: right;\n",
       "    }\n",
       "</style>\n",
       "<table border=\"1\" class=\"dataframe\">\n",
       "  <thead>\n",
       "    <tr style=\"text-align: right;\">\n",
       "      <th></th>\n",
       "      <th>R</th>\n",
       "      <th>M</th>\n",
       "      <th>F</th>\n",
       "    </tr>\n",
       "    <tr>\n",
       "      <th>买家会员名</th>\n",
       "      <th></th>\n",
       "      <th></th>\n",
       "      <th></th>\n",
       "    </tr>\n",
       "  </thead>\n",
       "  <tbody>\n",
       "    <tr>\n",
       "      <th>00牛哥哥00</th>\n",
       "      <td>2.000318</td>\n",
       "      <td>0.346605</td>\n",
       "      <td>1.091863</td>\n",
       "    </tr>\n",
       "    <tr>\n",
       "      <th>020luo</th>\n",
       "      <td>0.508104</td>\n",
       "      <td>-0.269976</td>\n",
       "      <td>-0.413828</td>\n",
       "    </tr>\n",
       "    <tr>\n",
       "      <th>0587xueguangju</th>\n",
       "      <td>1.648021</td>\n",
       "      <td>0.094171</td>\n",
       "      <td>-0.413828</td>\n",
       "    </tr>\n",
       "    <tr>\n",
       "      <th>0o秋天de童话</th>\n",
       "      <td>-1.199368</td>\n",
       "      <td>0.364502</td>\n",
       "      <td>1.091863</td>\n",
       "    </tr>\n",
       "    <tr>\n",
       "      <th>0残缺0</th>\n",
       "      <td>0.181124</td>\n",
       "      <td>-0.318654</td>\n",
       "      <td>-0.413828</td>\n",
       "    </tr>\n",
       "  </tbody>\n",
       "</table>\n",
       "</div>"
      ],
      "text/plain": [
       "                       R         M         F\n",
       "买家会员名                                       \n",
       "00牛哥哥00         2.000318  0.346605  1.091863\n",
       "020luo          0.508104 -0.269976 -0.413828\n",
       "0587xueguangju  1.648021  0.094171 -0.413828\n",
       "0o秋天de童话       -1.199368  0.364502  1.091863\n",
       "0残缺0            0.181124 -0.318654 -0.413828"
      ]
     },
     "execution_count": 28,
     "metadata": {},
     "output_type": "execute_result"
    }
   ],
   "source": [
    "df2.head()"
   ]
  },
  {
   "cell_type": "code",
   "execution_count": 29,
   "id": "0f3d0694",
   "metadata": {},
   "outputs": [],
   "source": [
    "from sklearn.cluster import KMeans\n",
    "import matplotlib.pyplot as plt"
   ]
  },
  {
   "cell_type": "code",
   "execution_count": 30,
   "id": "3bfe242b",
   "metadata": {},
   "outputs": [
    {
     "name": "stdout",
     "output_type": "stream",
     "text": [
      "                       R         F         M\n",
      "买家会员名                                       \n",
      "00牛哥哥00         2.000318  1.091863  0.346605\n",
      "020luo          0.508104 -0.413828 -0.269976\n",
      "0587xueguangju  1.648021 -0.413828  0.094171\n",
      "0o秋天de童话       -1.199368  1.091863  0.364502\n",
      "0残缺0            0.181124 -0.413828 -0.318654\n",
      "...                  ...       ...       ...\n",
      "黑瑾瞳            -0.806062  2.597554  0.028538\n",
      "鼠标右键点          -1.532039 -0.413828 -0.312984\n",
      "龙哥专用72          0.143081 -0.413828 -0.305467\n",
      "龙星宇1018         0.509322 -0.413828 -0.037698\n",
      "龙魂爱上凤灵          0.372785 -0.413828 -0.328073\n",
      "\n",
      "[1590 rows x 3 columns]\n"
     ]
    },
    {
     "data": {
      "text/plain": [
       "KMeans(max_iter=500, n_clusters=4)"
      ]
     },
     "execution_count": 30,
     "metadata": {},
     "output_type": "execute_result"
    }
   ],
   "source": [
    "k = 4                       #需要进行的聚类类别数\n",
    "iteration=500\n",
    "kmodel = KMeans(n_clusters = k,max_iter=iteration)\n",
    "data=df2[['R','F','M']]\n",
    "print(data)\n",
    "kmodel.fit(data) #训练模型"
   ]
  },
  {
   "cell_type": "code",
   "execution_count": 31,
   "id": "f572eeb6",
   "metadata": {},
   "outputs": [
    {
     "data": {
      "text/plain": [
       "0       0\n",
       "1       0\n",
       "2       0\n",
       "3       2\n",
       "4       0\n",
       "       ..\n",
       "1585    2\n",
       "1586    3\n",
       "1587    0\n",
       "1588    0\n",
       "1589    0\n",
       "Length: 1590, dtype: int32"
      ]
     },
     "execution_count": 31,
     "metadata": {},
     "output_type": "execute_result"
    }
   ],
   "source": [
    "pd.Series(kmodel.labels_)"
   ]
  },
  {
   "cell_type": "code",
   "execution_count": 32,
   "id": "1f3101de",
   "metadata": {},
   "outputs": [],
   "source": [
    "r=pd.Series(kmodel.labels_).value_counts()"
   ]
  },
  {
   "cell_type": "code",
   "execution_count": 33,
   "id": "7a86a5d3",
   "metadata": {},
   "outputs": [
    {
     "data": {
      "text/plain": [
       "0    755\n",
       "3    560\n",
       "2    273\n",
       "1      2\n",
       "dtype: int64"
      ]
     },
     "execution_count": 33,
     "metadata": {},
     "output_type": "execute_result"
    }
   ],
   "source": [
    "r"
   ]
  },
  {
   "cell_type": "code",
   "execution_count": 34,
   "id": "c1fc4ff3",
   "metadata": {},
   "outputs": [
    {
     "data": {
      "text/html": [
       "<div>\n",
       "<style scoped>\n",
       "    .dataframe tbody tr th:only-of-type {\n",
       "        vertical-align: middle;\n",
       "    }\n",
       "\n",
       "    .dataframe tbody tr th {\n",
       "        vertical-align: top;\n",
       "    }\n",
       "\n",
       "    .dataframe thead th {\n",
       "        text-align: right;\n",
       "    }\n",
       "</style>\n",
       "<table border=\"1\" class=\"dataframe\">\n",
       "  <thead>\n",
       "    <tr style=\"text-align: right;\">\n",
       "      <th></th>\n",
       "      <th>0</th>\n",
       "      <th>1</th>\n",
       "      <th>2</th>\n",
       "    </tr>\n",
       "  </thead>\n",
       "  <tbody>\n",
       "    <tr>\n",
       "      <th>0</th>\n",
       "      <td>0.832189</td>\n",
       "      <td>-0.334057</td>\n",
       "      <td>-0.025902</td>\n",
       "    </tr>\n",
       "    <tr>\n",
       "      <th>1</th>\n",
       "      <td>-1.179039</td>\n",
       "      <td>4.103245</td>\n",
       "      <td>24.084877</td>\n",
       "    </tr>\n",
       "    <tr>\n",
       "      <th>2</th>\n",
       "      <td>-0.477530</td>\n",
       "      <td>1.742674</td>\n",
       "      <td>0.230608</td>\n",
       "    </tr>\n",
       "    <tr>\n",
       "      <th>3</th>\n",
       "      <td>-0.884962</td>\n",
       "      <td>-0.413828</td>\n",
       "      <td>-0.163517</td>\n",
       "    </tr>\n",
       "  </tbody>\n",
       "</table>\n",
       "</div>"
      ],
      "text/plain": [
       "          0         1          2\n",
       "0  0.832189 -0.334057  -0.025902\n",
       "1 -1.179039  4.103245  24.084877\n",
       "2 -0.477530  1.742674   0.230608\n",
       "3 -0.884962 -0.413828  -0.163517"
      ]
     },
     "execution_count": 34,
     "metadata": {},
     "output_type": "execute_result"
    }
   ],
   "source": [
    "pd.DataFrame(kmodel.cluster_centers_)"
   ]
  },
  {
   "cell_type": "code",
   "execution_count": 35,
   "id": "90752326",
   "metadata": {},
   "outputs": [],
   "source": [
    "data=pd.concat([data,pd.Series(kmodel.labels_,index=data.index)], axis=1)"
   ]
  },
  {
   "cell_type": "code",
   "execution_count": 36,
   "id": "c8a9d616",
   "metadata": {},
   "outputs": [],
   "source": [
    "data.columns=['R','F','M','聚类类别']"
   ]
  },
  {
   "cell_type": "code",
   "execution_count": 37,
   "id": "f14c9cab",
   "metadata": {},
   "outputs": [
    {
     "data": {
      "text/html": [
       "<div>\n",
       "<style scoped>\n",
       "    .dataframe tbody tr th:only-of-type {\n",
       "        vertical-align: middle;\n",
       "    }\n",
       "\n",
       "    .dataframe tbody tr th {\n",
       "        vertical-align: top;\n",
       "    }\n",
       "\n",
       "    .dataframe thead th {\n",
       "        text-align: right;\n",
       "    }\n",
       "</style>\n",
       "<table border=\"1\" class=\"dataframe\">\n",
       "  <thead>\n",
       "    <tr style=\"text-align: right;\">\n",
       "      <th></th>\n",
       "      <th>R</th>\n",
       "      <th>F</th>\n",
       "      <th>M</th>\n",
       "      <th>聚类类别</th>\n",
       "    </tr>\n",
       "    <tr>\n",
       "      <th>买家会员名</th>\n",
       "      <th></th>\n",
       "      <th></th>\n",
       "      <th></th>\n",
       "      <th></th>\n",
       "    </tr>\n",
       "  </thead>\n",
       "  <tbody>\n",
       "    <tr>\n",
       "      <th>00牛哥哥00</th>\n",
       "      <td>2.000318</td>\n",
       "      <td>1.091863</td>\n",
       "      <td>0.346605</td>\n",
       "      <td>0</td>\n",
       "    </tr>\n",
       "    <tr>\n",
       "      <th>020luo</th>\n",
       "      <td>0.508104</td>\n",
       "      <td>-0.413828</td>\n",
       "      <td>-0.269976</td>\n",
       "      <td>0</td>\n",
       "    </tr>\n",
       "    <tr>\n",
       "      <th>0587xueguangju</th>\n",
       "      <td>1.648021</td>\n",
       "      <td>-0.413828</td>\n",
       "      <td>0.094171</td>\n",
       "      <td>0</td>\n",
       "    </tr>\n",
       "    <tr>\n",
       "      <th>0o秋天de童话</th>\n",
       "      <td>-1.199368</td>\n",
       "      <td>1.091863</td>\n",
       "      <td>0.364502</td>\n",
       "      <td>2</td>\n",
       "    </tr>\n",
       "    <tr>\n",
       "      <th>0残缺0</th>\n",
       "      <td>0.181124</td>\n",
       "      <td>-0.413828</td>\n",
       "      <td>-0.318654</td>\n",
       "      <td>0</td>\n",
       "    </tr>\n",
       "  </tbody>\n",
       "</table>\n",
       "</div>"
      ],
      "text/plain": [
       "                       R         F         M  聚类类别\n",
       "买家会员名                                             \n",
       "00牛哥哥00         2.000318  1.091863  0.346605     0\n",
       "020luo          0.508104 -0.413828 -0.269976     0\n",
       "0587xueguangju  1.648021 -0.413828  0.094171     0\n",
       "0o秋天de童话       -1.199368  1.091863  0.364502     2\n",
       "0残缺0            0.181124 -0.413828 -0.318654     0"
      ]
     },
     "execution_count": 37,
     "metadata": {},
     "output_type": "execute_result"
    }
   ],
   "source": [
    "data.head()"
   ]
  },
  {
   "cell_type": "code",
   "execution_count": 38,
   "id": "2484b960",
   "metadata": {
    "scrolled": false
   },
   "outputs": [
    {
     "data": {
      "image/png": "[encoded data removed]",
      "text/plain": [
       "<Figure size 640x480 with 3 Axes>"
      ]
     },
     "metadata": {},
     "output_type": "display_data"
    },
    {
     "data": {
      "image/png": "[encoded data removed]",
      "text/plain": [
       "<Figure size 640x480 with 3 Axes>"
      ]
     },
     "metadata": {},
     "output_type": "display_data"
    },
    {
     "data": {
      "image/png": "[encoded data removed]",
      "text/plain": [
       "<Figure size 640x480 with 3 Axes>"
      ]
     },
     "metadata": {},
     "output_type": "display_data"
    },
    {
     "data": {
      "image/png": "[encoded data removed]",
      "text/plain": [
       "<Figure size 640x480 with 3 Axes>"
      ]
     },
     "metadata": {},
     "output_type": "display_data"
    }
   ],
   "source": [
    "plt.rcParams['font.sans-serif']=['SimHei']  #运行配置参数中的字体（font）为黑体（SimHei）\n",
    "plt.rcParams['axes.unicode_minus']=False    #运行配置参数总的轴（axes）正常显示正负号（minus）\n",
    "for i in range(k):\n",
    "    cls=data[data['聚类类别']==i].drop(columns = '聚类类别')\n",
    "    cls.plot(kind='kde',linewidth=2,subplots=True,sharex=False) #subplot,将各个DataFrame列绘制到单独的subplot中,sharex,如果subplots=True，则共用同一个X轴，包括刻度和界限\n",
    "    plt.suptitle('客户群=%d;聚类数量=%d' %(i,r[i]))\n",
    "    plt.legend()\n",
    "    plt.show()"
   ]
  }
 ],
 "metadata": {
  "kernelspec": {
   "display_name": "Python 3 (ipykernel)",
   "language": "python",
   "name": "python3"
  },
  "language_info": {
   "codemirror_mode": {
    "name": "ipython",
    "version": 3
   },
   "file_extension": ".py",
   "mimetype": "text/x-python",
   "name": "python",
   "nbconvert_exporter": "python",
   "pygments_lexer": "ipython3",
   "version": "3.9.13"
  }
 },
 "nbformat": 4,
 "nbformat_minor": 5
}
