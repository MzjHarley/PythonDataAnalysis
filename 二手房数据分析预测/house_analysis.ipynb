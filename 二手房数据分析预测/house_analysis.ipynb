{
 "cells": [
  {
   "cell_type": "code",
   "execution_count": 1,
   "id": "385afdd7",
   "metadata": {},
   "outputs": [],
   "source": [
    "import pandas as pd\n",
    "from sklearn.svm import LinearSVR  \n",
    "import matplotlib.pyplot as plt"
   ]
  },
  {
   "cell_type": "code",
   "execution_count": 2,
   "id": "42cf9688",
   "metadata": {},
   "outputs": [],
   "source": [
    "data = pd.read_csv(\"data.csv\")"
   ]
  },
  {
   "cell_type": "code",
   "execution_count": 3,
   "id": "a9c39d4c",
   "metadata": {},
   "outputs": [
    {
     "data": {
      "text/html": [
       "<div>\n",
       "<style scoped>\n",
       "    .dataframe tbody tr th:only-of-type {\n",
       "        vertical-align: middle;\n",
       "    }\n",
       "\n",
       "    .dataframe tbody tr th {\n",
       "        vertical-align: top;\n",
       "    }\n",
       "\n",
       "    .dataframe thead th {\n",
       "        text-align: right;\n",
       "    }\n",
       "</style>\n",
       "<table border=\"1\" class=\"dataframe\">\n",
       "  <thead>\n",
       "    <tr style=\"text-align: right;\">\n",
       "      <th></th>\n",
       "      <th>Unnamed: 0</th>\n",
       "      <th>小区名字</th>\n",
       "      <th>总价</th>\n",
       "      <th>户型</th>\n",
       "      <th>建筑面积</th>\n",
       "      <th>单价</th>\n",
       "      <th>朝向</th>\n",
       "      <th>楼层</th>\n",
       "      <th>装修</th>\n",
       "      <th>区域</th>\n",
       "    </tr>\n",
       "  </thead>\n",
       "  <tbody>\n",
       "    <tr>\n",
       "      <th>0</th>\n",
       "      <td>0</td>\n",
       "      <td>中天北湾新城</td>\n",
       "      <td>89万</td>\n",
       "      <td>2室2厅1卫</td>\n",
       "      <td>89平米</td>\n",
       "      <td>10000元/平米</td>\n",
       "      <td>南北</td>\n",
       "      <td>低层</td>\n",
       "      <td>毛坯</td>\n",
       "      <td>高新</td>\n",
       "    </tr>\n",
       "    <tr>\n",
       "      <th>1</th>\n",
       "      <td>1</td>\n",
       "      <td>桦林苑</td>\n",
       "      <td>99.8万</td>\n",
       "      <td>3室2厅1卫</td>\n",
       "      <td>143平米</td>\n",
       "      <td>6979元/平米</td>\n",
       "      <td>南北</td>\n",
       "      <td>中层</td>\n",
       "      <td>毛坯</td>\n",
       "      <td>净月</td>\n",
       "    </tr>\n",
       "    <tr>\n",
       "      <th>2</th>\n",
       "      <td>2</td>\n",
       "      <td>嘉柏湾</td>\n",
       "      <td>32万</td>\n",
       "      <td>1室1厅1卫</td>\n",
       "      <td>43.3平米</td>\n",
       "      <td>7390元/平米</td>\n",
       "      <td>南</td>\n",
       "      <td>高层</td>\n",
       "      <td>精装修</td>\n",
       "      <td>经开</td>\n",
       "    </tr>\n",
       "    <tr>\n",
       "      <th>3</th>\n",
       "      <td>3</td>\n",
       "      <td>中环12区</td>\n",
       "      <td>51.5万</td>\n",
       "      <td>2室1厅1卫</td>\n",
       "      <td>57平米</td>\n",
       "      <td>9035元/平米</td>\n",
       "      <td>南北</td>\n",
       "      <td>高层</td>\n",
       "      <td>精装修</td>\n",
       "      <td>南关</td>\n",
       "    </tr>\n",
       "    <tr>\n",
       "      <th>4</th>\n",
       "      <td>4</td>\n",
       "      <td>昊源高格蓝湾</td>\n",
       "      <td>210万</td>\n",
       "      <td>3室2厅2卫</td>\n",
       "      <td>160.8平米</td>\n",
       "      <td>13060元/平米</td>\n",
       "      <td>南北</td>\n",
       "      <td>高层</td>\n",
       "      <td>精装修</td>\n",
       "      <td>二道</td>\n",
       "    </tr>\n",
       "  </tbody>\n",
       "</table>\n",
       "</div>"
      ],
      "text/plain": [
       "   Unnamed: 0    小区名字     总价      户型     建筑面积         单价  朝向  楼层   装修  区域\n",
       "0           0  中天北湾新城    89万  2室2厅1卫     89平米  10000元/平米  南北  低层   毛坯  高新\n",
       "1           1     桦林苑  99.8万  3室2厅1卫    143平米   6979元/平米  南北  中层   毛坯  净月\n",
       "2           2     嘉柏湾    32万  1室1厅1卫   43.3平米   7390元/平米   南  高层  精装修  经开\n",
       "3           3   中环12区  51.5万  2室1厅1卫     57平米   9035元/平米  南北  高层  精装修  南关\n",
       "4           4  昊源高格蓝湾   210万  3室2厅2卫  160.8平米  13060元/平米  南北  高层  精装修  二道"
      ]
     },
     "execution_count": 3,
     "metadata": {},
     "output_type": "execute_result"
    }
   ],
   "source": [
    "data.head()"
   ]
  },
  {
   "cell_type": "code",
   "execution_count": 4,
   "id": "5c19b75d",
   "metadata": {},
   "outputs": [],
   "source": [
    "del data[\"Unnamed: 0\"]"
   ]
  },
  {
   "cell_type": "code",
   "execution_count": 5,
   "id": "7601c86d",
   "metadata": {},
   "outputs": [
    {
     "data": {
      "text/html": [
       "<div>\n",
       "<style scoped>\n",
       "    .dataframe tbody tr th:only-of-type {\n",
       "        vertical-align: middle;\n",
       "    }\n",
       "\n",
       "    .dataframe tbody tr th {\n",
       "        vertical-align: top;\n",
       "    }\n",
       "\n",
       "    .dataframe thead th {\n",
       "        text-align: right;\n",
       "    }\n",
       "</style>\n",
       "<table border=\"1\" class=\"dataframe\">\n",
       "  <thead>\n",
       "    <tr style=\"text-align: right;\">\n",
       "      <th></th>\n",
       "      <th>小区名字</th>\n",
       "      <th>总价</th>\n",
       "      <th>户型</th>\n",
       "      <th>建筑面积</th>\n",
       "      <th>单价</th>\n",
       "      <th>朝向</th>\n",
       "      <th>楼层</th>\n",
       "      <th>装修</th>\n",
       "      <th>区域</th>\n",
       "    </tr>\n",
       "  </thead>\n",
       "  <tbody>\n",
       "    <tr>\n",
       "      <th>0</th>\n",
       "      <td>中天北湾新城</td>\n",
       "      <td>89万</td>\n",
       "      <td>2室2厅1卫</td>\n",
       "      <td>89平米</td>\n",
       "      <td>10000元/平米</td>\n",
       "      <td>南北</td>\n",
       "      <td>低层</td>\n",
       "      <td>毛坯</td>\n",
       "      <td>高新</td>\n",
       "    </tr>\n",
       "    <tr>\n",
       "      <th>1</th>\n",
       "      <td>桦林苑</td>\n",
       "      <td>99.8万</td>\n",
       "      <td>3室2厅1卫</td>\n",
       "      <td>143平米</td>\n",
       "      <td>6979元/平米</td>\n",
       "      <td>南北</td>\n",
       "      <td>中层</td>\n",
       "      <td>毛坯</td>\n",
       "      <td>净月</td>\n",
       "    </tr>\n",
       "    <tr>\n",
       "      <th>2</th>\n",
       "      <td>嘉柏湾</td>\n",
       "      <td>32万</td>\n",
       "      <td>1室1厅1卫</td>\n",
       "      <td>43.3平米</td>\n",
       "      <td>7390元/平米</td>\n",
       "      <td>南</td>\n",
       "      <td>高层</td>\n",
       "      <td>精装修</td>\n",
       "      <td>经开</td>\n",
       "    </tr>\n",
       "    <tr>\n",
       "      <th>3</th>\n",
       "      <td>中环12区</td>\n",
       "      <td>51.5万</td>\n",
       "      <td>2室1厅1卫</td>\n",
       "      <td>57平米</td>\n",
       "      <td>9035元/平米</td>\n",
       "      <td>南北</td>\n",
       "      <td>高层</td>\n",
       "      <td>精装修</td>\n",
       "      <td>南关</td>\n",
       "    </tr>\n",
       "    <tr>\n",
       "      <th>4</th>\n",
       "      <td>昊源高格蓝湾</td>\n",
       "      <td>210万</td>\n",
       "      <td>3室2厅2卫</td>\n",
       "      <td>160.8平米</td>\n",
       "      <td>13060元/平米</td>\n",
       "      <td>南北</td>\n",
       "      <td>高层</td>\n",
       "      <td>精装修</td>\n",
       "      <td>二道</td>\n",
       "    </tr>\n",
       "  </tbody>\n",
       "</table>\n",
       "</div>"
      ],
      "text/plain": [
       "     小区名字     总价      户型     建筑面积         单价  朝向  楼层   装修  区域\n",
       "0  中天北湾新城    89万  2室2厅1卫     89平米  10000元/平米  南北  低层   毛坯  高新\n",
       "1     桦林苑  99.8万  3室2厅1卫    143平米   6979元/平米  南北  中层   毛坯  净月\n",
       "2     嘉柏湾    32万  1室1厅1卫   43.3平米   7390元/平米   南  高层  精装修  经开\n",
       "3   中环12区  51.5万  2室1厅1卫     57平米   9035元/平米  南北  高层  精装修  南关\n",
       "4  昊源高格蓝湾   210万  3室2厅2卫  160.8平米  13060元/平米  南北  高层  精装修  二道"
      ]
     },
     "execution_count": 5,
     "metadata": {},
     "output_type": "execute_result"
    }
   ],
   "source": [
    "data.head()"
   ]
  },
  {
   "cell_type": "code",
   "execution_count": 6,
   "id": "cbe55e7a",
   "metadata": {},
   "outputs": [
    {
     "data": {
      "text/plain": [
       "(2583, 9)"
      ]
     },
     "execution_count": 6,
     "metadata": {},
     "output_type": "execute_result"
    }
   ],
   "source": [
    "data.shape"
   ]
  },
  {
   "cell_type": "code",
   "execution_count": 7,
   "id": "2fbd9318",
   "metadata": {},
   "outputs": [
    {
     "data": {
      "text/plain": [
       "小区名字    True\n",
       "总价      True\n",
       "户型      True\n",
       "建筑面积    True\n",
       "单价      True\n",
       "朝向      True\n",
       "楼层      True\n",
       "装修      True\n",
       "区域      True\n",
       "dtype: bool"
      ]
     },
     "execution_count": 7,
     "metadata": {},
     "output_type": "execute_result"
    }
   ],
   "source": [
    "data.isnull().any() #C存在缺失值返回True"
   ]
  },
  {
   "cell_type": "code",
   "execution_count": 8,
   "id": "f5ee25f3",
   "metadata": {},
   "outputs": [],
   "source": [
    "data.dropna(inplace=True)"
   ]
  },
  {
   "cell_type": "code",
   "execution_count": 9,
   "id": "77764b3e",
   "metadata": {},
   "outputs": [
    {
     "data": {
      "text/plain": [
       "(2551, 9)"
      ]
     },
     "execution_count": 9,
     "metadata": {},
     "output_type": "execute_result"
    }
   ],
   "source": [
    "data.shape"
   ]
  },
  {
   "cell_type": "code",
   "execution_count": 10,
   "id": "3d65c486",
   "metadata": {},
   "outputs": [],
   "source": [
    "data['单价'] = data['单价'].map(lambda d: d.replace('元/平米', '')).astype(float)\n",
    "data['总价'] = data['总价'].map(lambda z: z.replace('万', '')).astype(float)\n",
    "data['建筑面积'] = data['建筑面积'].map(lambda p: p.replace('平米', '')).astype(float)"
   ]
  },
  {
   "cell_type": "code",
   "execution_count": 11,
   "id": "822b2bce",
   "metadata": {},
   "outputs": [
    {
     "data": {
      "text/html": [
       "<div>\n",
       "<style scoped>\n",
       "    .dataframe tbody tr th:only-of-type {\n",
       "        vertical-align: middle;\n",
       "    }\n",
       "\n",
       "    .dataframe tbody tr th {\n",
       "        vertical-align: top;\n",
       "    }\n",
       "\n",
       "    .dataframe thead th {\n",
       "        text-align: right;\n",
       "    }\n",
       "</style>\n",
       "<table border=\"1\" class=\"dataframe\">\n",
       "  <thead>\n",
       "    <tr style=\"text-align: right;\">\n",
       "      <th></th>\n",
       "      <th>小区名字</th>\n",
       "      <th>总价</th>\n",
       "      <th>户型</th>\n",
       "      <th>建筑面积</th>\n",
       "      <th>单价</th>\n",
       "      <th>朝向</th>\n",
       "      <th>楼层</th>\n",
       "      <th>装修</th>\n",
       "      <th>区域</th>\n",
       "    </tr>\n",
       "  </thead>\n",
       "  <tbody>\n",
       "    <tr>\n",
       "      <th>0</th>\n",
       "      <td>中天北湾新城</td>\n",
       "      <td>89.0</td>\n",
       "      <td>2室2厅1卫</td>\n",
       "      <td>89.0</td>\n",
       "      <td>10000.0</td>\n",
       "      <td>南北</td>\n",
       "      <td>低层</td>\n",
       "      <td>毛坯</td>\n",
       "      <td>高新</td>\n",
       "    </tr>\n",
       "    <tr>\n",
       "      <th>1</th>\n",
       "      <td>桦林苑</td>\n",
       "      <td>99.8</td>\n",
       "      <td>3室2厅1卫</td>\n",
       "      <td>143.0</td>\n",
       "      <td>6979.0</td>\n",
       "      <td>南北</td>\n",
       "      <td>中层</td>\n",
       "      <td>毛坯</td>\n",
       "      <td>净月</td>\n",
       "    </tr>\n",
       "    <tr>\n",
       "      <th>2</th>\n",
       "      <td>嘉柏湾</td>\n",
       "      <td>32.0</td>\n",
       "      <td>1室1厅1卫</td>\n",
       "      <td>43.3</td>\n",
       "      <td>7390.0</td>\n",
       "      <td>南</td>\n",
       "      <td>高层</td>\n",
       "      <td>精装修</td>\n",
       "      <td>经开</td>\n",
       "    </tr>\n",
       "    <tr>\n",
       "      <th>3</th>\n",
       "      <td>中环12区</td>\n",
       "      <td>51.5</td>\n",
       "      <td>2室1厅1卫</td>\n",
       "      <td>57.0</td>\n",
       "      <td>9035.0</td>\n",
       "      <td>南北</td>\n",
       "      <td>高层</td>\n",
       "      <td>精装修</td>\n",
       "      <td>南关</td>\n",
       "    </tr>\n",
       "    <tr>\n",
       "      <th>4</th>\n",
       "      <td>昊源高格蓝湾</td>\n",
       "      <td>210.0</td>\n",
       "      <td>3室2厅2卫</td>\n",
       "      <td>160.8</td>\n",
       "      <td>13060.0</td>\n",
       "      <td>南北</td>\n",
       "      <td>高层</td>\n",
       "      <td>精装修</td>\n",
       "      <td>二道</td>\n",
       "    </tr>\n",
       "  </tbody>\n",
       "</table>\n",
       "</div>"
      ],
      "text/plain": [
       "     小区名字     总价      户型   建筑面积       单价  朝向  楼层   装修  区域\n",
       "0  中天北湾新城   89.0  2室2厅1卫   89.0  10000.0  南北  低层   毛坯  高新\n",
       "1     桦林苑   99.8  3室2厅1卫  143.0   6979.0  南北  中层   毛坯  净月\n",
       "2     嘉柏湾   32.0  1室1厅1卫   43.3   7390.0   南  高层  精装修  经开\n",
       "3   中环12区   51.5  2室1厅1卫   57.0   9035.0  南北  高层  精装修  南关\n",
       "4  昊源高格蓝湾  210.0  3室2厅2卫  160.8  13060.0  南北  高层  精装修  二道"
      ]
     },
     "execution_count": 11,
     "metadata": {},
     "output_type": "execute_result"
    }
   ],
   "source": [
    "data.head()"
   ]
  },
  {
   "cell_type": "markdown",
   "id": "0bd3d41f",
   "metadata": {},
   "source": [
    "## 获取各区二手房均价分析"
   ]
  },
  {
   "cell_type": "code",
   "execution_count": 12,
   "id": "ec080948",
   "metadata": {},
   "outputs": [],
   "source": [
    "group_average_price = data.groupby('区域').agg({\"单价\":'mean'})"
   ]
  },
  {
   "cell_type": "code",
   "execution_count": 13,
   "id": "124ac159",
   "metadata": {},
   "outputs": [
    {
     "data": {
      "text/html": [
       "<div>\n",
       "<style scoped>\n",
       "    .dataframe tbody tr th:only-of-type {\n",
       "        vertical-align: middle;\n",
       "    }\n",
       "\n",
       "    .dataframe tbody tr th {\n",
       "        vertical-align: top;\n",
       "    }\n",
       "\n",
       "    .dataframe thead th {\n",
       "        text-align: right;\n",
       "    }\n",
       "</style>\n",
       "<table border=\"1\" class=\"dataframe\">\n",
       "  <thead>\n",
       "    <tr style=\"text-align: right;\">\n",
       "      <th></th>\n",
       "      <th>单价</th>\n",
       "    </tr>\n",
       "    <tr>\n",
       "      <th>区域</th>\n",
       "      <th></th>\n",
       "    </tr>\n",
       "  </thead>\n",
       "  <tbody>\n",
       "    <tr>\n",
       "      <th>二道</th>\n",
       "      <td>9642.367347</td>\n",
       "    </tr>\n",
       "    <tr>\n",
       "      <th>净月</th>\n",
       "      <td>12426.877133</td>\n",
       "    </tr>\n",
       "    <tr>\n",
       "      <th>南关</th>\n",
       "      <td>10602.396887</td>\n",
       "    </tr>\n",
       "    <tr>\n",
       "      <th>宽城</th>\n",
       "      <td>8062.537594</td>\n",
       "    </tr>\n",
       "    <tr>\n",
       "      <th>朝阳</th>\n",
       "      <td>14328.618834</td>\n",
       "    </tr>\n",
       "    <tr>\n",
       "      <th>汽开</th>\n",
       "      <td>9176.100000</td>\n",
       "    </tr>\n",
       "    <tr>\n",
       "      <th>经开</th>\n",
       "      <td>9369.863333</td>\n",
       "    </tr>\n",
       "    <tr>\n",
       "      <th>绿园</th>\n",
       "      <td>9654.157895</td>\n",
       "    </tr>\n",
       "    <tr>\n",
       "      <th>高新</th>\n",
       "      <td>11009.233161</td>\n",
       "    </tr>\n",
       "  </tbody>\n",
       "</table>\n",
       "</div>"
      ],
      "text/plain": [
       "              单价\n",
       "区域              \n",
       "二道   9642.367347\n",
       "净月  12426.877133\n",
       "南关  10602.396887\n",
       "宽城   8062.537594\n",
       "朝阳  14328.618834\n",
       "汽开   9176.100000\n",
       "经开   9369.863333\n",
       "绿园   9654.157895\n",
       "高新  11009.233161"
      ]
     },
     "execution_count": 13,
     "metadata": {},
     "output_type": "execute_result"
    }
   ],
   "source": [
    "group_average_price"
   ]
  },
  {
   "cell_type": "code",
   "execution_count": 14,
   "id": "f45b8cc4",
   "metadata": {},
   "outputs": [],
   "source": [
    "x=list(group_average_price.index)"
   ]
  },
  {
   "cell_type": "code",
   "execution_count": 15,
   "id": "66dd85e8",
   "metadata": {},
   "outputs": [],
   "source": [
    "y=group_average_price['单价'].values.astype(int)"
   ]
  },
  {
   "cell_type": "code",
   "execution_count": 16,
   "id": "bfa554ef",
   "metadata": {},
   "outputs": [
    {
     "data": {
      "text/plain": [
       "(['二道', '净月', '南关', '宽城', '朝阳', '汽开', '经开', '绿园', '高新'],\n",
       " array([ 9642, 12426, 10602,  8062, 14328,  9176,  9369,  9654, 11009]))"
      ]
     },
     "execution_count": 16,
     "metadata": {},
     "output_type": "execute_result"
    }
   ],
   "source": [
    "x,y"
   ]
  },
  {
   "cell_type": "code",
   "execution_count": 17,
   "id": "9a3f3e87",
   "metadata": {},
   "outputs": [
    {
     "data": {
      "image/png": "[encoded data removed]",
      "text/plain": [
       "<Figure size 640x480 with 1 Axes>"
      ]
     },
     "metadata": {},
     "output_type": "display_data"
    }
   ],
   "source": [
    "plt.rcParams['font.sans-serif'] = ['SimHei']\n",
    "plt.rcParams['axes.unicode_minus'] = False\n",
    "plt.figure()                         \n",
    "plt.bar(x,y, alpha=0.8)              \n",
    "plt.xlabel(\"区域\")                    \n",
    "plt.ylabel(\"均价\")                    \n",
    "plt.title(\"均价条形图\")                    \n",
    "for a, b in zip(x,y):          \n",
    "    plt.text(a, b + 100, b, ha='center')\n",
    "plt.show()        "
   ]
  },
  {
   "cell_type": "markdown",
   "id": "d75429a2",
   "metadata": {},
   "source": [
    "## 获取各区房子数量比例"
   ]
  },
  {
   "cell_type": "code",
   "execution_count": 18,
   "id": "da1efd30",
   "metadata": {},
   "outputs": [],
   "source": [
    "group_number = data.groupby('区域').size()"
   ]
  },
  {
   "cell_type": "code",
   "execution_count": 19,
   "id": "ee7a6a84",
   "metadata": {},
   "outputs": [
    {
     "data": {
      "text/plain": [
       "区域\n",
       "二道    490\n",
       "净月    293\n",
       "南关    257\n",
       "宽城    266\n",
       "朝阳    223\n",
       "汽开     70\n",
       "经开    300\n",
       "绿园    266\n",
       "高新    386\n",
       "dtype: int64"
      ]
     },
     "execution_count": 19,
     "metadata": {},
     "output_type": "execute_result"
    }
   ],
   "source": [
    "group_number"
   ]
  },
  {
   "cell_type": "code",
   "execution_count": 20,
   "id": "1f2bd76a",
   "metadata": {},
   "outputs": [],
   "source": [
    "percentage = group_number/group_number.values.sum() "
   ]
  },
  {
   "cell_type": "code",
   "execution_count": 21,
   "id": "8abc3b90",
   "metadata": {},
   "outputs": [
    {
     "data": {
      "text/plain": [
       "区域\n",
       "二道    0.192082\n",
       "净月    0.114857\n",
       "南关    0.100745\n",
       "宽城    0.104273\n",
       "朝阳    0.087417\n",
       "汽开    0.027440\n",
       "经开    0.117601\n",
       "绿园    0.104273\n",
       "高新    0.151313\n",
       "dtype: float64"
      ]
     },
     "execution_count": 21,
     "metadata": {},
     "output_type": "execute_result"
    }
   ],
   "source": [
    "percentage"
   ]
  },
  {
   "cell_type": "code",
   "execution_count": 22,
   "id": "11d19935",
   "metadata": {},
   "outputs": [
    {
     "data": {
      "image/png": "[encoded data removed]",
      "text/plain": [
       "<Figure size 640x480 with 1 Axes>"
      ]
     },
     "metadata": {},
     "output_type": "display_data"
    }
   ],
   "source": [
    "plt.figure()                         \n",
    "plt.pie(percentage.values,labels=group_number.index,labeldistance=1.05,autopct=\"%1.1f%%\",explode=[0.1,0,0,0,0,0,0,0,0],\n",
    "        shadow=True, startangle=0, pctdistance=0.6)\n",
    "plt.axis(\"equal\")  \n",
    "plt.title(\"各区房子数量饼状图\", fontsize=12)\n",
    "plt.legend(bbox_to_anchor=(0.03, 1)) \n",
    "plt.show()  "
   ]
  },
  {
   "cell_type": "markdown",
   "id": "9b601b94",
   "metadata": {},
   "source": [
    "## 获取全市二手房装修程度对比"
   ]
  },
  {
   "cell_type": "code",
   "execution_count": 23,
   "id": "1dba6c5b",
   "metadata": {},
   "outputs": [],
   "source": [
    "group_renovation = data.groupby('装修').size()"
   ]
  },
  {
   "cell_type": "code",
   "execution_count": 24,
   "id": "95355938",
   "metadata": {},
   "outputs": [
    {
     "data": {
      "text/plain": [
       "装修\n",
       "中装修       82\n",
       "暂无       124\n",
       "毛坯       236\n",
       "简装修      226\n",
       "精装修     1602\n",
       "豪华装修     281\n",
       "dtype: int64"
      ]
     },
     "execution_count": 24,
     "metadata": {},
     "output_type": "execute_result"
    }
   ],
   "source": [
    "group_renovation"
   ]
  },
  {
   "cell_type": "code",
   "execution_count": 25,
   "id": "6335fc19",
   "metadata": {},
   "outputs": [],
   "source": [
    "type_renovation = list(group_renovation.index)     \n",
    "number = group_renovation.values  "
   ]
  },
  {
   "cell_type": "code",
   "execution_count": 26,
   "id": "7c1b84aa",
   "metadata": {},
   "outputs": [
    {
     "data": {
      "text/plain": [
       "(['中装修', '暂无', '毛坯', '简装修', '精装修', '豪华装修'],\n",
       " array([  82,  124,  236,  226, 1602,  281], dtype=int64))"
      ]
     },
     "execution_count": 26,
     "metadata": {},
     "output_type": "execute_result"
    }
   ],
   "source": [
    "type_renovation,number"
   ]
  },
  {
   "cell_type": "code",
   "execution_count": 27,
   "id": "c3d29258",
   "metadata": {},
   "outputs": [
    {
     "data": {
      "image/png": "[encoded data removed]",
      "text/plain": [
       "<Figure size 640x480 with 1 Axes>"
      ]
     },
     "metadata": {},
     "output_type": "display_data"
    }
   ],
   "source": [
    "plt.figure()                         \n",
    "plt.bar(type_renovation,number, alpha=0.8)              \n",
    "plt.xlabel(\"装修类型\")                    \n",
    "plt.ylabel(\"数量\")                 \n",
    "plt.title(\"装修条形图\")                    \n",
    "for a, b in zip(type_renovation,number):   \n",
    "    plt.text(a, b + 100, b, ha='center')\n",
    "plt.show()   "
   ]
  },
  {
   "cell_type": "markdown",
   "id": "7b27d87c",
   "metadata": {},
   "source": [
    "## 获取二手房热门户型均价"
   ]
  },
  {
   "cell_type": "code",
   "execution_count": 28,
   "id": "7023ff38",
   "metadata": {},
   "outputs": [],
   "source": [
    "house_type_number = data.groupby('户型').size().sort_values(ascending=False)"
   ]
  },
  {
   "cell_type": "code",
   "execution_count": 29,
   "id": "c8ac3118",
   "metadata": {},
   "outputs": [
    {
     "data": {
      "text/plain": [
       "户型\n",
       "2室2厅1卫    953\n",
       "2室1厅1卫    571\n",
       "3室2厅2卫    360\n",
       "3室2厅1卫    212\n",
       "1室1厅1卫    164\n",
       "dtype: int64"
      ]
     },
     "execution_count": 29,
     "metadata": {},
     "output_type": "execute_result"
    }
   ],
   "source": [
    "house_type_number.head()"
   ]
  },
  {
   "cell_type": "code",
   "execution_count": 30,
   "id": "c0cf8eb9",
   "metadata": {},
   "outputs": [
    {
     "data": {
      "text/plain": [
       "(46,)"
      ]
     },
     "execution_count": 30,
     "metadata": {},
     "output_type": "execute_result"
    }
   ],
   "source": [
    "house_type_number.shape"
   ]
  },
  {
   "cell_type": "code",
   "execution_count": 31,
   "id": "87147950",
   "metadata": {},
   "outputs": [],
   "source": [
    "house_type_mean = data.groupby('户型').agg({\"单价\":'mean'})"
   ]
  },
  {
   "cell_type": "code",
   "execution_count": 32,
   "id": "cfbc5f96",
   "metadata": {},
   "outputs": [
    {
     "data": {
      "text/plain": [
       "pandas.core.frame.DataFrame"
      ]
     },
     "execution_count": 32,
     "metadata": {},
     "output_type": "execute_result"
    }
   ],
   "source": [
    "type(house_type_mean)"
   ]
  },
  {
   "cell_type": "code",
   "execution_count": 33,
   "id": "1d65d9cf",
   "metadata": {},
   "outputs": [
    {
     "data": {
      "text/html": [
       "<div>\n",
       "<style scoped>\n",
       "    .dataframe tbody tr th:only-of-type {\n",
       "        vertical-align: middle;\n",
       "    }\n",
       "\n",
       "    .dataframe tbody tr th {\n",
       "        vertical-align: top;\n",
       "    }\n",
       "\n",
       "    .dataframe thead th {\n",
       "        text-align: right;\n",
       "    }\n",
       "</style>\n",
       "<table border=\"1\" class=\"dataframe\">\n",
       "  <thead>\n",
       "    <tr style=\"text-align: right;\">\n",
       "      <th></th>\n",
       "      <th>单价</th>\n",
       "    </tr>\n",
       "    <tr>\n",
       "      <th>户型</th>\n",
       "      <th></th>\n",
       "    </tr>\n",
       "  </thead>\n",
       "  <tbody>\n",
       "    <tr>\n",
       "      <th>1室1厅1卫</th>\n",
       "      <td>9535.743902</td>\n",
       "    </tr>\n",
       "    <tr>\n",
       "      <th>1室2厅1卫</th>\n",
       "      <td>8285.500000</td>\n",
       "    </tr>\n",
       "    <tr>\n",
       "      <th>2室1厅1卫</th>\n",
       "      <td>10019.640981</td>\n",
       "    </tr>\n",
       "    <tr>\n",
       "      <th>2室1厅2卫</th>\n",
       "      <td>10510.000000</td>\n",
       "    </tr>\n",
       "    <tr>\n",
       "      <th>2室2厅1卫</th>\n",
       "      <td>9774.511018</td>\n",
       "    </tr>\n",
       "  </tbody>\n",
       "</table>\n",
       "</div>"
      ],
      "text/plain": [
       "                  单价\n",
       "户型                  \n",
       "1室1厅1卫   9535.743902\n",
       "1室2厅1卫   8285.500000\n",
       "2室1厅1卫  10019.640981\n",
       "2室1厅2卫  10510.000000\n",
       "2室2厅1卫   9774.511018"
      ]
     },
     "execution_count": 33,
     "metadata": {},
     "output_type": "execute_result"
    }
   ],
   "source": [
    "house_type_mean.head()"
   ]
  },
  {
   "cell_type": "code",
   "execution_count": 34,
   "id": "2bd1de87",
   "metadata": {},
   "outputs": [],
   "source": [
    "top_five=house_type_number.head()"
   ]
  },
  {
   "cell_type": "code",
   "execution_count": 35,
   "id": "0df8d2d8",
   "metadata": {},
   "outputs": [
    {
     "data": {
      "text/plain": [
       "户型\n",
       "2室2厅1卫    953\n",
       "2室1厅1卫    571\n",
       "3室2厅2卫    360\n",
       "3室2厅1卫    212\n",
       "1室1厅1卫    164\n",
       "dtype: int64"
      ]
     },
     "execution_count": 35,
     "metadata": {},
     "output_type": "execute_result"
    }
   ],
   "source": [
    "top_five"
   ]
  },
  {
   "cell_type": "code",
   "execution_count": 36,
   "id": "cebee76a",
   "metadata": {},
   "outputs": [],
   "source": [
    "house_type_price = house_type_mean.loc[top_five.index,'单价']"
   ]
  },
  {
   "cell_type": "code",
   "execution_count": 37,
   "id": "03969190",
   "metadata": {},
   "outputs": [
    {
     "data": {
      "text/plain": [
       "户型\n",
       "2室2厅1卫     9774.511018\n",
       "2室1厅1卫    10019.640981\n",
       "3室2厅2卫    11257.191667\n",
       "3室2厅1卫    10626.452830\n",
       "1室1厅1卫     9535.743902\n",
       "Name: 单价, dtype: float64"
      ]
     },
     "execution_count": 37,
     "metadata": {},
     "output_type": "execute_result"
    }
   ],
   "source": [
    "house_type_price"
   ]
  },
  {
   "cell_type": "code",
   "execution_count": 38,
   "id": "be49ff8a",
   "metadata": {},
   "outputs": [
    {
     "data": {
      "image/png": "[encoded data removed]",
      "text/plain": [
       "<Figure size 640x480 with 1 Axes>"
      ]
     },
     "metadata": {},
     "output_type": "display_data"
    }
   ],
   "source": [
    "x=list(top_five.index)\n",
    "plt.figure()                                            \n",
    "plt.barh(x, house_type_price.values, height=0.3, color='r', alpha=0.8)  \n",
    "plt.xlim(0, 15000)                   \n",
    "plt.xlabel(\"均价\")                   \n",
    "plt.title(\"热门户型水平条形图\")                     \n",
    "for a, b in zip(x,house_type_price.values):  \n",
    "    plt.text(b+10,a,str(int(b))+'元', va='center')   \n",
    "plt.show()        "
   ]
  },
  {
   "cell_type": "markdown",
   "id": "a223438a",
   "metadata": {},
   "source": [
    "## 价格预测"
   ]
  },
  {
   "cell_type": "code",
   "execution_count": 39,
   "id": "2ea60937",
   "metadata": {},
   "outputs": [],
   "source": [
    "data_copy = data.copy()  "
   ]
  },
  {
   "cell_type": "code",
   "execution_count": 40,
   "id": "84a3f791",
   "metadata": {},
   "outputs": [
    {
     "data": {
      "text/html": [
       "<div>\n",
       "<style scoped>\n",
       "    .dataframe tbody tr th:only-of-type {\n",
       "        vertical-align: middle;\n",
       "    }\n",
       "\n",
       "    .dataframe tbody tr th {\n",
       "        vertical-align: top;\n",
       "    }\n",
       "\n",
       "    .dataframe thead th {\n",
       "        text-align: right;\n",
       "    }\n",
       "</style>\n",
       "<table border=\"1\" class=\"dataframe\">\n",
       "  <thead>\n",
       "    <tr style=\"text-align: right;\">\n",
       "      <th></th>\n",
       "      <th>小区名字</th>\n",
       "      <th>总价</th>\n",
       "      <th>户型</th>\n",
       "      <th>建筑面积</th>\n",
       "      <th>单价</th>\n",
       "      <th>朝向</th>\n",
       "      <th>楼层</th>\n",
       "      <th>装修</th>\n",
       "      <th>区域</th>\n",
       "    </tr>\n",
       "  </thead>\n",
       "  <tbody>\n",
       "    <tr>\n",
       "      <th>0</th>\n",
       "      <td>中天北湾新城</td>\n",
       "      <td>89.0</td>\n",
       "      <td>2室2厅1卫</td>\n",
       "      <td>89.0</td>\n",
       "      <td>10000.0</td>\n",
       "      <td>南北</td>\n",
       "      <td>低层</td>\n",
       "      <td>毛坯</td>\n",
       "      <td>高新</td>\n",
       "    </tr>\n",
       "    <tr>\n",
       "      <th>1</th>\n",
       "      <td>桦林苑</td>\n",
       "      <td>99.8</td>\n",
       "      <td>3室2厅1卫</td>\n",
       "      <td>143.0</td>\n",
       "      <td>6979.0</td>\n",
       "      <td>南北</td>\n",
       "      <td>中层</td>\n",
       "      <td>毛坯</td>\n",
       "      <td>净月</td>\n",
       "    </tr>\n",
       "    <tr>\n",
       "      <th>2</th>\n",
       "      <td>嘉柏湾</td>\n",
       "      <td>32.0</td>\n",
       "      <td>1室1厅1卫</td>\n",
       "      <td>43.3</td>\n",
       "      <td>7390.0</td>\n",
       "      <td>南</td>\n",
       "      <td>高层</td>\n",
       "      <td>精装修</td>\n",
       "      <td>经开</td>\n",
       "    </tr>\n",
       "    <tr>\n",
       "      <th>3</th>\n",
       "      <td>中环12区</td>\n",
       "      <td>51.5</td>\n",
       "      <td>2室1厅1卫</td>\n",
       "      <td>57.0</td>\n",
       "      <td>9035.0</td>\n",
       "      <td>南北</td>\n",
       "      <td>高层</td>\n",
       "      <td>精装修</td>\n",
       "      <td>南关</td>\n",
       "    </tr>\n",
       "    <tr>\n",
       "      <th>4</th>\n",
       "      <td>昊源高格蓝湾</td>\n",
       "      <td>210.0</td>\n",
       "      <td>3室2厅2卫</td>\n",
       "      <td>160.8</td>\n",
       "      <td>13060.0</td>\n",
       "      <td>南北</td>\n",
       "      <td>高层</td>\n",
       "      <td>精装修</td>\n",
       "      <td>二道</td>\n",
       "    </tr>\n",
       "  </tbody>\n",
       "</table>\n",
       "</div>"
      ],
      "text/plain": [
       "     小区名字     总价      户型   建筑面积       单价  朝向  楼层   装修  区域\n",
       "0  中天北湾新城   89.0  2室2厅1卫   89.0  10000.0  南北  低层   毛坯  高新\n",
       "1     桦林苑   99.8  3室2厅1卫  143.0   6979.0  南北  中层   毛坯  净月\n",
       "2     嘉柏湾   32.0  1室1厅1卫   43.3   7390.0   南  高层  精装修  经开\n",
       "3   中环12区   51.5  2室1厅1卫   57.0   9035.0  南北  高层  精装修  南关\n",
       "4  昊源高格蓝湾  210.0  3室2厅2卫  160.8  13060.0  南北  高层  精装修  二道"
      ]
     },
     "execution_count": 40,
     "metadata": {},
     "output_type": "execute_result"
    }
   ],
   "source": [
    "data_copy.head()"
   ]
  },
  {
   "cell_type": "code",
   "execution_count": 41,
   "id": "7df0a8f9",
   "metadata": {},
   "outputs": [],
   "source": [
    " data_copy[['室', '厅', '卫']] = data_copy['户型'].str.extract('(\\d+)室(\\d+)厅(\\d+)卫') #括号里为需要的值"
   ]
  },
  {
   "cell_type": "code",
   "execution_count": 42,
   "id": "cdce504a",
   "metadata": {},
   "outputs": [],
   "source": [
    " data_copy[['室', '厅', '卫']]= data_copy[['室', '厅', '卫']].astype(float)"
   ]
  },
  {
   "cell_type": "code",
   "execution_count": 43,
   "id": "83fe7c3c",
   "metadata": {},
   "outputs": [
    {
     "data": {
      "text/html": [
       "<div>\n",
       "<style scoped>\n",
       "    .dataframe tbody tr th:only-of-type {\n",
       "        vertical-align: middle;\n",
       "    }\n",
       "\n",
       "    .dataframe tbody tr th {\n",
       "        vertical-align: top;\n",
       "    }\n",
       "\n",
       "    .dataframe thead th {\n",
       "        text-align: right;\n",
       "    }\n",
       "</style>\n",
       "<table border=\"1\" class=\"dataframe\">\n",
       "  <thead>\n",
       "    <tr style=\"text-align: right;\">\n",
       "      <th></th>\n",
       "      <th>小区名字</th>\n",
       "      <th>总价</th>\n",
       "      <th>户型</th>\n",
       "      <th>建筑面积</th>\n",
       "      <th>单价</th>\n",
       "      <th>朝向</th>\n",
       "      <th>楼层</th>\n",
       "      <th>装修</th>\n",
       "      <th>区域</th>\n",
       "      <th>室</th>\n",
       "      <th>厅</th>\n",
       "      <th>卫</th>\n",
       "    </tr>\n",
       "  </thead>\n",
       "  <tbody>\n",
       "    <tr>\n",
       "      <th>0</th>\n",
       "      <td>中天北湾新城</td>\n",
       "      <td>89.0</td>\n",
       "      <td>2室2厅1卫</td>\n",
       "      <td>89.0</td>\n",
       "      <td>10000.0</td>\n",
       "      <td>南北</td>\n",
       "      <td>低层</td>\n",
       "      <td>毛坯</td>\n",
       "      <td>高新</td>\n",
       "      <td>2.0</td>\n",
       "      <td>2.0</td>\n",
       "      <td>1.0</td>\n",
       "    </tr>\n",
       "    <tr>\n",
       "      <th>1</th>\n",
       "      <td>桦林苑</td>\n",
       "      <td>99.8</td>\n",
       "      <td>3室2厅1卫</td>\n",
       "      <td>143.0</td>\n",
       "      <td>6979.0</td>\n",
       "      <td>南北</td>\n",
       "      <td>中层</td>\n",
       "      <td>毛坯</td>\n",
       "      <td>净月</td>\n",
       "      <td>3.0</td>\n",
       "      <td>2.0</td>\n",
       "      <td>1.0</td>\n",
       "    </tr>\n",
       "    <tr>\n",
       "      <th>2</th>\n",
       "      <td>嘉柏湾</td>\n",
       "      <td>32.0</td>\n",
       "      <td>1室1厅1卫</td>\n",
       "      <td>43.3</td>\n",
       "      <td>7390.0</td>\n",
       "      <td>南</td>\n",
       "      <td>高层</td>\n",
       "      <td>精装修</td>\n",
       "      <td>经开</td>\n",
       "      <td>1.0</td>\n",
       "      <td>1.0</td>\n",
       "      <td>1.0</td>\n",
       "    </tr>\n",
       "    <tr>\n",
       "      <th>3</th>\n",
       "      <td>中环12区</td>\n",
       "      <td>51.5</td>\n",
       "      <td>2室1厅1卫</td>\n",
       "      <td>57.0</td>\n",
       "      <td>9035.0</td>\n",
       "      <td>南北</td>\n",
       "      <td>高层</td>\n",
       "      <td>精装修</td>\n",
       "      <td>南关</td>\n",
       "      <td>2.0</td>\n",
       "      <td>1.0</td>\n",
       "      <td>1.0</td>\n",
       "    </tr>\n",
       "    <tr>\n",
       "      <th>4</th>\n",
       "      <td>昊源高格蓝湾</td>\n",
       "      <td>210.0</td>\n",
       "      <td>3室2厅2卫</td>\n",
       "      <td>160.8</td>\n",
       "      <td>13060.0</td>\n",
       "      <td>南北</td>\n",
       "      <td>高层</td>\n",
       "      <td>精装修</td>\n",
       "      <td>二道</td>\n",
       "      <td>3.0</td>\n",
       "      <td>2.0</td>\n",
       "      <td>2.0</td>\n",
       "    </tr>\n",
       "  </tbody>\n",
       "</table>\n",
       "</div>"
      ],
      "text/plain": [
       "     小区名字     总价      户型   建筑面积       单价  朝向  楼层   装修  区域    室    厅    卫\n",
       "0  中天北湾新城   89.0  2室2厅1卫   89.0  10000.0  南北  低层   毛坯  高新  2.0  2.0  1.0\n",
       "1     桦林苑   99.8  3室2厅1卫  143.0   6979.0  南北  中层   毛坯  净月  3.0  2.0  1.0\n",
       "2     嘉柏湾   32.0  1室1厅1卫   43.3   7390.0   南  高层  精装修  经开  1.0  1.0  1.0\n",
       "3   中环12区   51.5  2室1厅1卫   57.0   9035.0  南北  高层  精装修  南关  2.0  1.0  1.0\n",
       "4  昊源高格蓝湾  210.0  3室2厅2卫  160.8  13060.0  南北  高层  精装修  二道  3.0  2.0  2.0"
      ]
     },
     "execution_count": 43,
     "metadata": {},
     "output_type": "execute_result"
    }
   ],
   "source": [
    "data_copy.head()"
   ]
  },
  {
   "cell_type": "code",
   "execution_count": 44,
   "id": "d47683a2",
   "metadata": {},
   "outputs": [],
   "source": [
    "del data_copy['小区名字']\n",
    "del data_copy['户型']\n",
    "del data_copy['朝向']\n",
    "del data_copy['楼层']\n",
    "del data_copy['装修']\n",
    "del data_copy['区域']\n",
    "del data_copy['单价']"
   ]
  },
  {
   "cell_type": "code",
   "execution_count": 45,
   "id": "df28dba1",
   "metadata": {},
   "outputs": [
    {
     "data": {
      "text/html": [
       "<div>\n",
       "<style scoped>\n",
       "    .dataframe tbody tr th:only-of-type {\n",
       "        vertical-align: middle;\n",
       "    }\n",
       "\n",
       "    .dataframe tbody tr th {\n",
       "        vertical-align: top;\n",
       "    }\n",
       "\n",
       "    .dataframe thead th {\n",
       "        text-align: right;\n",
       "    }\n",
       "</style>\n",
       "<table border=\"1\" class=\"dataframe\">\n",
       "  <thead>\n",
       "    <tr style=\"text-align: right;\">\n",
       "      <th></th>\n",
       "      <th>总价</th>\n",
       "      <th>建筑面积</th>\n",
       "      <th>室</th>\n",
       "      <th>厅</th>\n",
       "      <th>卫</th>\n",
       "    </tr>\n",
       "  </thead>\n",
       "  <tbody>\n",
       "    <tr>\n",
       "      <th>0</th>\n",
       "      <td>89.0</td>\n",
       "      <td>89.0</td>\n",
       "      <td>2.0</td>\n",
       "      <td>2.0</td>\n",
       "      <td>1.0</td>\n",
       "    </tr>\n",
       "    <tr>\n",
       "      <th>1</th>\n",
       "      <td>99.8</td>\n",
       "      <td>143.0</td>\n",
       "      <td>3.0</td>\n",
       "      <td>2.0</td>\n",
       "      <td>1.0</td>\n",
       "    </tr>\n",
       "    <tr>\n",
       "      <th>2</th>\n",
       "      <td>32.0</td>\n",
       "      <td>43.3</td>\n",
       "      <td>1.0</td>\n",
       "      <td>1.0</td>\n",
       "      <td>1.0</td>\n",
       "    </tr>\n",
       "    <tr>\n",
       "      <th>3</th>\n",
       "      <td>51.5</td>\n",
       "      <td>57.0</td>\n",
       "      <td>2.0</td>\n",
       "      <td>1.0</td>\n",
       "      <td>1.0</td>\n",
       "    </tr>\n",
       "    <tr>\n",
       "      <th>4</th>\n",
       "      <td>210.0</td>\n",
       "      <td>160.8</td>\n",
       "      <td>3.0</td>\n",
       "      <td>2.0</td>\n",
       "      <td>2.0</td>\n",
       "    </tr>\n",
       "  </tbody>\n",
       "</table>\n",
       "</div>"
      ],
      "text/plain": [
       "      总价   建筑面积    室    厅    卫\n",
       "0   89.0   89.0  2.0  2.0  1.0\n",
       "1   99.8  143.0  3.0  2.0  1.0\n",
       "2   32.0   43.3  1.0  1.0  1.0\n",
       "3   51.5   57.0  2.0  1.0  1.0\n",
       "4  210.0  160.8  3.0  2.0  2.0"
      ]
     },
     "execution_count": 45,
     "metadata": {},
     "output_type": "execute_result"
    }
   ],
   "source": [
    "data_copy.head()"
   ]
  },
  {
   "cell_type": "code",
   "execution_count": 46,
   "id": "ef37754d",
   "metadata": {},
   "outputs": [],
   "source": [
    "data_copy.dropna(axis=0, how='any', inplace=True)"
   ]
  },
  {
   "cell_type": "code",
   "execution_count": 47,
   "id": "0c2207eb",
   "metadata": {},
   "outputs": [
    {
     "data": {
      "text/plain": [
       "(2533, 5)"
      ]
     },
     "execution_count": 47,
     "metadata": {},
     "output_type": "execute_result"
    }
   ],
   "source": [
    "data_copy.shape"
   ]
  },
  {
   "cell_type": "code",
   "execution_count": 48,
   "id": "eb131637",
   "metadata": {},
   "outputs": [],
   "source": [
    "data1=data_copy[data_copy['建筑面积'] < 300].reset_index(drop=True)"
   ]
  },
  {
   "cell_type": "code",
   "execution_count": 49,
   "id": "fd0214a9",
   "metadata": {},
   "outputs": [
    {
     "data": {
      "text/html": [
       "<div>\n",
       "<style scoped>\n",
       "    .dataframe tbody tr th:only-of-type {\n",
       "        vertical-align: middle;\n",
       "    }\n",
       "\n",
       "    .dataframe tbody tr th {\n",
       "        vertical-align: top;\n",
       "    }\n",
       "\n",
       "    .dataframe thead th {\n",
       "        text-align: right;\n",
       "    }\n",
       "</style>\n",
       "<table border=\"1\" class=\"dataframe\">\n",
       "  <thead>\n",
       "    <tr style=\"text-align: right;\">\n",
       "      <th></th>\n",
       "      <th>总价</th>\n",
       "      <th>建筑面积</th>\n",
       "      <th>室</th>\n",
       "      <th>厅</th>\n",
       "      <th>卫</th>\n",
       "    </tr>\n",
       "  </thead>\n",
       "  <tbody>\n",
       "    <tr>\n",
       "      <th>0</th>\n",
       "      <td>89.0</td>\n",
       "      <td>89.0</td>\n",
       "      <td>2.0</td>\n",
       "      <td>2.0</td>\n",
       "      <td>1.0</td>\n",
       "    </tr>\n",
       "    <tr>\n",
       "      <th>1</th>\n",
       "      <td>99.8</td>\n",
       "      <td>143.0</td>\n",
       "      <td>3.0</td>\n",
       "      <td>2.0</td>\n",
       "      <td>1.0</td>\n",
       "    </tr>\n",
       "    <tr>\n",
       "      <th>2</th>\n",
       "      <td>32.0</td>\n",
       "      <td>43.3</td>\n",
       "      <td>1.0</td>\n",
       "      <td>1.0</td>\n",
       "      <td>1.0</td>\n",
       "    </tr>\n",
       "    <tr>\n",
       "      <th>3</th>\n",
       "      <td>51.5</td>\n",
       "      <td>57.0</td>\n",
       "      <td>2.0</td>\n",
       "      <td>1.0</td>\n",
       "      <td>1.0</td>\n",
       "    </tr>\n",
       "    <tr>\n",
       "      <th>4</th>\n",
       "      <td>210.0</td>\n",
       "      <td>160.8</td>\n",
       "      <td>3.0</td>\n",
       "      <td>2.0</td>\n",
       "      <td>2.0</td>\n",
       "    </tr>\n",
       "  </tbody>\n",
       "</table>\n",
       "</div>"
      ],
      "text/plain": [
       "      总价   建筑面积    室    厅    卫\n",
       "0   89.0   89.0  2.0  2.0  1.0\n",
       "1   99.8  143.0  3.0  2.0  1.0\n",
       "2   32.0   43.3  1.0  1.0  1.0\n",
       "3   51.5   57.0  2.0  1.0  1.0\n",
       "4  210.0  160.8  3.0  2.0  2.0"
      ]
     },
     "execution_count": 49,
     "metadata": {},
     "output_type": "execute_result"
    }
   ],
   "source": [
    "data1.head()"
   ]
  },
  {
   "cell_type": "code",
   "execution_count": 50,
   "id": "dea26f64",
   "metadata": {},
   "outputs": [
    {
     "data": {
      "text/plain": [
       "(2505, 5)"
      ]
     },
     "execution_count": 50,
     "metadata": {},
     "output_type": "execute_result"
    }
   ],
   "source": [
    "data1.shape"
   ]
  },
  {
   "cell_type": "code",
   "execution_count": 51,
   "id": "c0efc562",
   "metadata": {},
   "outputs": [],
   "source": [
    "data1.loc[2505] = [None, 88.0, 2.0, 1.0, 1.0]\n",
    "data1.loc[2506] = [None, 136.0, 3.0, 2.0, 2.0]"
   ]
  },
  {
   "cell_type": "code",
   "execution_count": 52,
   "id": "b24fee26",
   "metadata": {},
   "outputs": [
    {
     "data": {
      "text/html": [
       "<div>\n",
       "<style scoped>\n",
       "    .dataframe tbody tr th:only-of-type {\n",
       "        vertical-align: middle;\n",
       "    }\n",
       "\n",
       "    .dataframe tbody tr th {\n",
       "        vertical-align: top;\n",
       "    }\n",
       "\n",
       "    .dataframe thead th {\n",
       "        text-align: right;\n",
       "    }\n",
       "</style>\n",
       "<table border=\"1\" class=\"dataframe\">\n",
       "  <thead>\n",
       "    <tr style=\"text-align: right;\">\n",
       "      <th></th>\n",
       "      <th>总价</th>\n",
       "      <th>建筑面积</th>\n",
       "      <th>室</th>\n",
       "      <th>厅</th>\n",
       "      <th>卫</th>\n",
       "    </tr>\n",
       "  </thead>\n",
       "  <tbody>\n",
       "    <tr>\n",
       "      <th>2502</th>\n",
       "      <td>75.0</td>\n",
       "      <td>110.00</td>\n",
       "      <td>2.0</td>\n",
       "      <td>2.0</td>\n",
       "      <td>1.0</td>\n",
       "    </tr>\n",
       "    <tr>\n",
       "      <th>2503</th>\n",
       "      <td>100.0</td>\n",
       "      <td>109.73</td>\n",
       "      <td>2.0</td>\n",
       "      <td>2.0</td>\n",
       "      <td>1.0</td>\n",
       "    </tr>\n",
       "    <tr>\n",
       "      <th>2504</th>\n",
       "      <td>48.8</td>\n",
       "      <td>61.00</td>\n",
       "      <td>2.0</td>\n",
       "      <td>2.0</td>\n",
       "      <td>1.0</td>\n",
       "    </tr>\n",
       "    <tr>\n",
       "      <th>2505</th>\n",
       "      <td>NaN</td>\n",
       "      <td>88.00</td>\n",
       "      <td>2.0</td>\n",
       "      <td>1.0</td>\n",
       "      <td>1.0</td>\n",
       "    </tr>\n",
       "    <tr>\n",
       "      <th>2506</th>\n",
       "      <td>NaN</td>\n",
       "      <td>136.00</td>\n",
       "      <td>3.0</td>\n",
       "      <td>2.0</td>\n",
       "      <td>2.0</td>\n",
       "    </tr>\n",
       "  </tbody>\n",
       "</table>\n",
       "</div>"
      ],
      "text/plain": [
       "         总价    建筑面积    室    厅    卫\n",
       "2502   75.0  110.00  2.0  2.0  1.0\n",
       "2503  100.0  109.73  2.0  2.0  1.0\n",
       "2504   48.8   61.00  2.0  2.0  1.0\n",
       "2505    NaN   88.00  2.0  1.0  1.0\n",
       "2506    NaN  136.00  3.0  2.0  2.0"
      ]
     },
     "execution_count": 52,
     "metadata": {},
     "output_type": "execute_result"
    }
   ],
   "source": [
    "data1.tail()"
   ]
  },
  {
   "cell_type": "code",
   "execution_count": 53,
   "id": "d4b5343a",
   "metadata": {},
   "outputs": [],
   "source": [
    "data2 = data1.loc[0:2504]"
   ]
  },
  {
   "cell_type": "code",
   "execution_count": 54,
   "id": "98920e55",
   "metadata": {},
   "outputs": [
    {
     "data": {
      "text/html": [
       "<div>\n",
       "<style scoped>\n",
       "    .dataframe tbody tr th:only-of-type {\n",
       "        vertical-align: middle;\n",
       "    }\n",
       "\n",
       "    .dataframe tbody tr th {\n",
       "        vertical-align: top;\n",
       "    }\n",
       "\n",
       "    .dataframe thead th {\n",
       "        text-align: right;\n",
       "    }\n",
       "</style>\n",
       "<table border=\"1\" class=\"dataframe\">\n",
       "  <thead>\n",
       "    <tr style=\"text-align: right;\">\n",
       "      <th></th>\n",
       "      <th>总价</th>\n",
       "      <th>建筑面积</th>\n",
       "      <th>室</th>\n",
       "      <th>厅</th>\n",
       "      <th>卫</th>\n",
       "    </tr>\n",
       "  </thead>\n",
       "  <tbody>\n",
       "    <tr>\n",
       "      <th>2500</th>\n",
       "      <td>115.0</td>\n",
       "      <td>153.95</td>\n",
       "      <td>3.0</td>\n",
       "      <td>2.0</td>\n",
       "      <td>2.0</td>\n",
       "    </tr>\n",
       "    <tr>\n",
       "      <th>2501</th>\n",
       "      <td>99.8</td>\n",
       "      <td>91.30</td>\n",
       "      <td>2.0</td>\n",
       "      <td>2.0</td>\n",
       "      <td>1.0</td>\n",
       "    </tr>\n",
       "    <tr>\n",
       "      <th>2502</th>\n",
       "      <td>75.0</td>\n",
       "      <td>110.00</td>\n",
       "      <td>2.0</td>\n",
       "      <td>2.0</td>\n",
       "      <td>1.0</td>\n",
       "    </tr>\n",
       "    <tr>\n",
       "      <th>2503</th>\n",
       "      <td>100.0</td>\n",
       "      <td>109.73</td>\n",
       "      <td>2.0</td>\n",
       "      <td>2.0</td>\n",
       "      <td>1.0</td>\n",
       "    </tr>\n",
       "    <tr>\n",
       "      <th>2504</th>\n",
       "      <td>48.8</td>\n",
       "      <td>61.00</td>\n",
       "      <td>2.0</td>\n",
       "      <td>2.0</td>\n",
       "      <td>1.0</td>\n",
       "    </tr>\n",
       "  </tbody>\n",
       "</table>\n",
       "</div>"
      ],
      "text/plain": [
       "         总价    建筑面积    室    厅    卫\n",
       "2500  115.0  153.95  3.0  2.0  2.0\n",
       "2501   99.8   91.30  2.0  2.0  1.0\n",
       "2502   75.0  110.00  2.0  2.0  1.0\n",
       "2503  100.0  109.73  2.0  2.0  1.0\n",
       "2504   48.8   61.00  2.0  2.0  1.0"
      ]
     },
     "execution_count": 54,
     "metadata": {},
     "output_type": "execute_result"
    }
   ],
   "source": [
    "data2.tail()"
   ]
  },
  {
   "cell_type": "code",
   "execution_count": 55,
   "id": "423e09c2",
   "metadata": {},
   "outputs": [],
   "source": [
    "mean=data2.mean()\n",
    "std=data2.std()"
   ]
  },
  {
   "cell_type": "code",
   "execution_count": 56,
   "id": "4a3be2e3",
   "metadata": {},
   "outputs": [
    {
     "data": {
      "text/plain": [
       "(总价      106.254351\n",
       " 建筑面积     99.583541\n",
       " 室         2.312575\n",
       " 厅         1.715369\n",
       " 卫         1.254291\n",
       " dtype: float64,\n",
       " 总价      66.729280\n",
       " 建筑面积    38.608237\n",
       " 室        0.725575\n",
       " 厅        0.512643\n",
       " 卫        0.527599\n",
       " dtype: float64)"
      ]
     },
     "execution_count": 56,
     "metadata": {},
     "output_type": "execute_result"
    }
   ],
   "source": [
    "mean,std"
   ]
  },
  {
   "cell_type": "code",
   "execution_count": 57,
   "id": "6e8d5d55",
   "metadata": {},
   "outputs": [],
   "source": [
    "data2 = (data2-mean)/std"
   ]
  },
  {
   "cell_type": "code",
   "execution_count": 58,
   "id": "76171336",
   "metadata": {},
   "outputs": [
    {
     "data": {
      "text/html": [
       "<div>\n",
       "<style scoped>\n",
       "    .dataframe tbody tr th:only-of-type {\n",
       "        vertical-align: middle;\n",
       "    }\n",
       "\n",
       "    .dataframe tbody tr th {\n",
       "        vertical-align: top;\n",
       "    }\n",
       "\n",
       "    .dataframe thead th {\n",
       "        text-align: right;\n",
       "    }\n",
       "</style>\n",
       "<table border=\"1\" class=\"dataframe\">\n",
       "  <thead>\n",
       "    <tr style=\"text-align: right;\">\n",
       "      <th></th>\n",
       "      <th>总价</th>\n",
       "      <th>建筑面积</th>\n",
       "      <th>室</th>\n",
       "      <th>厅</th>\n",
       "      <th>卫</th>\n",
       "    </tr>\n",
       "  </thead>\n",
       "  <tbody>\n",
       "    <tr>\n",
       "      <th>0</th>\n",
       "      <td>-0.258572</td>\n",
       "      <td>-0.274127</td>\n",
       "      <td>-0.430796</td>\n",
       "      <td>0.555222</td>\n",
       "      <td>-0.481978</td>\n",
       "    </tr>\n",
       "    <tr>\n",
       "      <th>1</th>\n",
       "      <td>-0.096724</td>\n",
       "      <td>1.124539</td>\n",
       "      <td>0.947421</td>\n",
       "      <td>0.555222</td>\n",
       "      <td>-0.481978</td>\n",
       "    </tr>\n",
       "    <tr>\n",
       "      <th>2</th>\n",
       "      <td>-1.112770</td>\n",
       "      <td>-1.457812</td>\n",
       "      <td>-1.809013</td>\n",
       "      <td>-1.395453</td>\n",
       "      <td>-0.481978</td>\n",
       "    </tr>\n",
       "    <tr>\n",
       "      <th>3</th>\n",
       "      <td>-0.820545</td>\n",
       "      <td>-1.102965</td>\n",
       "      <td>-0.430796</td>\n",
       "      <td>-1.395453</td>\n",
       "      <td>-0.481978</td>\n",
       "    </tr>\n",
       "    <tr>\n",
       "      <th>4</th>\n",
       "      <td>1.554725</td>\n",
       "      <td>1.585580</td>\n",
       "      <td>0.947421</td>\n",
       "      <td>0.555222</td>\n",
       "      <td>1.413399</td>\n",
       "    </tr>\n",
       "  </tbody>\n",
       "</table>\n",
       "</div>"
      ],
      "text/plain": [
       "         总价      建筑面积         室         厅         卫\n",
       "0 -0.258572 -0.274127 -0.430796  0.555222 -0.481978\n",
       "1 -0.096724  1.124539  0.947421  0.555222 -0.481978\n",
       "2 -1.112770 -1.457812 -1.809013 -1.395453 -0.481978\n",
       "3 -0.820545 -1.102965 -0.430796 -1.395453 -0.481978\n",
       "4  1.554725  1.585580  0.947421  0.555222  1.413399"
      ]
     },
     "execution_count": 58,
     "metadata": {},
     "output_type": "execute_result"
    }
   ],
   "source": [
    "data2.head()"
   ]
  },
  {
   "cell_type": "code",
   "execution_count": 59,
   "id": "0d74b6a9",
   "metadata": {},
   "outputs": [],
   "source": [
    "train_data = data2.loc[0:2504,['建筑面积',  '室', '厅', '卫']]"
   ]
  },
  {
   "cell_type": "code",
   "execution_count": 60,
   "id": "8b6353da",
   "metadata": {},
   "outputs": [
    {
     "data": {
      "text/html": [
       "<div>\n",
       "<style scoped>\n",
       "    .dataframe tbody tr th:only-of-type {\n",
       "        vertical-align: middle;\n",
       "    }\n",
       "\n",
       "    .dataframe tbody tr th {\n",
       "        vertical-align: top;\n",
       "    }\n",
       "\n",
       "    .dataframe thead th {\n",
       "        text-align: right;\n",
       "    }\n",
       "</style>\n",
       "<table border=\"1\" class=\"dataframe\">\n",
       "  <thead>\n",
       "    <tr style=\"text-align: right;\">\n",
       "      <th></th>\n",
       "      <th>建筑面积</th>\n",
       "      <th>室</th>\n",
       "      <th>厅</th>\n",
       "      <th>卫</th>\n",
       "    </tr>\n",
       "  </thead>\n",
       "  <tbody>\n",
       "    <tr>\n",
       "      <th>0</th>\n",
       "      <td>-0.274127</td>\n",
       "      <td>-0.430796</td>\n",
       "      <td>0.555222</td>\n",
       "      <td>-0.481978</td>\n",
       "    </tr>\n",
       "    <tr>\n",
       "      <th>1</th>\n",
       "      <td>1.124539</td>\n",
       "      <td>0.947421</td>\n",
       "      <td>0.555222</td>\n",
       "      <td>-0.481978</td>\n",
       "    </tr>\n",
       "    <tr>\n",
       "      <th>2</th>\n",
       "      <td>-1.457812</td>\n",
       "      <td>-1.809013</td>\n",
       "      <td>-1.395453</td>\n",
       "      <td>-0.481978</td>\n",
       "    </tr>\n",
       "    <tr>\n",
       "      <th>3</th>\n",
       "      <td>-1.102965</td>\n",
       "      <td>-0.430796</td>\n",
       "      <td>-1.395453</td>\n",
       "      <td>-0.481978</td>\n",
       "    </tr>\n",
       "    <tr>\n",
       "      <th>4</th>\n",
       "      <td>1.585580</td>\n",
       "      <td>0.947421</td>\n",
       "      <td>0.555222</td>\n",
       "      <td>1.413399</td>\n",
       "    </tr>\n",
       "  </tbody>\n",
       "</table>\n",
       "</div>"
      ],
      "text/plain": [
       "       建筑面积         室         厅         卫\n",
       "0 -0.274127 -0.430796  0.555222 -0.481978\n",
       "1  1.124539  0.947421  0.555222 -0.481978\n",
       "2 -1.457812 -1.809013 -1.395453 -0.481978\n",
       "3 -1.102965 -0.430796 -1.395453 -0.481978\n",
       "4  1.585580  0.947421  0.555222  1.413399"
      ]
     },
     "execution_count": 60,
     "metadata": {},
     "output_type": "execute_result"
    }
   ],
   "source": [
    "train_data.head()"
   ]
  },
  {
   "cell_type": "code",
   "execution_count": 61,
   "id": "82eb7388",
   "metadata": {},
   "outputs": [],
   "source": [
    "train_target = data2.loc[0:2504,'总价']"
   ]
  },
  {
   "cell_type": "code",
   "execution_count": 62,
   "id": "61c4f3b6",
   "metadata": {},
   "outputs": [
    {
     "data": {
      "text/plain": [
       "0   -0.258572\n",
       "1   -0.096724\n",
       "2   -1.112770\n",
       "3   -0.820545\n",
       "4    1.554725\n",
       "Name: 总价, dtype: float64"
      ]
     },
     "execution_count": 62,
     "metadata": {},
     "output_type": "execute_result"
    }
   ],
   "source": [
    "train_target.head()"
   ]
  },
  {
   "cell_type": "code",
   "execution_count": 63,
   "id": "00bd7e12",
   "metadata": {},
   "outputs": [
    {
     "data": {
      "text/plain": [
       "LinearSVR(C=0.1)"
      ]
     },
     "execution_count": 63,
     "metadata": {},
     "output_type": "execute_result"
    }
   ],
   "source": [
    "linearsvr = LinearSVR(C=0.1)  \n",
    "linearsvr.fit(train_data, train_target) "
   ]
  },
  {
   "cell_type": "code",
   "execution_count": 64,
   "id": "7ec17d02",
   "metadata": {},
   "outputs": [],
   "source": [
    "x = (data1[['建筑面积',  '室', '厅', '卫']] - mean[1:]) / std[1:]"
   ]
  },
  {
   "cell_type": "code",
   "execution_count": 65,
   "id": "585a223a",
   "metadata": {},
   "outputs": [
    {
     "data": {
      "text/html": [
       "<div>\n",
       "<style scoped>\n",
       "    .dataframe tbody tr th:only-of-type {\n",
       "        vertical-align: middle;\n",
       "    }\n",
       "\n",
       "    .dataframe tbody tr th {\n",
       "        vertical-align: top;\n",
       "    }\n",
       "\n",
       "    .dataframe thead th {\n",
       "        text-align: right;\n",
       "    }\n",
       "</style>\n",
       "<table border=\"1\" class=\"dataframe\">\n",
       "  <thead>\n",
       "    <tr style=\"text-align: right;\">\n",
       "      <th></th>\n",
       "      <th>建筑面积</th>\n",
       "      <th>室</th>\n",
       "      <th>厅</th>\n",
       "      <th>卫</th>\n",
       "    </tr>\n",
       "  </thead>\n",
       "  <tbody>\n",
       "    <tr>\n",
       "      <th>2502</th>\n",
       "      <td>0.269799</td>\n",
       "      <td>-0.430796</td>\n",
       "      <td>0.555222</td>\n",
       "      <td>-0.481978</td>\n",
       "    </tr>\n",
       "    <tr>\n",
       "      <th>2503</th>\n",
       "      <td>0.262806</td>\n",
       "      <td>-0.430796</td>\n",
       "      <td>0.555222</td>\n",
       "      <td>-0.481978</td>\n",
       "    </tr>\n",
       "    <tr>\n",
       "      <th>2504</th>\n",
       "      <td>-0.999360</td>\n",
       "      <td>-0.430796</td>\n",
       "      <td>0.555222</td>\n",
       "      <td>-0.481978</td>\n",
       "    </tr>\n",
       "    <tr>\n",
       "      <th>2505</th>\n",
       "      <td>-0.300028</td>\n",
       "      <td>-0.430796</td>\n",
       "      <td>-1.395453</td>\n",
       "      <td>-0.481978</td>\n",
       "    </tr>\n",
       "    <tr>\n",
       "      <th>2506</th>\n",
       "      <td>0.943230</td>\n",
       "      <td>0.947421</td>\n",
       "      <td>0.555222</td>\n",
       "      <td>1.413399</td>\n",
       "    </tr>\n",
       "  </tbody>\n",
       "</table>\n",
       "</div>"
      ],
      "text/plain": [
       "          建筑面积         室         厅         卫\n",
       "2502  0.269799 -0.430796  0.555222 -0.481978\n",
       "2503  0.262806 -0.430796  0.555222 -0.481978\n",
       "2504 -0.999360 -0.430796  0.555222 -0.481978\n",
       "2505 -0.300028 -0.430796 -1.395453 -0.481978\n",
       "2506  0.943230  0.947421  0.555222  1.413399"
      ]
     },
     "execution_count": 65,
     "metadata": {},
     "output_type": "execute_result"
    }
   ],
   "source": [
    "x.tail()"
   ]
  },
  {
   "cell_type": "code",
   "execution_count": 66,
   "id": "3c22849c",
   "metadata": {},
   "outputs": [],
   "source": [
    "data1[u'y_pred'] = linearsvr.predict(x) * std[0] + mean[0]"
   ]
  },
  {
   "cell_type": "code",
   "execution_count": 67,
   "id": "99a1f896",
   "metadata": {},
   "outputs": [
    {
     "data": {
      "text/html": [
       "<div>\n",
       "<style scoped>\n",
       "    .dataframe tbody tr th:only-of-type {\n",
       "        vertical-align: middle;\n",
       "    }\n",
       "\n",
       "    .dataframe tbody tr th {\n",
       "        vertical-align: top;\n",
       "    }\n",
       "\n",
       "    .dataframe thead th {\n",
       "        text-align: right;\n",
       "    }\n",
       "</style>\n",
       "<table border=\"1\" class=\"dataframe\">\n",
       "  <thead>\n",
       "    <tr style=\"text-align: right;\">\n",
       "      <th></th>\n",
       "      <th>总价</th>\n",
       "      <th>y_pred</th>\n",
       "    </tr>\n",
       "  </thead>\n",
       "  <tbody>\n",
       "    <tr>\n",
       "      <th>0</th>\n",
       "      <td>89.0</td>\n",
       "      <td>84.729828</td>\n",
       "    </tr>\n",
       "    <tr>\n",
       "      <th>1</th>\n",
       "      <td>99.8</td>\n",
       "      <td>143.859584</td>\n",
       "    </tr>\n",
       "    <tr>\n",
       "      <th>2</th>\n",
       "      <td>32.0</td>\n",
       "      <td>32.053103</td>\n",
       "    </tr>\n",
       "    <tr>\n",
       "      <th>3</th>\n",
       "      <td>51.5</td>\n",
       "      <td>50.666117</td>\n",
       "    </tr>\n",
       "    <tr>\n",
       "      <th>4</th>\n",
       "      <td>210.0</td>\n",
       "      <td>179.013730</td>\n",
       "    </tr>\n",
       "    <tr>\n",
       "      <th>...</th>\n",
       "      <td>...</td>\n",
       "      <td>...</td>\n",
       "    </tr>\n",
       "    <tr>\n",
       "      <th>2502</th>\n",
       "      <td>75.0</td>\n",
       "      <td>105.842770</td>\n",
       "    </tr>\n",
       "    <tr>\n",
       "      <th>2503</th>\n",
       "      <td>100.0</td>\n",
       "      <td>105.571318</td>\n",
       "    </tr>\n",
       "    <tr>\n",
       "      <th>2504</th>\n",
       "      <td>48.8</td>\n",
       "      <td>56.579239</td>\n",
       "    </tr>\n",
       "    <tr>\n",
       "      <th>2505</th>\n",
       "      <td>NaN</td>\n",
       "      <td>81.832841</td>\n",
       "    </tr>\n",
       "    <tr>\n",
       "      <th>2506</th>\n",
       "      <td>NaN</td>\n",
       "      <td>154.080351</td>\n",
       "    </tr>\n",
       "  </tbody>\n",
       "</table>\n",
       "<p>2507 rows × 2 columns</p>\n",
       "</div>"
      ],
      "text/plain": [
       "         总价      y_pred\n",
       "0      89.0   84.729828\n",
       "1      99.8  143.859584\n",
       "2      32.0   32.053103\n",
       "3      51.5   50.666117\n",
       "4     210.0  179.013730\n",
       "...     ...         ...\n",
       "2502   75.0  105.842770\n",
       "2503  100.0  105.571318\n",
       "2504   48.8   56.579239\n",
       "2505    NaN   81.832841\n",
       "2506    NaN  154.080351\n",
       "\n",
       "[2507 rows x 2 columns]"
      ]
     },
     "execution_count": 67,
     "metadata": {},
     "output_type": "execute_result"
    }
   ],
   "source": [
    "data1[['总价', 'y_pred']]"
   ]
  },
  {
   "cell_type": "code",
   "execution_count": 68,
   "id": "23a36135",
   "metadata": {},
   "outputs": [
    {
     "data": {
      "image/png": "[encoded data removed]",
      "text/plain": [
       "<Figure size 640x480 with 1 Axes>"
      ]
     },
     "metadata": {},
     "output_type": "display_data"
    }
   ],
   "source": [
    "plt.figure()                                 \n",
    "plt.plot(data1[['总价']][2490:], color='r', marker='o',label='真实房价')  \n",
    "plt.plot(data1[['y_pred']][2490:], color='b', marker='*',label='预测房价')\n",
    "plt.xlabel('房子数量')\n",
    "plt.ylabel('房子总价')\n",
    "plt.title(\"预测房价折线图\")              \n",
    "plt.legend()                  \n",
    "plt.grid(axis='y')  \n",
    "plt.show()"
   ]
  }
 ],
 "metadata": {
  "kernelspec": {
   "display_name": "Python 3 (ipykernel)",
   "language": "python",
   "name": "python3"
  },
  "language_info": {
   "codemirror_mode": {
    "name": "ipython",
    "version": 3
   },
   "file_extension": ".py",
   "mimetype": "text/x-python",
   "name": "python",
   "nbconvert_exporter": "python",
   "pygments_lexer": "ipython3",
   "version": "3.9.13"
  }
 },
 "nbformat": 4,
 "nbformat_minor": 5
}
