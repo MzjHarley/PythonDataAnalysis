{
 "cells": [
  {
   "cell_type": "code",
   "execution_count": 1,
   "id": "f92a41c8",
   "metadata": {},
   "outputs": [],
   "source": [
    "import json\n",
    "import random\n",
    "import requests\n",
    "import time\n",
    "import pandas as pd"
   ]
  },
  {
   "cell_type": "code",
   "execution_count": 2,
   "id": "e0367c19",
   "metadata": {},
   "outputs": [],
   "source": [
    "header = {'User-Agent': 'Mozilla/5.0 (Linux; Android 6.0; Nexus 5 Build/MRA58N) AppleWebKit/537.36 (KHTML, like Gecko) Chrome/114.0.0.0 Mobile Safari/537.36 Edg/114.0.1823.43',\n",
    "'Connection': 'keep-alive'}\n",
    "cookies ='Hm_lvt_703e94591e87be68cc8da0da7cbd0be2=1686879004; _lxsdk_cuid=188c1d2e661c8-0323c5e6d7a628-7e565479-144000-188c1d2e661c8; _lx_utm=utm_source%3Dbing%26utm_medium%3Dorganic; uuid_n_v=v1; uuid_n_v.sig=FRxddd2YAJ1gjqdUfeFwe7NJ00g; iuuid=E37519B00BE611EEA1A67349307BAF750576C5334F294ADAB3F072464ABE0CB6; iuuid.sig=hKEcjuHQDOgSDGswVjUR7QG3_gU; webp=true; webp.sig=95QtTJb-iuzhirMSz19_ivGc7OY; ci=235%2C%E5%BC%80%E5%B0%81; ci.sig=JUvv0AtzBKT1TzKKWp5OtYL2tCA; ci=235%2C%E5%BC%80%E5%B0%81; ci.sig=JUvv0AtzBKT1TzKKWp5OtYL2tCA; ci=235%2C%E5%BC%80%E5%B0%81; ci.sig=JUvv0AtzBKT1TzKKWp5OtYL2tCA; featrues=[object Object]; featrues.sig=KbQquuOrr42L3kMHbtKc319ems8; _last_page=c_tbHYp; WEBDFPID=2uvuu39y9643586317500x986v1u9v55811x8u797zx979583uu5xz1v-2002241043889-1686881043252QAOMAKIfd79fef3d01d5e9aadc18ccd4d0c95073253; token=AgGwIZsj-XqSqUwIeGJF7ngHRBGydRwGXpt6jfkelNjo2kd4WtulEwnJdN6ep_yhV74-T3SDTLXw6AAAAAARGQAAe4WChqu1vPXEKUM_9QUDlhB7zD3Dl16XHsJzykukJJARMqh9KMYnQ2h2E0628ijI; uid=3682486173; user.sig=V3Ey6drFRW98qSPN_Pb4iqN-ZZY; token.sig=D977THGwykSdwqPsStzb9UmBn4I; _lxsdk=E37519B00BE611EEA1A67349307BAF750576C5334F294ADAB3F072464ABE0CB6; user=3682486173%2CAgGwIZsj-XqSqUwIeGJF7ngHRBGydRwGXpt6jfkelNjo2kd4WtulEwnJdN6ep_yhV74-T3SDTLXw6AAAAAARGQAAe4WChqu1vPXEKUM_9QUDlhB7zD3Dl16XHsJzykukJJARMqh9KMYnQ2h2E0628ijI; Hm_lpvt_703e94591e87be68cc8da0da7cbd0be2=1686881891'\n",
    "cookie = {}"
   ]
  },
  {
   "cell_type": "code",
   "execution_count": 3,
   "id": "5839f294",
   "metadata": {},
   "outputs": [],
   "source": [
    "for line in cookies.split(';'):\n",
    "    name, value = line.strip().split('=')\n",
    "    cookie[name] = value"
   ]
  },
  {
   "cell_type": "code",
   "execution_count": 4,
   "id": "d4c07a80",
   "metadata": {},
   "outputs": [
    {
     "data": {
      "text/plain": [
       "{'Hm_lvt_703e94591e87be68cc8da0da7cbd0be2': '1686879004',\n",
       " '_lxsdk_cuid': '188c1d2e661c8-0323c5e6d7a628-7e565479-144000-188c1d2e661c8',\n",
       " '_lx_utm': 'utm_source%3Dbing%26utm_medium%3Dorganic',\n",
       " 'uuid_n_v': 'v1',\n",
       " 'uuid_n_v.sig': 'FRxddd2YAJ1gjqdUfeFwe7NJ00g',\n",
       " 'iuuid': 'E37519B00BE611EEA1A67349307BAF750576C5334F294ADAB3F072464ABE0CB6',\n",
       " 'iuuid.sig': 'hKEcjuHQDOgSDGswVjUR7QG3_gU',\n",
       " 'webp': 'true',\n",
       " 'webp.sig': '95QtTJb-iuzhirMSz19_ivGc7OY',\n",
       " 'ci': '235%2C%E5%BC%80%E5%B0%81',\n",
       " 'ci.sig': 'JUvv0AtzBKT1TzKKWp5OtYL2tCA',\n",
       " 'featrues': '[object Object]',\n",
       " 'featrues.sig': 'KbQquuOrr42L3kMHbtKc319ems8',\n",
       " '_last_page': 'c_tbHYp',\n",
       " 'WEBDFPID': '2uvuu39y9643586317500x986v1u9v55811x8u797zx979583uu5xz1v-2002241043889-1686881043252QAOMAKIfd79fef3d01d5e9aadc18ccd4d0c95073253',\n",
       " 'token': 'AgGwIZsj-XqSqUwIeGJF7ngHRBGydRwGXpt6jfkelNjo2kd4WtulEwnJdN6ep_yhV74-T3SDTLXw6AAAAAARGQAAe4WChqu1vPXEKUM_9QUDlhB7zD3Dl16XHsJzykukJJARMqh9KMYnQ2h2E0628ijI',\n",
       " 'uid': '3682486173',\n",
       " 'user.sig': 'V3Ey6drFRW98qSPN_Pb4iqN-ZZY',\n",
       " 'token.sig': 'D977THGwykSdwqPsStzb9UmBn4I',\n",
       " '_lxsdk': 'E37519B00BE611EEA1A67349307BAF750576C5334F294ADAB3F072464ABE0CB6',\n",
       " 'user': '3682486173%2CAgGwIZsj-XqSqUwIeGJF7ngHRBGydRwGXpt6jfkelNjo2kd4WtulEwnJdN6ep_yhV74-T3SDTLXw6AAAAAARGQAAe4WChqu1vPXEKUM_9QUDlhB7zD3Dl16XHsJzykukJJARMqh9KMYnQ2h2E0628ijI',\n",
       " 'Hm_lpvt_703e94591e87be68cc8da0da7cbd0be2': '1686881891'}"
      ]
     },
     "execution_count": 4,
     "metadata": {},
     "output_type": "execute_result"
    }
   ],
   "source": [
    "cookie"
   ]
  },
  {
   "cell_type": "code",
   "execution_count": 5,
   "id": "ea3a2a12",
   "metadata": {},
   "outputs": [],
   "source": [
    "moveName_Id ={'夏洛特烦恼':'246082','羞羞的铁拳':'1198214','西虹市首富':'1212592'}"
   ]
  },
  {
   "cell_type": "code",
   "execution_count": 6,
   "id": "f7a04238",
   "metadata": {},
   "outputs": [
    {
     "name": "stdout",
     "output_type": "stream",
     "text": [
      "夏洛特烦恼\n",
      "over\n",
      "羞羞的铁拳\n",
      "over\n",
      "西虹市首富\n",
      "over\n"
     ]
    }
   ],
   "source": [
    "import warnings\n",
    "warnings.filterwarnings(\"ignore\")\n",
    "for moveName,moveId in moveName_Id.items():\n",
    "    print(moveName)\n",
    "    data = pd.DataFrame(columns=['date','score','city','comment','nick'])\n",
    "    for i in range(0, 10):\n",
    "        j = random.randint(1,10)\n",
    "        try:\n",
    "            time.sleep(random.randint(1, 4))\n",
    "            url= 'http://m.maoyan.com/mmdb/comments/movie/' + moveId + '.json?_v_=yes&offset=' + str(j)#该网址需设备仿真（google,firefox）\n",
    "            html = requests.get(url=url, cookies=cookie, headers=header).content.decode('utf-8')#字符流\n",
    "            cmt_data = json.loads(html)['cmts'] #json将其转换成字典python对象 \n",
    "            hcmt_data = json.loads(html)['hcmts'] \n",
    "            for item in cmt_data:\n",
    "                if 'time' in item.keys() and 'cityName' in item.keys() and 'score' in item.keys() and 'content' in item.keys()and 'nick' in item.keys():\n",
    "                    data = data.append({'date': item['time'].split(' ')[0],\n",
    "                                        'score': item['score'],\n",
    "                                        'city': item['cityName'],\n",
    "                                        'comment': item['content'],\n",
    "                                        'nick': item['nick']}, ignore_index=True)    \n",
    "            for item in hcmt_data:\n",
    "                if 'time' in item.keys() and 'cityName' in item.keys() and 'score' in item.keys() and 'content' in item.keys()and 'nick' in item.keys():\n",
    "                    data = data.append({'date': item['time'].split(' ')[0],\n",
    "                                        'score': item['score'],\n",
    "                                        'city': item['cityName'],\n",
    "                                        'comment': item['content'],\n",
    "                                        'nick': item['nick']}, ignore_index=True)\n",
    "        except:\n",
    "            continue\n",
    "    data.to_excel(moveName + '.xlsx', index=False)\n",
    "    print(\"over\")"
   ]
  }
 ],
 "metadata": {
  "kernelspec": {
   "display_name": "Python 3 (ipykernel)",
   "language": "python",
   "name": "python3"
  },
  "language_info": {
   "codemirror_mode": {
    "name": "ipython",
    "version": 3
   },
   "file_extension": ".py",
   "mimetype": "text/x-python",
   "name": "python",
   "nbconvert_exporter": "python",
   "pygments_lexer": "ipython3",
   "version": "3.9.13"
  }
 },
 "nbformat": 4,
 "nbformat_minor": 5
}
